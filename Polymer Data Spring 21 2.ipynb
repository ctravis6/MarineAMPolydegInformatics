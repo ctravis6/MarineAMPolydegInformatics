{
 "cells": [
  {
   "cell_type": "markdown",
   "metadata": {},
   "source": [
    "# Polymer Data Processing \n",
    "## Importing CSVs and Merge\n",
    "Data Collected from: \n",
    "<ol>\n",
    "<li>Handbook of Polymer Properties - Tm, Tg, MW</li>\n",
    "<li>KHANZA - Structure</li>\n",
    "<li>Polymer Properties Database - Supplemental</li>\n",
    "</ol>\n"
   ]
  },
  {
   "cell_type": "code",
   "execution_count": 1,
   "metadata": {},
   "outputs": [],
   "source": [
    "#Import Packages\n",
    "\n",
    "import matplotlib.pyplot as plt\n",
    "\n",
    "import numpy as np  \n",
    "import os\n",
    "import glob\n",
    "from os import chdir\n",
    "import pandas as pd\n",
    "from sklearn.model_selection import train_test_split\n",
    "import time\n",
    "from os import listdir\n",
    "from os.path import isfile, join\n",
    "import csv\n",
    "import scipy.stats\n",
    "from mpl_toolkits import mplot3d\n",
    "from scipy.stats import norm\n",
    "from scipy.stats import mode\n",
    "from mpl_toolkits.mplot3d import Axes3D\n",
    "%matplotlib inline"
   ]
  },
  {
   "cell_type": "code",
   "execution_count": 2,
   "metadata": {},
   "outputs": [],
   "source": [
    "from tensorflow.keras.callbacks import ReduceLROnPlateau,ModelCheckpoint\n",
    "import tensorflow as tf\n",
    "from tensorflow.keras.preprocessing.image import ImageDataGenerator\n",
    "from sklearn.metrics import confusion_matrix\n",
    "from tensorflow import keras"
   ]
  },
  {
   "cell_type": "markdown",
   "metadata": {},
   "source": [
    "## Melting Point Data"
   ]
  },
  {
   "cell_type": "code",
   "execution_count": 3,
   "metadata": {},
   "outputs": [
    {
     "data": {
      "text/plain": [
       "'/Users/carlytravis/Documents/Research/Arola NUWC Project/Polymers/Melting Points'"
      ]
     },
     "execution_count": 3,
     "metadata": {},
     "output_type": "execute_result"
    }
   ],
   "source": [
    "pwd"
   ]
  },
  {
   "cell_type": "code",
   "execution_count": 4,
   "metadata": {},
   "outputs": [],
   "source": [
    "path = '/Users/carlytravis/Documents/Research/Arola NUWC Project/Polymers/Melting Points/TableDataMP'\n",
    "chdir(path)\n",
    "onlyfiles = [f for f in listdir(path) if isfile(join(path, f))]\n"
   ]
  },
  {
   "cell_type": "code",
   "execution_count": 5,
   "metadata": {},
   "outputs": [
    {
     "name": "stdout",
     "output_type": "stream",
     "text": [
      "['TableData (14).csv', 'TableData (43).csv', 'TableData (02).csv', 'TableData (38).csv', 'TableData (18).csv', 'TableData (22).csv', 'TableData (34).csv', 'TableData (35).csv', 'TableData (23).csv', 'TableData (19).csv', 'TableData (39).csv', 'TableData (03).csv', 'TableData (42).csv', 'TableData (15).csv', 'TableData (08).csv', 'TableData (24).csv', 'TableData (32).csv', 'TableData (12).csv', 'TableData (45).csv', 'TableData (04).csv', 'TableData (28).csv', 'TableData (29).csv', 'TableData (05).csv', 'TableData (44).csv', 'TableData (13).csv', 'TableData (33).csv', 'TableData (25).csv', 'TableData (09).csv', 'TableData (30).csv', 'TableData (26).csv', 'TableData (06).csv', 'TableData (47).csv', 'TableData (10).csv', 'TableData (11).csv', 'TableData (46).csv', 'TableData (07).csv', 'TableData (27).csv', 'TableData (31).csv', 'TableData (41).csv', 'TableData (16).csv', 'TableData (36).csv', 'TableData (20).csv', 'TableData (21).csv', 'TableData (37).csv', 'TableData (17).csv', 'TableData (40).csv']\n"
     ]
    }
   ],
   "source": [
    "extension = 'csv'\n",
    "filenames = [i for i in glob.glob('*.{}'.format(extension))]\n",
    "\n",
    "print(filenames)"
   ]
  },
  {
   "cell_type": "code",
   "execution_count": 7,
   "metadata": {},
   "outputs": [
    {
     "name": "stdout",
     "output_type": "stream",
     "text": [
      "                   CSV\n",
      "0   TableData (14).csv\n",
      "1   TableData (43).csv\n",
      "2   TableData (02).csv\n",
      "3   TableData (38).csv\n",
      "4   TableData (18).csv\n",
      "5   TableData (22).csv\n",
      "6   TableData (34).csv\n",
      "7   TableData (35).csv\n",
      "8   TableData (23).csv\n",
      "9   TableData (19).csv\n",
      "10  TableData (39).csv\n",
      "11  TableData (03).csv\n",
      "12  TableData (42).csv\n",
      "13  TableData (15).csv\n",
      "14  TableData (08).csv\n",
      "15  TableData (24).csv\n",
      "16  TableData (32).csv\n",
      "17  TableData (12).csv\n",
      "18  TableData (45).csv\n",
      "19  TableData (04).csv\n",
      "20  TableData (28).csv\n",
      "21  TableData (29).csv\n",
      "22  TableData (05).csv\n",
      "23  TableData (44).csv\n",
      "24  TableData (13).csv\n",
      "25  TableData (33).csv\n",
      "26  TableData (25).csv\n",
      "27  TableData (09).csv\n",
      "28  TableData (30).csv\n",
      "29  TableData (26).csv\n",
      "30  TableData (06).csv\n",
      "31  TableData (47).csv\n",
      "32  TableData (10).csv\n",
      "33  TableData (11).csv\n",
      "34  TableData (46).csv\n",
      "35  TableData (07).csv\n",
      "36  TableData (27).csv\n",
      "37  TableData (31).csv\n",
      "38  TableData (41).csv\n",
      "39  TableData (16).csv\n",
      "40  TableData (36).csv\n",
      "41  TableData (20).csv\n",
      "42  TableData (21).csv\n",
      "43  TableData (37).csv\n",
      "44  TableData (17).csv\n",
      "45  TableData (40).csv\n"
     ]
    }
   ],
   "source": [
    "df1 = pd.DataFrame(filenames, columns=['CSV'])\n",
    "print(df1)"
   ]
  },
  {
   "cell_type": "code",
   "execution_count": 8,
   "metadata": {},
   "outputs": [
    {
     "name": "stdout",
     "output_type": "stream",
     "text": [
      "(46, 1)\n"
     ]
    }
   ],
   "source": [
    "x = np.shape(df1)\n",
    "rslt_df = df1.sort_values(by='CSV')\n",
    "print((x))"
   ]
  },
  {
   "cell_type": "code",
   "execution_count": 9,
   "metadata": {},
   "outputs": [],
   "source": [
    "df1 = rslt_df.reset_index()\n",
    "del df1['index']"
   ]
  },
  {
   "cell_type": "code",
   "execution_count": 10,
   "metadata": {},
   "outputs": [
    {
     "data": {
      "text/plain": [
       "'/Users/carlytravis/Documents/Research/Arola NUWC Project/Polymers/Melting Points/TableDataMP'"
      ]
     },
     "execution_count": 10,
     "metadata": {},
     "output_type": "execute_result"
    }
   ],
   "source": [
    "pwd"
   ]
  },
  {
   "cell_type": "code",
   "execution_count": 11,
   "metadata": {},
   "outputs": [
    {
     "name": "stdout",
     "output_type": "stream",
     "text": [
      "Index(['polymer', 'synonyms', 'mol.weight', 'mp'], dtype='object')\n"
     ]
    }
   ],
   "source": [
    "df3 = pd.read_csv('TableData (02).csv', sep=';')\n",
    "df3 = df3.reset_index()\n",
    "df3.drop(df3.head(4).index,inplace=True)\n",
    "df3.drop(df3.tail(3).index,inplace=True)\n",
    "df3.drop(df3.iloc[:,4:], axis=1, inplace=True)\n",
    "df3.head()\n",
    "df3 = df3.rename(columns={'level_0':'polymer', 'level_1':'synonyms', 'level_2':'mol.weight', 'level_3':'mp'})\n",
    "keys = df3.keys()\n",
    "print(keys)"
   ]
  },
  {
   "cell_type": "code",
   "execution_count": 12,
   "metadata": {},
   "outputs": [
    {
     "data": {
      "text/plain": [
       "pandas.core.frame.DataFrame"
      ]
     },
     "execution_count": 12,
     "metadata": {},
     "output_type": "execute_result"
    }
   ],
   "source": [
    "frames = df3\n",
    "type(frames)"
   ]
  },
  {
   "cell_type": "code",
   "execution_count": 13,
   "metadata": {},
   "outputs": [
    {
     "data": {
      "text/html": [
       "<div>\n",
       "<style scoped>\n",
       "    .dataframe tbody tr th:only-of-type {\n",
       "        vertical-align: middle;\n",
       "    }\n",
       "\n",
       "    .dataframe tbody tr th {\n",
       "        vertical-align: top;\n",
       "    }\n",
       "\n",
       "    .dataframe thead th {\n",
       "        text-align: right;\n",
       "    }\n",
       "</style>\n",
       "<table border=\"1\" class=\"dataframe\">\n",
       "  <thead>\n",
       "    <tr style=\"text-align: right;\">\n",
       "      <th></th>\n",
       "      <th>polymer</th>\n",
       "      <th>synonyms</th>\n",
       "      <th>mol.weight</th>\n",
       "      <th>mp</th>\n",
       "    </tr>\n",
       "  </thead>\n",
       "  <tbody>\n",
       "    <tr>\n",
       "      <th>0</th>\n",
       "      <td>Poly(2-butenylene hexamethylenediurethane)</td>\n",
       "      <td>NaN</td>\n",
       "      <td>256.3</td>\n",
       "      <td>NaN</td>\n",
       "    </tr>\n",
       "    <tr>\n",
       "      <th>1</th>\n",
       "      <td>Poly(cis-2-butenylene hexamethylenediurethane)</td>\n",
       "      <td>NaN</td>\n",
       "      <td>256.3</td>\n",
       "      <td>136</td>\n",
       "    </tr>\n",
       "    <tr>\n",
       "      <th>2</th>\n",
       "      <td>Poly(trans-2-butene sulfide)</td>\n",
       "      <td>NaN</td>\n",
       "      <td>256.3</td>\n",
       "      <td>177</td>\n",
       "    </tr>\n",
       "    <tr>\n",
       "      <th>3</th>\n",
       "      <td>Poly(4,4'-butylidenediphenylene carbonate)</td>\n",
       "      <td>NaN</td>\n",
       "      <td>268.31</td>\n",
       "      <td>170</td>\n",
       "    </tr>\n",
       "    <tr>\n",
       "      <th>4</th>\n",
       "      <td>Poly[4,4'-(2,2-butylidene)-diphenylene carbonate]</td>\n",
       "      <td>NaN</td>\n",
       "      <td>268.31</td>\n",
       "      <td>222</td>\n",
       "    </tr>\n",
       "  </tbody>\n",
       "</table>\n",
       "</div>"
      ],
      "text/plain": [
       "                                             polymer synonyms mol.weight   mp\n",
       "0         Poly(2-butenylene hexamethylenediurethane)      NaN      256.3  NaN\n",
       "1     Poly(cis-2-butenylene hexamethylenediurethane)      NaN      256.3  136\n",
       "2                       Poly(trans-2-butene sulfide)      NaN      256.3  177\n",
       "3         Poly(4,4'-butylidenediphenylene carbonate)      NaN     268.31  170\n",
       "4  Poly[4,4'-(2,2-butylidene)-diphenylene carbonate]      NaN     268.31  222"
      ]
     },
     "execution_count": 13,
     "metadata": {},
     "output_type": "execute_result"
    }
   ],
   "source": [
    "#combine all files in the list\n",
    "\n",
    "for i in range(0,46): #iterate through datasets\n",
    "    #read each file in list\n",
    "    df2 = pd.read_csv(df1.iloc[i,0], sep=';', dtype={'mp': str})\n",
    "    #reset index\n",
    "    df2 = df2.reset_index()\n",
    "    #drop non-data rows\n",
    "    df2.drop(df2.head(4).index,inplace=True)\n",
    "    df2.drop(df2.tail(3).index,inplace=True)\n",
    "    df2.drop(df2.iloc[:,4:], axis=1, inplace=True)\n",
    "    #set column names\n",
    "    df2 = df2.rename(columns={'level_0':'polymer', 'level_1':'synonyms',\n",
    "                              'level_2':'mol.weight', 'level_3':'mp'})\n",
    "    #merge datasets into one for better analysis\n",
    "    frames = [frames, df2]\n",
    "    frames = pd.concat(frames, axis=0, ignore_index=True)\n",
    "\n",
    "frames.head()"
   ]
  },
  {
   "cell_type": "markdown",
   "metadata": {},
   "source": [
    "# Clean up data"
   ]
  },
  {
   "cell_type": "code",
   "execution_count": 14,
   "metadata": {},
   "outputs": [
    {
     "data": {
      "text/plain": [
       "<class 'str'>    1829\n",
       "Name: mp, dtype: int64"
      ]
     },
     "execution_count": 14,
     "metadata": {},
     "output_type": "execute_result"
    }
   ],
   "source": [
    "#This defines dataframe\n",
    "\n",
    "#remove polymer NaN values\n",
    "df_d = frames.dropna(subset=['mp'])\n",
    "df_d.head()\n",
    "\n",
    "\n",
    "#count instances\n",
    "df_d['mp'].apply(type).value_counts()\n"
   ]
  },
  {
   "cell_type": "code",
   "execution_count": 15,
   "metadata": {},
   "outputs": [],
   "source": [
    "#define a clean-up function\n",
    "def clean_value(x):\n",
    "    \"\"\" If the value is a string, then remove extra symbol and delimiters\n",
    "    otherwise, the value is numeric and can be converted\n",
    "    \"\"\"\n",
    "    if isinstance(x, str):\n",
    "        return(x.replace('~ ', '').replace('>', ''))\n",
    "    return(x)"
   ]
  },
  {
   "cell_type": "code",
   "execution_count": 16,
   "metadata": {},
   "outputs": [
    {
     "name": "stdout",
     "output_type": "stream",
     "text": [
      "Empty DataFrame\n",
      "Columns: [polymer, synonyms, mol.weight, mp]\n",
      "Index: []\n"
     ]
    }
   ],
   "source": [
    "#clean up extra symbols with html in mp\n",
    "df_d = df_d.loc[df_d['mp'] != \"htmlentities('\"]\n",
    "#check to see its gone\n",
    "print(df_d[df_d['mp'].str.contains('html')])"
   ]
  },
  {
   "cell_type": "code",
   "execution_count": 17,
   "metadata": {},
   "outputs": [
    {
     "data": {
      "text/html": [
       "<div>\n",
       "<style scoped>\n",
       "    .dataframe tbody tr th:only-of-type {\n",
       "        vertical-align: middle;\n",
       "    }\n",
       "\n",
       "    .dataframe tbody tr th {\n",
       "        vertical-align: top;\n",
       "    }\n",
       "\n",
       "    .dataframe thead th {\n",
       "        text-align: right;\n",
       "    }\n",
       "</style>\n",
       "<table border=\"1\" class=\"dataframe\">\n",
       "  <thead>\n",
       "    <tr style=\"text-align: right;\">\n",
       "      <th></th>\n",
       "      <th>polymer</th>\n",
       "      <th>synonyms</th>\n",
       "      <th>mol.weight</th>\n",
       "      <th>mp</th>\n",
       "    </tr>\n",
       "  </thead>\n",
       "  <tbody>\n",
       "    <tr>\n",
       "      <th>441</th>\n",
       "      <td>Poly(cis-1-butoxy-2-methylethylene)</td>\n",
       "      <td>(erythro-di-isotactic)</td>\n",
       "      <td>114.19</td>\n",
       "      <td>100</td>\n",
       "    </tr>\n",
       "    <tr>\n",
       "      <th>442</th>\n",
       "      <td>Poly(trans-1-butoxy-2-methylethylene)</td>\n",
       "      <td>(threo-di-isotactic)</td>\n",
       "      <td>114.19</td>\n",
       "      <td>100</td>\n",
       "    </tr>\n",
       "    <tr>\n",
       "      <th>443</th>\n",
       "      <td>Poly(cis-1-tert-butoxy-2-methylethylene)</td>\n",
       "      <td>(erythro-di-isotactic)</td>\n",
       "      <td>114.19</td>\n",
       "      <td>&gt; 250</td>\n",
       "    </tr>\n",
       "    <tr>\n",
       "      <th>445</th>\n",
       "      <td>Poly(cis-1-ethoxy-2-methylethylene)</td>\n",
       "      <td>(erythro-di-isotactic)</td>\n",
       "      <td>86.13</td>\n",
       "      <td>191</td>\n",
       "    </tr>\n",
       "    <tr>\n",
       "      <th>446</th>\n",
       "      <td>Poly(cis-1-ethoxy-2-methylethylene)</td>\n",
       "      <td>(erythro-di-isotactic)</td>\n",
       "      <td>86.13</td>\n",
       "      <td>207</td>\n",
       "    </tr>\n",
       "    <tr>\n",
       "      <th>447</th>\n",
       "      <td>Poly(trans-1-ethoxy-2-methylethylene)</td>\n",
       "      <td>(threo-di-isotactic)</td>\n",
       "      <td>86.13</td>\n",
       "      <td>230</td>\n",
       "    </tr>\n",
       "    <tr>\n",
       "      <th>448</th>\n",
       "      <td>Poly(trans-1-ethoxy-2-methylethylene)</td>\n",
       "      <td>(threo-di-isotactic)</td>\n",
       "      <td>86.13</td>\n",
       "      <td>243</td>\n",
       "    </tr>\n",
       "    <tr>\n",
       "      <th>450</th>\n",
       "      <td>Poly(cis-1-isopropoxy-2-methylethylene)</td>\n",
       "      <td>(erythro-di-isotactic)</td>\n",
       "      <td>100.16</td>\n",
       "      <td>204</td>\n",
       "    </tr>\n",
       "    <tr>\n",
       "      <th>451</th>\n",
       "      <td>Poly(trans-1-isopropoxy-2-methylethylene)</td>\n",
       "      <td>(threo-di-isotactic)</td>\n",
       "      <td>100.16</td>\n",
       "      <td>211</td>\n",
       "    </tr>\n",
       "    <tr>\n",
       "      <th>452</th>\n",
       "      <td>Poly(cis- or trans-1-methoxy-2-methylethylene)</td>\n",
       "      <td>(threo-di-isotactic)</td>\n",
       "      <td>72.11</td>\n",
       "      <td>230</td>\n",
       "    </tr>\n",
       "    <tr>\n",
       "      <th>453</th>\n",
       "      <td>Poly(cis- or trans-1-methoxy-2-methylethylene)</td>\n",
       "      <td>(threo-di-isotactic)</td>\n",
       "      <td>72.11</td>\n",
       "      <td>287</td>\n",
       "    </tr>\n",
       "    <tr>\n",
       "      <th>454</th>\n",
       "      <td>Poly(cis- or trans-1-methoxy-2-methylethylene)</td>\n",
       "      <td>(threo-di-isotactic)</td>\n",
       "      <td>72.11</td>\n",
       "      <td>210</td>\n",
       "    </tr>\n",
       "    <tr>\n",
       "      <th>612</th>\n",
       "      <td>Poly(fluoromethylethylene oxide)</td>\n",
       "      <td>Poly(epifluorohydrin)</td>\n",
       "      <td>76.07</td>\n",
       "      <td>68</td>\n",
       "    </tr>\n",
       "    <tr>\n",
       "      <th>711</th>\n",
       "      <td>Poly(1,4-β-D-glucose tricaprate)</td>\n",
       "      <td>cellulose tricaprate</td>\n",
       "      <td>624.9</td>\n",
       "      <td>88</td>\n",
       "    </tr>\n",
       "    <tr>\n",
       "      <th>712</th>\n",
       "      <td>Poly(1,4-β-D-glucose tricaproate)</td>\n",
       "      <td>cellulose tricaproate</td>\n",
       "      <td>456.58</td>\n",
       "      <td>94</td>\n",
       "    </tr>\n",
       "    <tr>\n",
       "      <th>714</th>\n",
       "      <td>Poly(1,4-β-D-glucose triheptylate)</td>\n",
       "      <td>cellulose triheptylate</td>\n",
       "      <td>498.66</td>\n",
       "      <td>88</td>\n",
       "    </tr>\n",
       "    <tr>\n",
       "      <th>715</th>\n",
       "      <td>Poly(1,4-β-D-glucose trilaurate)</td>\n",
       "      <td>cellulose trilaurate</td>\n",
       "      <td>709.06</td>\n",
       "      <td>91</td>\n",
       "    </tr>\n",
       "    <tr>\n",
       "      <th>716</th>\n",
       "      <td>Poly(1,4-β-D-glucose trimyristate)</td>\n",
       "      <td>cellulose trimyristate</td>\n",
       "      <td>793.22</td>\n",
       "      <td>106</td>\n",
       "    </tr>\n",
       "    <tr>\n",
       "      <th>718</th>\n",
       "      <td>Poly(1,4-β-D-glucose tripalmitate)</td>\n",
       "      <td>cellulose tripalmitate</td>\n",
       "      <td>877.38</td>\n",
       "      <td>105</td>\n",
       "    </tr>\n",
       "    <tr>\n",
       "      <th>720</th>\n",
       "      <td>Poly(1,4-β-D-glucose trivalerate)</td>\n",
       "      <td>cellulose trivalerate</td>\n",
       "      <td>414.5</td>\n",
       "      <td>122</td>\n",
       "    </tr>\n",
       "    <tr>\n",
       "      <th>727</th>\n",
       "      <td>Poly(5-methyl-1,3-heptadiene), 1,4-</td>\n",
       "      <td>isotactic</td>\n",
       "      <td>110.2</td>\n",
       "      <td>180</td>\n",
       "    </tr>\n",
       "    <tr>\n",
       "      <th>740</th>\n",
       "      <td>Poly(trans-heptamethylene 4-octenediamide)</td>\n",
       "      <td>I.</td>\n",
       "      <td>266.38</td>\n",
       "      <td>261</td>\n",
       "    </tr>\n",
       "    <tr>\n",
       "      <th>741</th>\n",
       "      <td>Poly(heptamethylene 4-octenediamide)</td>\n",
       "      <td>II.</td>\n",
       "      <td>266.38</td>\n",
       "      <td>249</td>\n",
       "    </tr>\n",
       "    <tr>\n",
       "      <th>1075</th>\n",
       "      <td>Poly(2,2-bischloromethyl-3-hydroxypropionic acid)</td>\n",
       "      <td>Poly(2,2-bischloromethyl-propiolactone)</td>\n",
       "      <td>169.01</td>\n",
       "      <td>302</td>\n",
       "    </tr>\n",
       "    <tr>\n",
       "      <th>1077</th>\n",
       "      <td>Poly(2,2-dibutyl-3-hydroxypropionic acid)</td>\n",
       "      <td>Poly(2,2-dibutyl-propiolactone)</td>\n",
       "      <td>184.28</td>\n",
       "      <td>245</td>\n",
       "    </tr>\n",
       "    <tr>\n",
       "      <th>1082</th>\n",
       "      <td>Poly(1,1-dichloro-3-ethyl-3-hydroxypropionic a...</td>\n",
       "      <td>Poly(1,1-dichloro-3-ethyl-propiolactone) Poly(...</td>\n",
       "      <td>169.01</td>\n",
       "      <td>235</td>\n",
       "    </tr>\n",
       "    <tr>\n",
       "      <th>1173</th>\n",
       "      <td>Poly(methacrylic acid) tert-butyl ester</td>\n",
       "      <td>isotactic</td>\n",
       "      <td>142.12</td>\n",
       "      <td>104</td>\n",
       "    </tr>\n",
       "    <tr>\n",
       "      <th>1174</th>\n",
       "      <td>Poly(methacrylic acid) tert-butyl ester</td>\n",
       "      <td>syndiotactic</td>\n",
       "      <td>142.12</td>\n",
       "      <td>165</td>\n",
       "    </tr>\n",
       "    <tr>\n",
       "      <th>1268</th>\n",
       "      <td>Poly(trans-nonamethylene 4-octenediamide)</td>\n",
       "      <td>II.</td>\n",
       "      <td>294.44</td>\n",
       "      <td>248</td>\n",
       "    </tr>\n",
       "    <tr>\n",
       "      <th>1539</th>\n",
       "      <td>Poly(trans-pentamethylene 4-octenediamide)</td>\n",
       "      <td>II.</td>\n",
       "      <td>238.33</td>\n",
       "      <td>258</td>\n",
       "    </tr>\n",
       "    <tr>\n",
       "      <th>1803</th>\n",
       "      <td>Poly(2,5-dimethyl-3-phenylpropene)</td>\n",
       "      <td>Poly(2,5-dimethyl-allylbenzene)</td>\n",
       "      <td>146.23</td>\n",
       "      <td>338</td>\n",
       "    </tr>\n",
       "    <tr>\n",
       "      <th>1804</th>\n",
       "      <td>Poly(3,4-dimethyl-3-phenylpropene)</td>\n",
       "      <td>Poly(3,4-dimethyl-allylbenzene)</td>\n",
       "      <td>146.23</td>\n",
       "      <td>275</td>\n",
       "    </tr>\n",
       "    <tr>\n",
       "      <th>1805</th>\n",
       "      <td>Poly(3,5-dimethyl-3-phenylpropene)</td>\n",
       "      <td>Poly(3,5-dimethyl-allylbenzene)</td>\n",
       "      <td>146.23</td>\n",
       "      <td>252</td>\n",
       "    </tr>\n",
       "    <tr>\n",
       "      <th>1863</th>\n",
       "      <td>Poly(p-tert-butyl-styrene)</td>\n",
       "      <td>syndiotactic</td>\n",
       "      <td>160.26</td>\n",
       "      <td>310</td>\n",
       "    </tr>\n",
       "    <tr>\n",
       "      <th>1864</th>\n",
       "      <td>Poly(m-chloro-styrene)</td>\n",
       "      <td>isotactic</td>\n",
       "      <td>138.6</td>\n",
       "      <td>124</td>\n",
       "    </tr>\n",
       "    <tr>\n",
       "      <th>1865</th>\n",
       "      <td>Poly(m-chloro-styrene)</td>\n",
       "      <td>syndiotactic</td>\n",
       "      <td>138.6</td>\n",
       "      <td>192</td>\n",
       "    </tr>\n",
       "    <tr>\n",
       "      <th>1866</th>\n",
       "      <td>Poly(p-chloro-styrene)</td>\n",
       "      <td>isotactic</td>\n",
       "      <td>138.6</td>\n",
       "      <td>165</td>\n",
       "    </tr>\n",
       "    <tr>\n",
       "      <th>1867</th>\n",
       "      <td>Poly(p-chloro-styrene)</td>\n",
       "      <td>syndiotactic</td>\n",
       "      <td>138.6</td>\n",
       "      <td>299</td>\n",
       "    </tr>\n",
       "    <tr>\n",
       "      <th>1868</th>\n",
       "      <td>Poly(2,4-dimethyl-styrene)</td>\n",
       "      <td>isotactic</td>\n",
       "      <td>132.21</td>\n",
       "      <td>310</td>\n",
       "    </tr>\n",
       "    <tr>\n",
       "      <th>1869</th>\n",
       "      <td>Poly(2,4-dimethyl-styrene)</td>\n",
       "      <td>isotactic</td>\n",
       "      <td>132.21</td>\n",
       "      <td>350</td>\n",
       "    </tr>\n",
       "    <tr>\n",
       "      <th>1870</th>\n",
       "      <td>Poly(2,5-dimethyl-styrene)</td>\n",
       "      <td>isotactic</td>\n",
       "      <td>132.21</td>\n",
       "      <td>330</td>\n",
       "    </tr>\n",
       "    <tr>\n",
       "      <th>1871</th>\n",
       "      <td>Poly(2,5-dimethyl-styrene)</td>\n",
       "      <td>isotactic</td>\n",
       "      <td>132.21</td>\n",
       "      <td>340</td>\n",
       "    </tr>\n",
       "    <tr>\n",
       "      <th>1872</th>\n",
       "      <td>Poly(styrene)</td>\n",
       "      <td>isotactic</td>\n",
       "      <td>132.21</td>\n",
       "      <td>240</td>\n",
       "    </tr>\n",
       "    <tr>\n",
       "      <th>1873</th>\n",
       "      <td>Poly(3,5-dimethyl-styrene)</td>\n",
       "      <td>isotactic</td>\n",
       "      <td>132.21</td>\n",
       "      <td>290</td>\n",
       "    </tr>\n",
       "    <tr>\n",
       "      <th>1875</th>\n",
       "      <td>Poly(m-fluoro-styrene)</td>\n",
       "      <td>isotactic</td>\n",
       "      <td>122.14</td>\n",
       "      <td>250</td>\n",
       "    </tr>\n",
       "    <tr>\n",
       "      <th>1876</th>\n",
       "      <td>Poly(m-fluoro-styrene)</td>\n",
       "      <td>syndiotactic</td>\n",
       "      <td>122.14</td>\n",
       "      <td>275</td>\n",
       "    </tr>\n",
       "    <tr>\n",
       "      <th>1878</th>\n",
       "      <td>Poly(p-fluoro-styrene)</td>\n",
       "      <td>syndiotactic</td>\n",
       "      <td>122.14</td>\n",
       "      <td>322</td>\n",
       "    </tr>\n",
       "    <tr>\n",
       "      <th>1879</th>\n",
       "      <td>Poly(α-methyl- p-isopropyl-styrene)</td>\n",
       "      <td>isotactic</td>\n",
       "      <td>160.26</td>\n",
       "      <td>203</td>\n",
       "    </tr>\n",
       "    <tr>\n",
       "      <th>1884</th>\n",
       "      <td>Poly(m-methyl-styrene)</td>\n",
       "      <td>syndiotactic</td>\n",
       "      <td>118.18</td>\n",
       "      <td>206</td>\n",
       "    </tr>\n",
       "    <tr>\n",
       "      <th>1887</th>\n",
       "      <td>Poly(β-nitro-styrene)</td>\n",
       "      <td>isotactic</td>\n",
       "      <td>149.15</td>\n",
       "      <td>285</td>\n",
       "    </tr>\n",
       "    <tr>\n",
       "      <th>1888</th>\n",
       "      <td>Poly(p-trifluoroacetyl-styrene)</td>\n",
       "      <td>isotactic</td>\n",
       "      <td>200.16</td>\n",
       "      <td>178</td>\n",
       "    </tr>\n",
       "  </tbody>\n",
       "</table>\n",
       "</div>"
      ],
      "text/plain": [
       "                                                polymer  \\\n",
       "441                 Poly(cis-1-butoxy-2-methylethylene)   \n",
       "442               Poly(trans-1-butoxy-2-methylethylene)   \n",
       "443            Poly(cis-1-tert-butoxy-2-methylethylene)   \n",
       "445                 Poly(cis-1-ethoxy-2-methylethylene)   \n",
       "446                 Poly(cis-1-ethoxy-2-methylethylene)   \n",
       "447               Poly(trans-1-ethoxy-2-methylethylene)   \n",
       "448               Poly(trans-1-ethoxy-2-methylethylene)   \n",
       "450             Poly(cis-1-isopropoxy-2-methylethylene)   \n",
       "451           Poly(trans-1-isopropoxy-2-methylethylene)   \n",
       "452      Poly(cis- or trans-1-methoxy-2-methylethylene)   \n",
       "453      Poly(cis- or trans-1-methoxy-2-methylethylene)   \n",
       "454      Poly(cis- or trans-1-methoxy-2-methylethylene)   \n",
       "612                    Poly(fluoromethylethylene oxide)   \n",
       "711                    Poly(1,4-β-D-glucose tricaprate)   \n",
       "712                   Poly(1,4-β-D-glucose tricaproate)   \n",
       "714                  Poly(1,4-β-D-glucose triheptylate)   \n",
       "715                    Poly(1,4-β-D-glucose trilaurate)   \n",
       "716                  Poly(1,4-β-D-glucose trimyristate)   \n",
       "718                  Poly(1,4-β-D-glucose tripalmitate)   \n",
       "720                   Poly(1,4-β-D-glucose trivalerate)   \n",
       "727                 Poly(5-methyl-1,3-heptadiene), 1,4-   \n",
       "740          Poly(trans-heptamethylene 4-octenediamide)   \n",
       "741                Poly(heptamethylene 4-octenediamide)   \n",
       "1075  Poly(2,2-bischloromethyl-3-hydroxypropionic acid)   \n",
       "1077          Poly(2,2-dibutyl-3-hydroxypropionic acid)   \n",
       "1082  Poly(1,1-dichloro-3-ethyl-3-hydroxypropionic a...   \n",
       "1173            Poly(methacrylic acid) tert-butyl ester   \n",
       "1174            Poly(methacrylic acid) tert-butyl ester   \n",
       "1268          Poly(trans-nonamethylene 4-octenediamide)   \n",
       "1539         Poly(trans-pentamethylene 4-octenediamide)   \n",
       "1803                 Poly(2,5-dimethyl-3-phenylpropene)   \n",
       "1804                 Poly(3,4-dimethyl-3-phenylpropene)   \n",
       "1805                 Poly(3,5-dimethyl-3-phenylpropene)   \n",
       "1863                         Poly(p-tert-butyl-styrene)   \n",
       "1864                             Poly(m-chloro-styrene)   \n",
       "1865                             Poly(m-chloro-styrene)   \n",
       "1866                             Poly(p-chloro-styrene)   \n",
       "1867                             Poly(p-chloro-styrene)   \n",
       "1868                         Poly(2,4-dimethyl-styrene)   \n",
       "1869                         Poly(2,4-dimethyl-styrene)   \n",
       "1870                         Poly(2,5-dimethyl-styrene)   \n",
       "1871                         Poly(2,5-dimethyl-styrene)   \n",
       "1872                                      Poly(styrene)   \n",
       "1873                         Poly(3,5-dimethyl-styrene)   \n",
       "1875                             Poly(m-fluoro-styrene)   \n",
       "1876                             Poly(m-fluoro-styrene)   \n",
       "1878                             Poly(p-fluoro-styrene)   \n",
       "1879                Poly(α-methyl- p-isopropyl-styrene)   \n",
       "1884                             Poly(m-methyl-styrene)   \n",
       "1887                              Poly(β-nitro-styrene)   \n",
       "1888                    Poly(p-trifluoroacetyl-styrene)   \n",
       "\n",
       "                                               synonyms mol.weight     mp  \n",
       "441                              (erythro-di-isotactic)     114.19    100  \n",
       "442                                (threo-di-isotactic)     114.19    100  \n",
       "443                              (erythro-di-isotactic)     114.19  > 250  \n",
       "445                              (erythro-di-isotactic)      86.13    191  \n",
       "446                              (erythro-di-isotactic)      86.13    207  \n",
       "447                                (threo-di-isotactic)      86.13    230  \n",
       "448                                (threo-di-isotactic)      86.13    243  \n",
       "450                              (erythro-di-isotactic)     100.16    204  \n",
       "451                                (threo-di-isotactic)     100.16    211  \n",
       "452                                (threo-di-isotactic)      72.11    230  \n",
       "453                                (threo-di-isotactic)      72.11    287  \n",
       "454                                (threo-di-isotactic)      72.11    210  \n",
       "612                               Poly(epifluorohydrin)      76.07     68  \n",
       "711                                cellulose tricaprate      624.9     88  \n",
       "712                               cellulose tricaproate     456.58     94  \n",
       "714                              cellulose triheptylate     498.66     88  \n",
       "715                                cellulose trilaurate     709.06     91  \n",
       "716                              cellulose trimyristate     793.22    106  \n",
       "718                              cellulose tripalmitate     877.38    105  \n",
       "720                               cellulose trivalerate      414.5    122  \n",
       "727                                           isotactic      110.2    180  \n",
       "740                                                  I.     266.38    261  \n",
       "741                                                 II.     266.38    249  \n",
       "1075            Poly(2,2-bischloromethyl-propiolactone)     169.01    302  \n",
       "1077                    Poly(2,2-dibutyl-propiolactone)     184.28    245  \n",
       "1082  Poly(1,1-dichloro-3-ethyl-propiolactone) Poly(...     169.01    235  \n",
       "1173                                          isotactic     142.12    104  \n",
       "1174                                       syndiotactic     142.12    165  \n",
       "1268                                                II.     294.44    248  \n",
       "1539                                                II.     238.33    258  \n",
       "1803                    Poly(2,5-dimethyl-allylbenzene)     146.23    338  \n",
       "1804                    Poly(3,4-dimethyl-allylbenzene)     146.23    275  \n",
       "1805                    Poly(3,5-dimethyl-allylbenzene)     146.23    252  \n",
       "1863                                       syndiotactic     160.26    310  \n",
       "1864                                          isotactic      138.6    124  \n",
       "1865                                       syndiotactic      138.6    192  \n",
       "1866                                          isotactic      138.6    165  \n",
       "1867                                       syndiotactic      138.6    299  \n",
       "1868                                          isotactic     132.21    310  \n",
       "1869                                          isotactic     132.21    350  \n",
       "1870                                          isotactic     132.21    330  \n",
       "1871                                          isotactic     132.21    340  \n",
       "1872                                          isotactic     132.21    240  \n",
       "1873                                          isotactic     132.21    290  \n",
       "1875                                          isotactic     122.14    250  \n",
       "1876                                       syndiotactic     122.14    275  \n",
       "1878                                       syndiotactic     122.14    322  \n",
       "1879                                          isotactic     160.26    203  \n",
       "1884                                       syndiotactic     118.18    206  \n",
       "1887                                          isotactic     149.15    285  \n",
       "1888                                          isotactic     200.16    178  "
      ]
     },
     "execution_count": 17,
     "metadata": {},
     "output_type": "execute_result"
    }
   ],
   "source": [
    "df_d[df_d['synonyms'].notnull()]\n"
   ]
  },
  {
   "cell_type": "code",
   "execution_count": 18,
   "metadata": {},
   "outputs": [
    {
     "name": "stdout",
     "output_type": "stream",
     "text": [
      "<class 'str'>    1827\n",
      "Name: mp, dtype: int64\n"
     ]
    },
    {
     "data": {
      "text/html": [
       "<div>\n",
       "<style scoped>\n",
       "    .dataframe tbody tr th:only-of-type {\n",
       "        vertical-align: middle;\n",
       "    }\n",
       "\n",
       "    .dataframe tbody tr th {\n",
       "        vertical-align: top;\n",
       "    }\n",
       "\n",
       "    .dataframe thead th {\n",
       "        text-align: right;\n",
       "    }\n",
       "</style>\n",
       "<table border=\"1\" class=\"dataframe\">\n",
       "  <thead>\n",
       "    <tr style=\"text-align: right;\">\n",
       "      <th></th>\n",
       "      <th>polymer</th>\n",
       "      <th>synonyms</th>\n",
       "      <th>mol.weight</th>\n",
       "      <th>mp</th>\n",
       "    </tr>\n",
       "  </thead>\n",
       "  <tbody>\n",
       "    <tr>\n",
       "      <th>1</th>\n",
       "      <td>Poly(cis-2-butenylene hexamethylenediurethane)</td>\n",
       "      <td>NaN</td>\n",
       "      <td>256.3</td>\n",
       "      <td>136</td>\n",
       "    </tr>\n",
       "    <tr>\n",
       "      <th>2</th>\n",
       "      <td>Poly(trans-2-butene sulfide)</td>\n",
       "      <td>NaN</td>\n",
       "      <td>256.3</td>\n",
       "      <td>177</td>\n",
       "    </tr>\n",
       "    <tr>\n",
       "      <th>3</th>\n",
       "      <td>Poly(4,4'-butylidenediphenylene carbonate)</td>\n",
       "      <td>NaN</td>\n",
       "      <td>268.31</td>\n",
       "      <td>170</td>\n",
       "    </tr>\n",
       "    <tr>\n",
       "      <th>4</th>\n",
       "      <td>Poly[4,4'-(2,2-butylidene)-diphenylene carbonate]</td>\n",
       "      <td>NaN</td>\n",
       "      <td>268.31</td>\n",
       "      <td>222</td>\n",
       "    </tr>\n",
       "    <tr>\n",
       "      <th>11</th>\n",
       "      <td>Poly(caprylaldehyde)</td>\n",
       "      <td>NaN</td>\n",
       "      <td>128.22</td>\n",
       "      <td>35</td>\n",
       "    </tr>\n",
       "  </tbody>\n",
       "</table>\n",
       "</div>"
      ],
      "text/plain": [
       "                                              polymer synonyms mol.weight   mp\n",
       "1      Poly(cis-2-butenylene hexamethylenediurethane)      NaN      256.3  136\n",
       "2                        Poly(trans-2-butene sulfide)      NaN      256.3  177\n",
       "3          Poly(4,4'-butylidenediphenylene carbonate)      NaN     268.31  170\n",
       "4   Poly[4,4'-(2,2-butylidene)-diphenylene carbonate]      NaN     268.31  222\n",
       "11                               Poly(caprylaldehyde)      NaN     128.22   35"
      ]
     },
     "execution_count": 18,
     "metadata": {},
     "output_type": "execute_result"
    }
   ],
   "source": [
    "#remove extra symbols\n",
    "df_d['mp'] = df_d['mp'].str.replace('>','').str.replace('D','')\n",
    "print(df_d['mp'].apply(type).value_counts())\n",
    "df_d.head()"
   ]
  },
  {
   "cell_type": "code",
   "execution_count": 19,
   "metadata": {},
   "outputs": [
    {
     "name": "stdout",
     "output_type": "stream",
     "text": [
      "        mol.weight           mp\n",
      "count  1825.000000  1827.000000\n",
      "mean    309.622917   185.296661\n",
      "std     119.232722    99.331212\n",
      "min      42.080000   -40.000000\n",
      "25%     230.270000   113.000000\n",
      "50%     302.200000   186.000000\n",
      "75%     378.620000   248.500000\n",
      "max    1001.500000   881.000000\n"
     ]
    }
   ],
   "source": [
    "#convert to numeric\n",
    "df_d['mp'] = df_d['mp'].astype('float')\n",
    "df_d['mol.weight'] = df_d['mol.weight'].astype('float')\n",
    "print(df_d.describe())"
   ]
  },
  {
   "cell_type": "code",
   "execution_count": 20,
   "metadata": {},
   "outputs": [
    {
     "name": "stdout",
     "output_type": "stream",
     "text": [
      "(1827,)\n",
      "(1827,)\n"
     ]
    },
    {
     "data": {
      "text/plain": [
       "pandas.core.series.Series"
      ]
     },
     "execution_count": 20,
     "metadata": {},
     "output_type": "execute_result"
    }
   ],
   "source": [
    "#extract values\n",
    "mw = df_d['mol.weight']\n",
    "mp = df_d['mp']\n",
    "print(mw.shape)\n",
    "print(mp.shape)\n",
    "type(mw)"
   ]
  },
  {
   "cell_type": "code",
   "execution_count": 21,
   "metadata": {},
   "outputs": [
    {
     "name": "stdout",
     "output_type": "stream",
     "text": [
      "range of melting points: -40.0 881.0\n",
      "range of mol.weight: 42.08 1001.5\n"
     ]
    }
   ],
   "source": [
    "#range of mp and mol.weight for df_d\n",
    "print(\"range of melting points:\", df_d['mp'].min(), df_d['mp'].max())\n",
    "print(\"range of mol.weight:\", df_d['mol.weight'].min(), df_d['mol.weight'].max())\n"
   ]
  },
  {
   "cell_type": "code",
   "execution_count": 22,
   "metadata": {},
   "outputs": [
    {
     "name": "stderr",
     "output_type": "stream",
     "text": [
      "/var/folders/ch/g3s490l17b78nnf3_r0mjqrw0000gn/T/ipykernel_2386/2795816116.py:9: FutureWarning: Indexing with multiple keys (implicitly converted to a tuple of keys) will be deprecated, use a list instead.\n",
      "  df_n = df_n.groupby('polymer')['mp','mol.weight'].mean().reset_index()\n"
     ]
    },
    {
     "data": {
      "text/plain": [
       "(1413, 3)"
      ]
     },
     "execution_count": 22,
     "metadata": {},
     "output_type": "execute_result"
    }
   ],
   "source": [
    "#Remove 50 > mp > 350 \n",
    "\n",
    "#copy df_d\n",
    "#df_d = df_d.drop_duplicates(subset=['polymer'])\n",
    "df_n = df_d\n",
    "df_n = df_n[df_n['mp'] < 350] \n",
    "df_n = df_n[df_n['mp'] > 50] \n",
    "#group duplicates and average them\n",
    "df_n = df_n.groupby('polymer')['mp','mol.weight'].mean().reset_index()\n",
    "df_n.shape"
   ]
  },
  {
   "cell_type": "code",
   "execution_count": 25,
   "metadata": {},
   "outputs": [],
   "source": [
    "#Export progress to csv\n",
    "df_n.to_csv(r'/Users/carlytravis/Documents/Research/Arola NUWC Project/Polymers/Melting Points/Exports/MeltingPointData.csv',index = False, header=True)\n",
    "df_d.to_csv(r'/Users/carlytravis/Documents/Research/Arola NUWC Project/Polymers/Melting Points/Exports/MeltingPointDataRaw.csv',index = False, header=True)"
   ]
  },
  {
   "cell_type": "markdown",
   "metadata": {},
   "source": [
    "# Glass Transition"
   ]
  },
  {
   "cell_type": "code",
   "execution_count": 31,
   "metadata": {},
   "outputs": [
    {
     "name": "stdout",
     "output_type": "stream",
     "text": [
      "['TableData (14).csv', 'TableData (43).csv', 'TableData (02).csv', 'TableData (38).csv', 'TableData (18).csv', 'TableData (22).csv', 'TableData (34).csv', 'TableData (35).csv', 'TableData (23).csv', 'TableData (19).csv', 'TableData (39).csv', 'TableData (03).csv', 'TableData (42).csv', 'TableData (15).csv', 'TableData (08).csv', 'TableData (24).csv', 'TableData (32).csv', 'TableData (12).csv', 'TableData (45).csv', 'TableData (04).csv', 'TableData (28).csv', 'TableData (29).csv', 'TableData (05).csv', 'TableData (44).csv', 'TableData (13).csv', 'TableData (33).csv', 'TableData (25).csv', 'TableData (09).csv', 'TableData (30).csv', 'TableData (26).csv', 'TableData (06).csv', 'TableData (10).csv', 'TableData (11).csv', 'TableData (07).csv', 'TableData (27).csv', 'TableData (31).csv', 'TableData (00).csv', 'TableData (41).csv', 'TableData (16).csv', 'TableData (36).csv', 'TableData (20).csv', 'TableData (21).csv', 'TableData (37).csv', 'TableData (17).csv', 'TableData (40).csv', 'TableData (01).csv']\n"
     ]
    }
   ],
   "source": [
    "#Repeat Process\n",
    "path1 = '/Users/carlytravis/Documents/Research/Arola NUWC Project/Polymers/Melting Points/'\n",
    "chdir(path1)\n",
    "onlyfiles1 = [f for f in listdir(path1) if isfile(join(path1, f))]\n",
    "\n",
    "extension = 'csv'\n",
    "filenames1 = [i for i in glob.glob('*.{}'.format(extension))]\n",
    "\n",
    "print(filenames1)"
   ]
  },
  {
   "cell_type": "code",
   "execution_count": 32,
   "metadata": {},
   "outputs": [
    {
     "name": "stdout",
     "output_type": "stream",
     "text": [
      "                   CSV\n",
      "0   TableData (00).csv\n",
      "1   TableData (01).csv\n",
      "2   TableData (02).csv\n",
      "3   TableData (03).csv\n",
      "4   TableData (04).csv\n",
      "5   TableData (05).csv\n",
      "6   TableData (06).csv\n",
      "7   TableData (07).csv\n",
      "8   TableData (08).csv\n",
      "9   TableData (09).csv\n",
      "10  TableData (10).csv\n",
      "11  TableData (11).csv\n",
      "12  TableData (12).csv\n",
      "13  TableData (13).csv\n",
      "14  TableData (14).csv\n",
      "15  TableData (15).csv\n",
      "16  TableData (16).csv\n",
      "17  TableData (17).csv\n",
      "18  TableData (18).csv\n",
      "19  TableData (19).csv\n",
      "20  TableData (20).csv\n",
      "21  TableData (21).csv\n",
      "22  TableData (22).csv\n",
      "23  TableData (23).csv\n",
      "24  TableData (24).csv\n",
      "25  TableData (25).csv\n",
      "26  TableData (26).csv\n",
      "27  TableData (27).csv\n",
      "28  TableData (28).csv\n",
      "29  TableData (29).csv\n",
      "30  TableData (30).csv\n",
      "31  TableData (31).csv\n",
      "32  TableData (32).csv\n",
      "33  TableData (33).csv\n",
      "34  TableData (34).csv\n",
      "35  TableData (35).csv\n",
      "36  TableData (36).csv\n",
      "37  TableData (37).csv\n",
      "38  TableData (38).csv\n",
      "39  TableData (39).csv\n",
      "40  TableData (40).csv\n",
      "41  TableData (41).csv\n",
      "42  TableData (42).csv\n",
      "43  TableData (43).csv\n",
      "44  TableData (44).csv\n",
      "45  TableData (45).csv\n",
      "Index(['polymer', 'level_1', 'CAS', 'tg'], dtype='object')\n"
     ]
    }
   ],
   "source": [
    "df_temp = pd.DataFrame(filenames1, columns=['CSV'])\n",
    "rslt_df1 = df_temp.sort_values(by='CSV')\n",
    "df_temp = rslt_df1.reset_index()\n",
    "del df_temp['index']\n",
    "print(df_temp)\n",
    "\n",
    "df3 = pd.read_csv('TableData (00).csv', sep=';')\n",
    "df3 = df3.reset_index()\n",
    "df3.drop(df3.head(4).index,inplace=True)\n",
    "df3.drop(df3.tail(3).index,inplace=True)\n",
    "df3.drop(df3.iloc[:,4:], axis=1, inplace=True)\n",
    "df3.head()\n",
    "df3 = df3.rename(columns={'level_0':'polymer','level_2':'CAS','level_3':'tg'})\n",
    "keys = df3.keys()\n",
    "print(keys)\n",
    "\n",
    "frames = df3"
   ]
  },
  {
   "cell_type": "code",
   "execution_count": 33,
   "metadata": {},
   "outputs": [
    {
     "data": {
      "text/html": [
       "<div>\n",
       "<style scoped>\n",
       "    .dataframe tbody tr th:only-of-type {\n",
       "        vertical-align: middle;\n",
       "    }\n",
       "\n",
       "    .dataframe tbody tr th {\n",
       "        vertical-align: top;\n",
       "    }\n",
       "\n",
       "    .dataframe thead th {\n",
       "        text-align: right;\n",
       "    }\n",
       "</style>\n",
       "<table border=\"1\" class=\"dataframe\">\n",
       "  <thead>\n",
       "    <tr style=\"text-align: right;\">\n",
       "      <th></th>\n",
       "      <th>polymer</th>\n",
       "      <th>level_1</th>\n",
       "      <th>CAS</th>\n",
       "      <th>tg</th>\n",
       "    </tr>\n",
       "  </thead>\n",
       "  <tbody>\n",
       "    <tr>\n",
       "      <th>0</th>\n",
       "      <td>Poly(acrylic acid)</td>\n",
       "      <td>NaN</td>\n",
       "      <td>9003-01-04</td>\n",
       "      <td>106</td>\n",
       "    </tr>\n",
       "    <tr>\n",
       "      <th>1</th>\n",
       "      <td>Poly(acrylic acid)</td>\n",
       "      <td>NaN</td>\n",
       "      <td>9003-01-04</td>\n",
       "      <td>75</td>\n",
       "    </tr>\n",
       "    <tr>\n",
       "      <th>2</th>\n",
       "      <td>Poly(1-adamantyl acrylate)</td>\n",
       "      <td>NaN</td>\n",
       "      <td>NaN</td>\n",
       "      <td>153</td>\n",
       "    </tr>\n",
       "    <tr>\n",
       "      <th>3</th>\n",
       "      <td>Poly(adamantyl crotonate)</td>\n",
       "      <td>NaN</td>\n",
       "      <td>NaN</td>\n",
       "      <td>234</td>\n",
       "    </tr>\n",
       "    <tr>\n",
       "      <th>4</th>\n",
       "      <td>Poly(adamantyl sorbate)</td>\n",
       "      <td>NaN</td>\n",
       "      <td>NaN</td>\n",
       "      <td>115</td>\n",
       "    </tr>\n",
       "  </tbody>\n",
       "</table>\n",
       "</div>"
      ],
      "text/plain": [
       "                      polymer level_1         CAS   tg\n",
       "0          Poly(acrylic acid)     NaN  9003-01-04  106\n",
       "1          Poly(acrylic acid)     NaN  9003-01-04   75\n",
       "2  Poly(1-adamantyl acrylate)     NaN         NaN  153\n",
       "3   Poly(adamantyl crotonate)     NaN         NaN  234\n",
       "4     Poly(adamantyl sorbate)     NaN         NaN  115"
      ]
     },
     "execution_count": 33,
     "metadata": {},
     "output_type": "execute_result"
    }
   ],
   "source": [
    "#combine all files in the list\n",
    "\n",
    "for i in range(0,45): #iterate through datasets\n",
    "    #read each file in list\n",
    "    dft = pd.read_csv(df_temp.iloc[i,0], sep=';', dtype={'tg': str})\n",
    "    #reset index\n",
    "    dft = dft.reset_index()\n",
    "    #drop non-data rows\n",
    "    dft.drop(dft.head(4).index,inplace=True)\n",
    "    dft.drop(dft.tail(3).index,inplace=True)\n",
    "    dft.drop(dft.iloc[:,4:], axis=1, inplace=True)\n",
    "    #set column names\n",
    "    dft = dft.rename(columns={'level_0':'polymer','level_2':'CAS','level_3':'tg'})\n",
    "    #merge datasets into one for better analysis\n",
    "    frames = [frames, dft]\n",
    "    frames = pd.concat(frames, axis=0, ignore_index=True)\n",
    "\n",
    "frames.head()"
   ]
  },
  {
   "cell_type": "code",
   "execution_count": 34,
   "metadata": {},
   "outputs": [
    {
     "name": "stderr",
     "output_type": "stream",
     "text": [
      "/var/folders/ch/g3s490l17b78nnf3_r0mjqrw0000gn/T/ipykernel_2386/3182992389.py:8: FutureWarning: The default value of regex will change from True to False in a future version.\n",
      "  df_glass['tg'] = df_glass['tg'].str.replace('(about)','')\n"
     ]
    },
    {
     "data": {
      "text/plain": [
       "(2221, 3)"
      ]
     },
     "execution_count": 34,
     "metadata": {},
     "output_type": "execute_result"
    }
   ],
   "source": [
    "#This defines tg dataframe\n",
    "\n",
    "df_glass = frames.dropna(subset=['tg'])\n",
    "df_glass = df_glass.drop(['level_1'], axis=1)\n",
    "\n",
    "#remove weird nonnumerics\n",
    "df_glass['tg'] = df_glass['tg'].str.replace('~','')\n",
    "df_glass['tg'] = df_glass['tg'].str.replace('(about)','')\n",
    "df_glass['tg'] = df_glass['tg'].str.replace('¬±1','')\n",
    "df_glass['tg'] = df_glass['tg'].str.replace('±1','')\n",
    "df_glass['tg'] = df_glass['tg'].str.replace(\"\",'')\n",
    "df_glass.head()\n",
    "df_glass.shape"
   ]
  },
  {
   "cell_type": "code",
   "execution_count": 35,
   "metadata": {},
   "outputs": [
    {
     "name": "stdout",
     "output_type": "stream",
     "text": [
      "                                                polymer  CAS  \\\n",
      "642                                Poly(4-ethylstyrene)  NaN   \n",
      "847                    Poly[(trifluoroacetoxy)ethylene]  NaN   \n",
      "1084  Poly[oxycarbonyloxy-1,3-(2,2,4,4-tetra- methyl...  NaN   \n",
      "\n",
      "                      tg  \n",
      "642   27, htmlentities('  \n",
      "847   46, htmlentities('  \n",
      "1084  227,htmlentities('  \n",
      "27       -40 \n",
      "77       -40 \n",
      "139        -6\n",
      "362      -70 \n",
      "380       -72\n",
      "406      -85 \n",
      "446      -51 \n",
      "450      -38 \n",
      "459      -65 \n",
      "530      -67 \n",
      "833      -20 \n",
      "836      -15 \n",
      "864      -90 \n",
      "1213     -55 \n",
      "1214     -55 \n",
      "1215     -30 \n",
      "1525     -25 \n",
      "1542    -144 \n",
      "1965     -83 \n",
      "1994     -70 \n",
      "2003     -75 \n",
      "2255     -20 \n",
      "2256     -20 \n",
      "2257     -20 \n",
      "2263     -20 \n",
      "Name: tg, dtype: object\n"
     ]
    },
    {
     "name": "stderr",
     "output_type": "stream",
     "text": [
      "/var/folders/ch/g3s490l17b78nnf3_r0mjqrw0000gn/T/ipykernel_2386/3488529182.py:4: SettingWithCopyWarning: \n",
      "A value is trying to be set on a copy of a slice from a DataFrame.\n",
      "Try using .loc[row_indexer,col_indexer] = value instead\n",
      "\n",
      "See the caveats in the documentation: https://pandas.pydata.org/pandas-docs/stable/user_guide/indexing.html#returning-a-view-versus-a-copy\n",
      "  this['tg'] = this['tg'].str[:-6]\n"
     ]
    }
   ],
   "source": [
    "#remove ranges with \"to\"\n",
    "this = df_glass[df_glass['tg'].str.contains('to')]\n",
    "index = this.index\n",
    "this['tg'] = this['tg'].str[:-6]\n",
    "this = this['tg'].str.replace('t', '')\n",
    "\n",
    "#change df_glass to match\n",
    "df_glass.loc[index,'tg'] = this\n",
    "\n",
    "#remove html values\n",
    "df_glass = df_glass.loc[df_glass['tg'] != \"htmlentities('\"]\n",
    "\n",
    "print(df_glass[df_glass['tg'].str.contains(\"htmlent\")])\n",
    "print(df_glass.loc[index,'tg'])"
   ]
  },
  {
   "cell_type": "code",
   "execution_count": 36,
   "metadata": {},
   "outputs": [
    {
     "name": "stdout",
     "output_type": "stream",
     "text": [
      "                                                polymer         CAS       tg\n",
      "210                         Poly(N-isopropylacrylamide)  25189-55-3   85-130\n",
      "286                 Poly(ferrocenylmethyl methacrylate)         NaN  185-195\n",
      "611                               Poly(4-chlorostyrene)  24991-47-7  115-128\n",
      "811       Poly(2-ethyl-2-methylpropylene terephthalate)         NaN    55-65\n",
      "834                Poly[(nonafluorovaleryloxy)ethylene]         NaN    15-20\n",
      "874               Poly[(heptafluoro-2-propoxy)ethylene]         NaN    55-65\n",
      "1032                               Poly(acenaphthylene)         NaN  355-376\n",
      "1162  Polyesters of 3-phenyl-4,4'-biphenyl dicarboxy...         NaN  125-170\n",
      "1325                     Poly(ether ketone),fluorinated         NaN  155-223\n",
      "1729  Polyamide of bis(4-carboxyphenyl)phenylphosphe...         NaN  225-254\n",
      "1731  Poly(N,N'-bis(4'-amino-4-biphenylene isophthal...         NaN  225-235\n",
      "1737                 Poly(3,4-dibenzyl terephthalamide)         NaN  245-327\n",
      "1857                       Poly(1,3,4-oxidiazole-amide)         NaN  225-272\n",
      "1878  Poly(sulfonyl-1,4-phenyleneimino-2-methoxy- is...         NaN  295-310\n",
      "1939              Poly(di(aminophenyl)acetylene diurea)         NaN  235-310\n",
      "2020                       Poly(vinyl trimethyl silane)         NaN  105-144\n",
      "2043                                Starch acetate, dry         NaN  165-185\n",
      "2044                              Starch acetate, humid         NaN   95-135\n",
      "2087                                  Poly(benzoxazole)         NaN    55-97\n",
      "2201        Poly(1-decyl-2,5-diazo-3,4-pyrrolidinediyl)         NaN    95-97\n",
      "2267  Copolyester (phydroxybenzoic acid-isophthalic ...         NaN  125-141\n"
     ]
    }
   ],
   "source": [
    "df_glass = df_glass.drop([1734])\n",
    "df_glass = df_glass.drop([1851])\n",
    "print(df_glass[df_glass['tg'].str.contains('5-')])"
   ]
  },
  {
   "cell_type": "code",
   "execution_count": 37,
   "metadata": {},
   "outputs": [
    {
     "name": "stdout",
     "output_type": "stream",
     "text": [
      "210      85\n",
      "286     185\n",
      "611     115\n",
      "811      55\n",
      "834      15\n",
      "874      55\n",
      "1032    355\n",
      "1162    125\n",
      "1325    155\n",
      "1729    225\n",
      "1731    225\n",
      "1737    245\n",
      "1857    225\n",
      "1878    295\n",
      "1939    235\n",
      "2020    105\n",
      "2043    165\n",
      "2044     95\n",
      "2087     55\n",
      "2201     95\n",
      "2267    125\n",
      "Name: tg, dtype: object\n",
      "Empty DataFrame\n",
      "Columns: [polymer, CAS, tg]\n",
      "Index: []\n"
     ]
    },
    {
     "name": "stderr",
     "output_type": "stream",
     "text": [
      "/var/folders/ch/g3s490l17b78nnf3_r0mjqrw0000gn/T/ipykernel_2386/3945588841.py:4: SettingWithCopyWarning: \n",
      "A value is trying to be set on a copy of a slice from a DataFrame.\n",
      "Try using .loc[row_indexer,col_indexer] = value instead\n",
      "\n",
      "See the caveats in the documentation: https://pandas.pydata.org/pandas-docs/stable/user_guide/indexing.html#returning-a-view-versus-a-copy\n",
      "  this2['tg'] = this2['tg'].str[:-3]\n"
     ]
    }
   ],
   "source": [
    "#change values with range with \"5-\"\n",
    "this2 = df_glass[df_glass['tg'].str.contains('5-')]\n",
    "index2 = this2.index\n",
    "this2['tg'] = this2['tg'].str[:-3]\n",
    "this2 = this2['tg'].str.replace('-','')\n",
    "df_glass.loc[index2,'tg'] = this2\n",
    "\n",
    "\n",
    "print(df_glass.loc[index2,'tg'])\n",
    "print(df_glass[df_glass['tg'].str.contains('5-')])"
   ]
  },
  {
   "cell_type": "code",
   "execution_count": 29,
   "metadata": {},
   "outputs": [
    {
     "name": "stdout",
     "output_type": "stream",
     "text": [
      "                                                polymer                 tg\n",
      "127                 Poly(heptafluoro-2-propyl acrylate)         2020-10-05\n",
      "225           Poly(4-tert-butylcyclohexyl methacrylate)            130-178\n",
      "365            Poly(3-oxa-5-hydroxypentyl methacrylate)         2020-07-05\n",
      "754                                       Poly(styrene)            160-190\n",
      "1075  Poly(oxycarbonyloxy-2-chloro-1,4-phenylene- cy...            170-179\n",
      "1086  Poly(oxycarbonyloxy-2-methyl-1,4-phenylene- is...  95,100,145,90-110\n",
      "1203                  Poly(oxyethyleneoxyterephthaloyl)              60-85\n",
      "1211        Poly(oxyethyleneoxyterephthaloyl) amorphous              60-76\n",
      "1372              Poly[oxy(2,6-dimethyl-1,4-phenylene)]            210-234\n",
      "1633                           Poly(aryl ether sulfone)            120-160\n",
      "1684           Nylon 6 [Poly(imino-1-oxohexamethylene)]              40-87\n",
      "1718        Nylon 11 [Poly(imino-1-oxoundecamethylene)]              60-70\n",
      "1720        Nylon 12 [Poly(imino-1-oxododecamethylene)]              40-43\n",
      "1742                           Poly(hydroxyamide ether)             90-133\n",
      "1852  Poly(methyliminohexafluoroglutarylmethyliminoh...         1930-01-25\n",
      "1853  Poly(methylimino-2,2,3,3,4,4-hexafluoro- penta...         1930-01-25\n",
      "1877  Poly(sulfonyl-1,3-phenyleneiminoisophthaloylim...            300-320\n",
      "1904    Poly(ester-amide-imide) of phenyltrimellitimide            100-130\n",
      "1916  Poly(imides) of 4,4'-diaminotriphenylmethane, ...            260-320\n",
      "1951                      Poly(urethane)s, shape-memory         1950-10-01\n",
      "2061  Poly(amide imide) of biphenyltetracarboxylic d...            220-290\n",
      "2104  Poly(1,3-dioxoisoindoline-2,5-diylcarbonyl-1,3...            260-270\n",
      "2179                       Poly(arylene ether pyrazole)            190-293\n",
      "2208        Poly(1-octyl-2,5-diazo-3,4-pyrrolidinediyl)            120-122\n",
      "2268                              Copolyester, aromatic            130-160\n"
     ]
    },
    {
     "name": "stderr",
     "output_type": "stream",
     "text": [
      "<ipython-input-29-be3898efac32>:5: SettingWithCopyWarning: \n",
      "A value is trying to be set on a copy of a slice from a DataFrame.\n",
      "Try using .loc[row_indexer,col_indexer] = value instead\n",
      "\n",
      "See the caveats in the documentation: https://pandas.pydata.org/pandas-docs/stable/user_guide/indexing.html#returning-a-view-versus-a-copy\n",
      "  this2['tg'] = this2['tg'].str[:-3]\n"
     ]
    }
   ],
   "source": [
    "#change values with range with \"0-\"\n",
    "this2 = df_glass[df_glass['tg'].str.contains('0-')]\n",
    "print(this2)\n",
    "index2 = this2.index\n",
    "this2['tg'] = this2['tg'].str[:-3]\n",
    "this2 = this2['tg'].str.replace('-','')\n",
    "df_glass.loc[index2,'tg'] = this2\n",
    "df_glass = df_glass.drop([127])\n",
    "df_glass = df_glass.drop([365])\n",
    "df_glass = df_glass.drop([1852])\n",
    "df_glass = df_glass.drop([1951])\n"
   ]
  },
  {
   "cell_type": "code",
   "execution_count": null,
   "metadata": {},
   "outputs": [],
   "source": []
  },
  {
   "cell_type": "code",
   "execution_count": 38,
   "metadata": {},
   "outputs": [
    {
     "data": {
      "text/plain": [
       "0       False\n",
       "1       False\n",
       "2       False\n",
       "3       False\n",
       "4       False\n",
       "        ...  \n",
       "2295    False\n",
       "2296    False\n",
       "2297    False\n",
       "2298    False\n",
       "2299    False\n",
       "Name: tg, Length: 2206, dtype: bool"
      ]
     },
     "execution_count": 38,
     "metadata": {},
     "output_type": "execute_result"
    }
   ],
   "source": [
    "df_glass['tg'].str.contains('htmlenti')"
   ]
  },
  {
   "cell_type": "code",
   "execution_count": 39,
   "metadata": {},
   "outputs": [
    {
     "name": "stdout",
     "output_type": "stream",
     "text": [
      "642     27 \n",
      "847     46 \n",
      "1084    227\n",
      "Name: tg, dtype: object\n"
     ]
    },
    {
     "name": "stderr",
     "output_type": "stream",
     "text": [
      "/var/folders/ch/g3s490l17b78nnf3_r0mjqrw0000gn/T/ipykernel_2386/2249479433.py:4: SettingWithCopyWarning: \n",
      "A value is trying to be set on a copy of a slice from a DataFrame.\n",
      "Try using .loc[row_indexer,col_indexer] = value instead\n",
      "\n",
      "See the caveats in the documentation: https://pandas.pydata.org/pandas-docs/stable/user_guide/indexing.html#returning-a-view-versus-a-copy\n",
      "  this4['tg'] = this4['tg'].str[:-14]\n"
     ]
    }
   ],
   "source": [
    "#rid of html \n",
    "this4 = df_glass[df_glass['tg'].str.contains('htmlenti')]\n",
    "index4 = this4.index\n",
    "this4['tg'] = this4['tg'].str[:-14]\n",
    "this4 = this4['tg'].str.replace(',','')\n",
    "df_glass.loc[index4,'tg'] = this4\n",
    "\n",
    "print(df_glass.loc[index4,'tg'])"
   ]
  },
  {
   "cell_type": "code",
   "execution_count": 40,
   "metadata": {},
   "outputs": [
    {
     "name": "stdout",
     "output_type": "stream",
     "text": [
      "14      107\n",
      "64      107\n",
      "302      55\n",
      "692      93\n",
      "765      41\n",
      "768      37\n",
      "927     -11\n",
      "963      84\n",
      "967     107\n",
      "973      58\n",
      "1086     95\n",
      "1275     25\n",
      "1277     45\n",
      "1278     35\n",
      "1301     17\n",
      "1304     95\n",
      "1485    139\n",
      "1508     58\n",
      "1514    -58\n",
      "1519     72\n",
      "1526     -7\n",
      "1614    -17\n",
      "1698     45\n",
      "1713     60\n",
      "1717     43\n",
      "1980    -75\n",
      "2036     53\n",
      "2097     4-\n",
      "Name: tg, dtype: object\n",
      "14      107\n",
      "64      107\n",
      "302      55\n",
      "692      93\n",
      "765      41\n",
      "768      37\n",
      "927     -11\n",
      "963      84\n",
      "967     107\n",
      "973      58\n",
      "1086     95\n",
      "1275     25\n",
      "1277     45\n",
      "1278     35\n",
      "1301     17\n",
      "1304     95\n",
      "1485    139\n",
      "1508     58\n",
      "1514    -58\n",
      "1519     72\n",
      "1526     -7\n",
      "1614    -17\n",
      "1698     45\n",
      "1713     60\n",
      "1717     43\n",
      "1980    -75\n",
      "2036     53\n",
      "2097     4-\n",
      "Name: tg, dtype: object\n"
     ]
    },
    {
     "name": "stderr",
     "output_type": "stream",
     "text": [
      "/var/folders/ch/g3s490l17b78nnf3_r0mjqrw0000gn/T/ipykernel_2386/2000711785.py:4: SettingWithCopyWarning: \n",
      "A value is trying to be set on a copy of a slice from a DataFrame.\n",
      "Try using .loc[row_indexer,col_indexer] = value instead\n",
      "\n",
      "See the caveats in the documentation: https://pandas.pydata.org/pandas-docs/stable/user_guide/indexing.html#returning-a-view-versus-a-copy\n",
      "  this3['tg'] = this3['tg'].str[:3]\n"
     ]
    }
   ],
   "source": [
    "#rid of commas\n",
    "this3 = df_glass[df_glass['tg'].str.contains(',')]\n",
    "index3 = this3.index\n",
    "this3['tg'] = this3['tg'].str[:3]\n",
    "this3 = this3['tg'].str.replace(',','')\n",
    "df_glass.loc[index3,'tg'] = this3\n",
    "print(this3)\n",
    "print(df_glass.loc[index3,'tg'])\n",
    "this3.shape\n",
    "df_glass.loc[2097, 'tg'] = '4'"
   ]
  },
  {
   "cell_type": "code",
   "execution_count": 41,
   "metadata": {},
   "outputs": [
    {
     "name": "stdout",
     "output_type": "stream",
     "text": [
      "                                                polymer         CAS     tg\n",
      "27                          Poly(4-cyanobutyl acrylate)         NaN   -40 \n",
      "77                          Poly(4-cyanobutyl acrylate)         NaN   -40 \n",
      "362                            Poly(octyl methacrylate)         NaN   -70 \n",
      "406   Poly[(1-heptoxycarbonyl-1- heptoxycarbonylmeth...  28451-56-1   -85 \n",
      "446                                      Poly(ethylene)   9002-88-4   -51 \n",
      "450                                Poly(ethyl ethylene)         NaN   -38 \n",
      "457                                      Poly(1-hexene)  25067-06-5   -58 \n",
      "459                                 Poly(hexylethylene)         NaN   -65 \n",
      "530                                      Poly(isoprene)         NaN   -67 \n",
      "642                                Poly(4-ethylstyrene)         NaN    27 \n",
      "833            Poly(nonadecafluorodecanoyloxy)ethylene]         NaN   -20 \n",
      "836           Poly[(pentadecafluorooctanyloxy)ethylene]         NaN   -15 \n",
      "847                    Poly[(trifluoroacetoxy)ethylene]         NaN    46 \n",
      "864                              Poly(decyloxyethylene)         NaN   -90 \n",
      "1107  Poly(oxycarbonyloxy-1,4-phenyleneisopropyliden...  24936-68-3   144 \n",
      "1213  Poly(oxyglutaryloxy- 2,2,3,3,4,4-hexafluoropen...         NaN   -55 \n",
      "1214  Poly(oxyglutaryloxy- 2,2,3,3,4,4,5,5-octafluor...         NaN   -55 \n",
      "1215  Poly(oxy-3-heptafluoropropylglutaryloxy- 2,2,3...         NaN   -30 \n",
      "1525  Polymer from trifluoronitrosomethane and chlor...         NaN   -25 \n",
      "1542                          Poly(oxydimethylsilylene)  9016-05-06  -144 \n",
      "1965              Aminoorganosiloxane poly(phosphazene)         NaN   -83 \n",
      "1994          Poly(organophosphazene), ethyleneoxy subs         NaN   -70 \n",
      "2003                               Poly(carbosilazanes)         NaN   -75 \n",
      "2193  Poly(5,7-dihydro-1,3,5,7-tetraoxobenzo[1,2-c:4...         NaN  -273 \n",
      "2255  Poly(heptafluoropropyl-1,3,5-triazinediyltrime...         NaN   -20 \n",
      "2256  Poly[(4-H-octafluorobutyl)-1,3,5-triazinediylt...         NaN   -20 \n",
      "2257  Poly(pentafluoroethyl-1,3,5-triazinediyltrimet...         NaN   -20 \n",
      "2263  Poly(2-H-tetrafluoroethyl-1,3,5-triazinediyltr...         NaN   -20 \n"
     ]
    },
    {
     "name": "stderr",
     "output_type": "stream",
     "text": [
      "/var/folders/ch/g3s490l17b78nnf3_r0mjqrw0000gn/T/ipykernel_2386/2381673127.py:1: FutureWarning: The default value of regex will change from True to False in a future version. In addition, single character regular expressions will *not* be treated as literal strings when regex=True.\n",
      "  df_glass['tg'] = df_glass['tg'].str.replace(\"(\",'').str.replace(\")\",'')\n"
     ]
    }
   ],
   "source": [
    "df_glass['tg'] = df_glass['tg'].str.replace(\"(\",'').str.replace(\")\",'')\n",
    "df_glass['tg'] = df_glass['tg'].str.replace('About','').str.replace('Probably','')\n",
    "\n",
    "\n",
    "print(df_glass[df_glass['tg'].str.contains(' ')])"
   ]
  },
  {
   "cell_type": "code",
   "execution_count": 42,
   "metadata": {},
   "outputs": [
    {
     "name": "stdout",
     "output_type": "stream",
     "text": [
      "(28, 3)\n"
     ]
    }
   ],
   "source": [
    "#remove those weird spaces taking first value\n",
    "hey = df_glass[df_glass['tg'].str.contains(' ')]\n",
    "#hey = df_glass.loc[[202, 592, 665, 668, 863, 867, 873],'tg']\n",
    "print(hey.shape)\n",
    "#print(df_glass.loc[[202, 592, 665, 668, 863, 867, 873],'tg'])\n"
   ]
  },
  {
   "cell_type": "code",
   "execution_count": 43,
   "metadata": {},
   "outputs": [
    {
     "name": "stdout",
     "output_type": "stream",
     "text": [
      "[25, 75, 116, 257, 368, 540, 550, 589, 601, 686, 738, 970, 985, 1031, 1109, 1205, 1209, 1318, 1637, 1686, 1687, 1689, 1722, 1727, 1728, 1776, 1845, 1867, 1885, 1887, 1903, 1913, 1998, 2031, 2047, 2049, 2094, 2095, 2144, 2149, 2156, 2157, 2158, 2170, 2227, 2229, 2235, 2259, 2297]\n"
     ]
    },
    {
     "name": "stderr",
     "output_type": "stream",
     "text": [
      "/var/folders/ch/g3s490l17b78nnf3_r0mjqrw0000gn/T/ipykernel_2386/980504948.py:10: SettingWithCopyWarning: \n",
      "A value is trying to be set on a copy of a slice from a DataFrame.\n",
      "Try using .loc[row_indexer,col_indexer] = value instead\n",
      "\n",
      "See the caveats in the documentation: https://pandas.pydata.org/pandas-docs/stable/user_guide/indexing.html#returning-a-view-versus-a-copy\n",
      "  this3['tg'] = this3['tg'].str[:3]\n"
     ]
    }
   ],
   "source": [
    "import re\n",
    "\n",
    "#more editing :/\n",
    "\n",
    "df_glass.loc[207, 'tg'] = '123'\n",
    "\n",
    "\n",
    "splitit = df_glass[df_glass['tg'].str.contains('-')]\n",
    "this3 = splitit[splitit['tg'].str.len()>4]\n",
    "this3['tg'] = this3['tg'].str[:3]\n",
    "\n",
    "\n",
    "index3 = this3.index\n",
    "index3 = [  25,   75,  116,  257,  368,  540,  550,  589,  601,  686,  738,\n",
    "             970,  985, 1031, 1109, 1205, 1209, 1318, 1637, 1686, 1687,\n",
    "            1689, 1722, 1727, 1728, 1776, 1845, 1867, 1885, 1887, 1903, 1913,\n",
    "            1998, 2031, 2047, 2049, 2094, 2095, 2144, 2149, 2156, 2157, 2158,\n",
    "            2170, 2227, 2229, 2235, 2259, 2297]\n",
    "this3 = this3.loc[index3]\n",
    "this3 = this3['tg'].str.replace('-','')\n",
    "df_glass.loc[index3,'tg'] = this3\n",
    "print(index3)"
   ]
  },
  {
   "cell_type": "code",
   "execution_count": 44,
   "metadata": {},
   "outputs": [],
   "source": [
    "df_glass[df_glass['tg'].str.contains('±')]\n",
    "df_glass.loc[817, 'tg'] = '5'"
   ]
  },
  {
   "cell_type": "code",
   "execution_count": 45,
   "metadata": {},
   "outputs": [
    {
     "name": "stdout",
     "output_type": "stream",
     "text": [
      "                              polymer  CAS                              tg\n",
      "220      Poly(adamantyl methacrylate)  NaN  70656370656371/100000000000000\n",
      "307  Poly(D,L-isobornyl methacrylate)  NaN                     123/101/170\n",
      "Empty DataFrame\n",
      "Columns: [polymer, CAS, tg]\n",
      "Index: []\n"
     ]
    },
    {
     "name": "stderr",
     "output_type": "stream",
     "text": [
      "/var/folders/ch/g3s490l17b78nnf3_r0mjqrw0000gn/T/ipykernel_2386/4207522798.py:3: FutureWarning: The default value of regex will change from True to False in a future version.\n",
      "  df_glass['tg'] = df_glass['tg'].str.replace('\\?','')\n"
     ]
    }
   ],
   "source": [
    "#df_copy[df_copy['tg'].str.contains('\\?','')]\n",
    "print(df_glass[df_glass['tg'].str.contains('/')])\n",
    "df_glass['tg'] = df_glass['tg'].str.replace('\\?','')\n",
    "df_glass['tg'] = df_glass['tg'].str.replace(' ','')\n",
    "df_glass['tg'] = df_glass['tg'].str.replace('−', '-')\n",
    "df_glass['tg'] = df_glass['tg'].str.replace('\"', '')\n",
    "df_glass['tg'] = df_glass['tg'].str.replace('>', '')\n",
    "df_glass['tg'] = df_glass['tg'].str.replace('<', '')\n",
    "df_glass.loc[220, 'tg'] = '65'\n",
    "df_glass.loc[307, 'tg'] = '123'\n",
    "print(df_glass[df_glass['tg'].str.contains('/')])\n",
    "df_copy = df_glass"
   ]
  },
  {
   "cell_type": "code",
   "execution_count": 38,
   "metadata": {},
   "outputs": [
    {
     "name": "stderr",
     "output_type": "stream",
     "text": [
      "<ipython-input-38-41eb176b37d0>:8: SettingWithCopyWarning: \n",
      "A value is trying to be set on a copy of a slice from a DataFrame.\n",
      "Try using .loc[row_indexer,col_indexer] = value instead\n",
      "\n",
      "See the caveats in the documentation: https://pandas.pydata.org/pandas-docs/stable/user_guide/indexing.html#returning-a-view-versus-a-copy\n",
      "  this1['tg'] = this1['tg'].str[:3]\n",
      "<ipython-input-38-41eb176b37d0>:9: SettingWithCopyWarning: \n",
      "A value is trying to be set on a copy of a slice from a DataFrame.\n",
      "Try using .loc[row_indexer,col_indexer] = value instead\n",
      "\n",
      "See the caveats in the documentation: https://pandas.pydata.org/pandas-docs/stable/user_guide/indexing.html#returning-a-view-versus-a-copy\n",
      "  this1['tg'] = this1['tg'].str.replace(',', '')\n"
     ]
    },
    {
     "name": "stdout",
     "output_type": "stream",
     "text": [
      "                                                polymer   tg\n",
      "1079  Poly(oxycarbonyloxy-2,6-dichloro-1,4-phenylene...  180\n",
      "1226        Poly(oxyisophthaloyloxy-4,4'-biphenylylene)  164\n",
      "1842  Poly(iminoterephthaloylimino- 2,4,4-trimethylh...  148\n",
      "1853  Poly(methylimino-2,2,3,3,4,4-hexafluoro- penta...  193\n",
      "1863  Poly(oxy-1,4-phenyleneiminoisophthaloylimino- ...  190\n",
      "2160  Poly(3,3-phthalidylidene-1,4-phenyleneoxycarbo...  240\n",
      "2217  Poly(3-phenylquinoxaline-2,7-diylcarbonyl-3-ph...  243\n",
      "2220  Poly(3-phenylquinoxaline-2,7-diyloxy-3-phenylq...  253\n",
      "2233  Poly(3-phenylquinoxaline-2,7-diyl-3-phenylquin...  288\n",
      "2237  Poly(3-phenylquinoxaline-2,7-diylsulfonyl-3-ph...  195\n",
      "2249  Poly(quinoxaline-2,6-diylquinoxaline-6,2-diyl-...  388\n",
      "Int64Index([1079, 1226, 1842, 1853, 1863, 2160, 2217, 2220, 2233, 2237, 2249], dtype='int64')\n"
     ]
    },
    {
     "data": {
      "text/html": [
       "<div>\n",
       "<style scoped>\n",
       "    .dataframe tbody tr th:only-of-type {\n",
       "        vertical-align: middle;\n",
       "    }\n",
       "\n",
       "    .dataframe tbody tr th {\n",
       "        vertical-align: top;\n",
       "    }\n",
       "\n",
       "    .dataframe thead th {\n",
       "        text-align: right;\n",
       "    }\n",
       "</style>\n",
       "<table border=\"1\" class=\"dataframe\">\n",
       "  <thead>\n",
       "    <tr style=\"text-align: right;\">\n",
       "      <th></th>\n",
       "      <th>polymer</th>\n",
       "      <th>tg</th>\n",
       "    </tr>\n",
       "  </thead>\n",
       "  <tbody>\n",
       "    <tr>\n",
       "      <th>0</th>\n",
       "      <td>Poly(acrylic acid)</td>\n",
       "      <td>106</td>\n",
       "    </tr>\n",
       "    <tr>\n",
       "      <th>1</th>\n",
       "      <td>Poly(acrylic acid)</td>\n",
       "      <td>75</td>\n",
       "    </tr>\n",
       "    <tr>\n",
       "      <th>2</th>\n",
       "      <td>Poly(1-adamantyl acrylate)</td>\n",
       "      <td>153</td>\n",
       "    </tr>\n",
       "    <tr>\n",
       "      <th>3</th>\n",
       "      <td>Poly(adamantyl crotonate)</td>\n",
       "      <td>234</td>\n",
       "    </tr>\n",
       "    <tr>\n",
       "      <th>4</th>\n",
       "      <td>Poly(adamantyl sorbate)</td>\n",
       "      <td>115</td>\n",
       "    </tr>\n",
       "  </tbody>\n",
       "</table>\n",
       "</div>"
      ],
      "text/plain": [
       "                      polymer   tg\n",
       "0          Poly(acrylic acid)  106\n",
       "1          Poly(acrylic acid)   75\n",
       "2  Poly(1-adamantyl acrylate)  153\n",
       "3   Poly(adamantyl crotonate)  234\n",
       "4     Poly(adamantyl sorbate)  115"
      ]
     },
     "execution_count": 38,
     "metadata": {},
     "output_type": "execute_result"
    }
   ],
   "source": [
    "df_glass.loc[index3,'tg'] = this3\n",
    "df_glass.loc[index3,'tg']\n",
    "#convert to float for df_glass\n",
    "\n",
    "this1 = df_glass[df_glass['tg'].str.len()>4]\n",
    "\n",
    "index1 = this1.index\n",
    "this1['tg'] = this1['tg'].str[:3]\n",
    "this1['tg'] = this1['tg'].str.replace(',', '')\n",
    "print(this1)\n",
    "print(index1)\n",
    "df_glass.loc[index1,'tg'] = this1['tg']\n",
    "\n",
    "df_glass.head()"
   ]
  },
  {
   "cell_type": "code",
   "execution_count": 53,
   "metadata": {},
   "outputs": [
    {
     "name": "stdout",
     "output_type": "stream",
     "text": [
      "Empty DataFrame\n",
      "Columns: [polymer, CAS, tg]\n",
      "Index: []\n",
      "                                              polymer         CAS   tg\n",
      "8                                Poly(butyl acrylate)   9003-49-0  -54\n",
      "9                                Poly(butyl acrylate)   9003-49-0  -49\n",
      "10                           Poly(sec-butyl acrylate)         NaN  -22\n",
      "11                           Poly(sec-butyl acrylate)         NaN  -20\n",
      "12                           Poly(sec-butyl acrylate)         NaN  -20\n",
      "...                                               ...         ...  ...\n",
      "2285           Poly(ethylene oxide-co-epychloridrine)         NaN  -40\n",
      "2287                   Poly(ethylene-co-methacrylate)  25103-74-6  -36\n",
      "2292  Poly(3-hydroxybutyrate-co-4-hydroxybutyrate)-18         NaN   -4\n",
      "2293  Poly(3-hydroxybutyrate-co-4-hydroxybutyrate)-69         NaN  -36\n",
      "2294       Poly(β-hydroxybutyrate-co-hydroxyvalerate)         NaN  -16\n",
      "\n",
      "[548 rows x 3 columns]\n"
     ]
    }
   ],
   "source": [
    "print(df_glass[df_glass['tg'].str.contains(',')])\n",
    "print(df_glass[df_glass['tg'].str.contains('-')])"
   ]
  },
  {
   "cell_type": "code",
   "execution_count": 55,
   "metadata": {},
   "outputs": [],
   "source": [
    "df_glass[df_glass['tg'].str.contains('2020-10-05')]\n",
    "df_glass = df_glass.drop([127])"
   ]
  },
  {
   "cell_type": "code",
   "execution_count": 60,
   "metadata": {},
   "outputs": [],
   "source": [
    "df_glass[df_glass['tg'].str.contains('130-178')]\n",
    "df_glass.loc[225,'tg'] = '155'"
   ]
  },
  {
   "cell_type": "code",
   "execution_count": 63,
   "metadata": {},
   "outputs": [],
   "source": [
    "df_glass[df_glass['tg'].str.contains('2020-07-05')]\n",
    "df_glass = df_glass.drop([365])"
   ]
  },
  {
   "cell_type": "code",
   "execution_count": 67,
   "metadata": {},
   "outputs": [],
   "source": [
    "df_glass[df_glass['tg'].str.contains('160-190')]\n",
    "df_glass.loc[754,'tg'] = '170'"
   ]
  },
  {
   "cell_type": "code",
   "execution_count": 70,
   "metadata": {},
   "outputs": [],
   "source": [
    "df_glass[df_glass['tg'].str.contains('170-179')]\n",
    "df_glass.loc[1075,'tg'] = '175'"
   ]
  },
  {
   "cell_type": "code",
   "execution_count": 73,
   "metadata": {},
   "outputs": [],
   "source": [
    "df_glass[df_glass['tg'].str.contains('60-85')]\n",
    "df_glass.loc[1203,'tg'] = '70'"
   ]
  },
  {
   "cell_type": "code",
   "execution_count": 76,
   "metadata": {},
   "outputs": [],
   "source": [
    "df_glass[df_glass['tg'].str.contains('60-76')]\n",
    "df_glass.loc[1211,'tg'] = '70'"
   ]
  },
  {
   "cell_type": "code",
   "execution_count": 79,
   "metadata": {},
   "outputs": [],
   "source": [
    "df_glass[df_glass['tg'].str.contains('210-234')]\n",
    "df_glass.loc[1372,'tg'] = '220'"
   ]
  },
  {
   "cell_type": "code",
   "execution_count": 82,
   "metadata": {},
   "outputs": [],
   "source": [
    "df_glass[df_glass['tg'].str.contains('120-160')]\n",
    "df_glass.loc[1633,'tg'] = '140'"
   ]
  },
  {
   "cell_type": "code",
   "execution_count": 85,
   "metadata": {},
   "outputs": [],
   "source": [
    "df_glass[df_glass['tg'].str.contains('40-87')]\n",
    "df_glass.loc[1684,'tg'] = '60'"
   ]
  },
  {
   "cell_type": "code",
   "execution_count": 88,
   "metadata": {},
   "outputs": [],
   "source": [
    "df_glass[df_glass['tg'].str.contains('60-70')]\n",
    "df_glass.loc[1718,'tg'] = '65'"
   ]
  },
  {
   "cell_type": "code",
   "execution_count": 91,
   "metadata": {},
   "outputs": [],
   "source": [
    "df_glass[df_glass['tg'].str.contains('40-43')]\n",
    "df_glass.loc[1720,'tg'] = '40'"
   ]
  },
  {
   "cell_type": "code",
   "execution_count": 94,
   "metadata": {},
   "outputs": [],
   "source": [
    "df_glass[df_glass['tg'].str.contains('90-133')]\n",
    "df_glass.loc[1742,'tg'] = '100'"
   ]
  },
  {
   "cell_type": "code",
   "execution_count": 98,
   "metadata": {},
   "outputs": [],
   "source": [
    "df_glass[df_glass['tg'].str.contains('1930-01-25')]\n",
    "df_glass = df_glass.drop([1852])\n",
    "df_glass = df_glass.drop([1853])"
   ]
  },
  {
   "cell_type": "code",
   "execution_count": 101,
   "metadata": {},
   "outputs": [],
   "source": [
    "df_glass[df_glass['tg'].str.contains('300-320')]\n",
    "df_glass.loc[1877,'tg'] = '310'"
   ]
  },
  {
   "cell_type": "code",
   "execution_count": 104,
   "metadata": {},
   "outputs": [],
   "source": [
    "df_glass[df_glass['tg'].str.contains('100-130')]\n",
    "df_glass.loc[1904,'tg'] = '120'"
   ]
  },
  {
   "cell_type": "code",
   "execution_count": 107,
   "metadata": {},
   "outputs": [],
   "source": [
    "df_glass[df_glass['tg'].str.contains('260-320')]\n",
    "df_glass.loc[1916,'tg'] = '290'"
   ]
  },
  {
   "cell_type": "code",
   "execution_count": 110,
   "metadata": {},
   "outputs": [],
   "source": [
    "df_glass[df_glass['tg'].str.contains('1950-10-01')]\n",
    "df_glass = df_glass.drop([1951])"
   ]
  },
  {
   "cell_type": "code",
   "execution_count": 113,
   "metadata": {},
   "outputs": [],
   "source": [
    "df_glass[df_glass['tg'].str.contains('220-290')]\n",
    "df_glass.loc[2061,'tg'] = '250'"
   ]
  },
  {
   "cell_type": "code",
   "execution_count": 116,
   "metadata": {},
   "outputs": [],
   "source": [
    "df_glass[df_glass['tg'].str.contains('260-270')]\n",
    "df_glass.loc[2104,'tg'] = '265'"
   ]
  },
  {
   "cell_type": "code",
   "execution_count": 119,
   "metadata": {},
   "outputs": [],
   "source": [
    "df_glass[df_glass['tg'].str.contains('190-293')]\n",
    "df_glass.loc[2179,'tg'] = '200'"
   ]
  },
  {
   "cell_type": "code",
   "execution_count": 123,
   "metadata": {},
   "outputs": [],
   "source": [
    "df_glass[df_glass['tg'].str.contains('120-122')]\n",
    "df_glass.loc[2208,'tg'] = '120'"
   ]
  },
  {
   "cell_type": "code",
   "execution_count": 126,
   "metadata": {},
   "outputs": [],
   "source": [
    "df_glass[df_glass['tg'].str.contains('130-160')]\n",
    "df_glass.loc[2268,'tg'] = '150'"
   ]
  },
  {
   "cell_type": "code",
   "execution_count": 128,
   "metadata": {},
   "outputs": [
    {
     "data": {
      "text/plain": [
       "count    2.197000e+03\n",
       "mean     8.306843e+04\n",
       "std      3.844940e+06\n",
       "min     -2.730000e+02\n",
       "25%      5.000000e+00\n",
       "50%      7.100000e+01\n",
       "75%      1.380000e+02\n",
       "max      1.802202e+08\n",
       "Name: tg, dtype: float64"
      ]
     },
     "execution_count": 128,
     "metadata": {},
     "output_type": "execute_result"
    }
   ],
   "source": [
    "df_glass = df_glass[df_glass['tg']!='-']\n",
    "\n",
    "#convert to float\n",
    "df_copy = df_glass\n",
    "df_copy = df_copy['tg'].astype('float')\n",
    "df_copy.to_csv(r'/Users/carlytravis/Documents/Research/Arola NUWC Project/Polymers/Melting Points/Exports/TGData08_21.csv',index = False, header=True)\n",
    "df_copy.describe()"
   ]
  },
  {
   "cell_type": "code",
   "execution_count": 130,
   "metadata": {},
   "outputs": [
    {
     "data": {
      "text/html": [
       "<div>\n",
       "<style scoped>\n",
       "    .dataframe tbody tr th:only-of-type {\n",
       "        vertical-align: middle;\n",
       "    }\n",
       "\n",
       "    .dataframe tbody tr th {\n",
       "        vertical-align: top;\n",
       "    }\n",
       "\n",
       "    .dataframe thead th {\n",
       "        text-align: right;\n",
       "    }\n",
       "</style>\n",
       "<table border=\"1\" class=\"dataframe\">\n",
       "  <thead>\n",
       "    <tr style=\"text-align: right;\">\n",
       "      <th></th>\n",
       "      <th>polymer</th>\n",
       "      <th>CAS</th>\n",
       "      <th>tg</th>\n",
       "    </tr>\n",
       "  </thead>\n",
       "  <tbody>\n",
       "    <tr>\n",
       "      <th>0</th>\n",
       "      <td>Poly(acrylic acid)</td>\n",
       "      <td>9003-01-04</td>\n",
       "      <td>106</td>\n",
       "    </tr>\n",
       "    <tr>\n",
       "      <th>1</th>\n",
       "      <td>Poly(acrylic acid)</td>\n",
       "      <td>9003-01-04</td>\n",
       "      <td>75</td>\n",
       "    </tr>\n",
       "    <tr>\n",
       "      <th>2</th>\n",
       "      <td>Poly(1-adamantyl acrylate)</td>\n",
       "      <td>NaN</td>\n",
       "      <td>153</td>\n",
       "    </tr>\n",
       "    <tr>\n",
       "      <th>3</th>\n",
       "      <td>Poly(adamantyl crotonate)</td>\n",
       "      <td>NaN</td>\n",
       "      <td>234</td>\n",
       "    </tr>\n",
       "    <tr>\n",
       "      <th>4</th>\n",
       "      <td>Poly(adamantyl sorbate)</td>\n",
       "      <td>NaN</td>\n",
       "      <td>115</td>\n",
       "    </tr>\n",
       "  </tbody>\n",
       "</table>\n",
       "</div>"
      ],
      "text/plain": [
       "                      polymer         CAS   tg\n",
       "0          Poly(acrylic acid)  9003-01-04  106\n",
       "1          Poly(acrylic acid)  9003-01-04   75\n",
       "2  Poly(1-adamantyl acrylate)         NaN  153\n",
       "3   Poly(adamantyl crotonate)         NaN  234\n",
       "4     Poly(adamantyl sorbate)         NaN  115"
      ]
     },
     "execution_count": 130,
     "metadata": {},
     "output_type": "execute_result"
    }
   ],
   "source": [
    "df_copy.head()\n",
    "df_glass.head()"
   ]
  },
  {
   "cell_type": "code",
   "execution_count": 131,
   "metadata": {},
   "outputs": [
    {
     "data": {
      "text/html": [
       "<div>\n",
       "<style scoped>\n",
       "    .dataframe tbody tr th:only-of-type {\n",
       "        vertical-align: middle;\n",
       "    }\n",
       "\n",
       "    .dataframe tbody tr th {\n",
       "        vertical-align: top;\n",
       "    }\n",
       "\n",
       "    .dataframe thead th {\n",
       "        text-align: right;\n",
       "    }\n",
       "</style>\n",
       "<table border=\"1\" class=\"dataframe\">\n",
       "  <thead>\n",
       "    <tr style=\"text-align: right;\">\n",
       "      <th></th>\n",
       "      <th>tg</th>\n",
       "    </tr>\n",
       "  </thead>\n",
       "  <tbody>\n",
       "    <tr>\n",
       "      <th>count</th>\n",
       "      <td>2.197000e+03</td>\n",
       "    </tr>\n",
       "    <tr>\n",
       "      <th>mean</th>\n",
       "      <td>8.306843e+04</td>\n",
       "    </tr>\n",
       "    <tr>\n",
       "      <th>std</th>\n",
       "      <td>3.844940e+06</td>\n",
       "    </tr>\n",
       "    <tr>\n",
       "      <th>min</th>\n",
       "      <td>-2.730000e+02</td>\n",
       "    </tr>\n",
       "    <tr>\n",
       "      <th>25%</th>\n",
       "      <td>5.000000e+00</td>\n",
       "    </tr>\n",
       "    <tr>\n",
       "      <th>50%</th>\n",
       "      <td>7.100000e+01</td>\n",
       "    </tr>\n",
       "    <tr>\n",
       "      <th>75%</th>\n",
       "      <td>1.380000e+02</td>\n",
       "    </tr>\n",
       "    <tr>\n",
       "      <th>max</th>\n",
       "      <td>1.802202e+08</td>\n",
       "    </tr>\n",
       "  </tbody>\n",
       "</table>\n",
       "</div>"
      ],
      "text/plain": [
       "                 tg\n",
       "count  2.197000e+03\n",
       "mean   8.306843e+04\n",
       "std    3.844940e+06\n",
       "min   -2.730000e+02\n",
       "25%    5.000000e+00\n",
       "50%    7.100000e+01\n",
       "75%    1.380000e+02\n",
       "max    1.802202e+08"
      ]
     },
     "execution_count": 131,
     "metadata": {},
     "output_type": "execute_result"
    }
   ],
   "source": [
    "df_glass['tg'] = df_copy\n",
    "df_glass.to_csv(r'/Users/carlytravis/Documents/Research/Arola NUWC Project/Polymers/Melting Points/Exports/TGData_ALL_08_21.csv',index = False, header=True)\n",
    "df_copy.describe()\n",
    "df_glass.head()\n",
    "df_glass.describe()"
   ]
  },
  {
   "cell_type": "code",
   "execution_count": 132,
   "metadata": {},
   "outputs": [
    {
     "data": {
      "text/html": [
       "<div>\n",
       "<style scoped>\n",
       "    .dataframe tbody tr th:only-of-type {\n",
       "        vertical-align: middle;\n",
       "    }\n",
       "\n",
       "    .dataframe tbody tr th {\n",
       "        vertical-align: top;\n",
       "    }\n",
       "\n",
       "    .dataframe thead th {\n",
       "        text-align: right;\n",
       "    }\n",
       "</style>\n",
       "<table border=\"1\" class=\"dataframe\">\n",
       "  <thead>\n",
       "    <tr style=\"text-align: right;\">\n",
       "      <th></th>\n",
       "      <th>polymer</th>\n",
       "      <th>CAS</th>\n",
       "      <th>tg</th>\n",
       "    </tr>\n",
       "  </thead>\n",
       "  <tbody>\n",
       "    <tr>\n",
       "      <th>0</th>\n",
       "      <td>Poly(acrylic acid)</td>\n",
       "      <td>9003-01-04</td>\n",
       "      <td>106.0</td>\n",
       "    </tr>\n",
       "    <tr>\n",
       "      <th>1</th>\n",
       "      <td>Poly(acrylic acid)</td>\n",
       "      <td>9003-01-04</td>\n",
       "      <td>75.0</td>\n",
       "    </tr>\n",
       "    <tr>\n",
       "      <th>2</th>\n",
       "      <td>Poly(1-adamantyl acrylate)</td>\n",
       "      <td>NaN</td>\n",
       "      <td>153.0</td>\n",
       "    </tr>\n",
       "    <tr>\n",
       "      <th>3</th>\n",
       "      <td>Poly(adamantyl crotonate)</td>\n",
       "      <td>NaN</td>\n",
       "      <td>234.0</td>\n",
       "    </tr>\n",
       "    <tr>\n",
       "      <th>4</th>\n",
       "      <td>Poly(adamantyl sorbate)</td>\n",
       "      <td>NaN</td>\n",
       "      <td>115.0</td>\n",
       "    </tr>\n",
       "  </tbody>\n",
       "</table>\n",
       "</div>"
      ],
      "text/plain": [
       "                      polymer         CAS     tg\n",
       "0          Poly(acrylic acid)  9003-01-04  106.0\n",
       "1          Poly(acrylic acid)  9003-01-04   75.0\n",
       "2  Poly(1-adamantyl acrylate)         NaN  153.0\n",
       "3   Poly(adamantyl crotonate)         NaN  234.0\n",
       "4     Poly(adamantyl sorbate)         NaN  115.0"
      ]
     },
     "execution_count": 132,
     "metadata": {},
     "output_type": "execute_result"
    }
   ],
   "source": [
    "df_glass.head()"
   ]
  },
  {
   "cell_type": "code",
   "execution_count": 134,
   "metadata": {},
   "outputs": [
    {
     "name": "stdout",
     "output_type": "stream",
     "text": [
      "                 tg\n",
      "count  2.197000e+03\n",
      "mean   8.306843e+04\n",
      "std    3.844940e+06\n",
      "min   -2.730000e+02\n",
      "25%    5.000000e+00\n",
      "50%    7.100000e+01\n",
      "75%    1.380000e+02\n",
      "max    1.802202e+08\n"
     ]
    },
    {
     "data": {
      "text/html": [
       "<div>\n",
       "<style scoped>\n",
       "    .dataframe tbody tr th:only-of-type {\n",
       "        vertical-align: middle;\n",
       "    }\n",
       "\n",
       "    .dataframe tbody tr th {\n",
       "        vertical-align: top;\n",
       "    }\n",
       "\n",
       "    .dataframe thead th {\n",
       "        text-align: right;\n",
       "    }\n",
       "</style>\n",
       "<table border=\"1\" class=\"dataframe\">\n",
       "  <thead>\n",
       "    <tr style=\"text-align: right;\">\n",
       "      <th></th>\n",
       "      <th>polymer</th>\n",
       "      <th>CAS</th>\n",
       "      <th>tg</th>\n",
       "    </tr>\n",
       "  </thead>\n",
       "  <tbody>\n",
       "    <tr>\n",
       "      <th>1</th>\n",
       "      <td>Poly(acrylic acid)</td>\n",
       "      <td>9003-01-04</td>\n",
       "      <td>75.0</td>\n",
       "    </tr>\n",
       "    <tr>\n",
       "      <th>9</th>\n",
       "      <td>Poly(butyl acrylate)</td>\n",
       "      <td>9003-49-0</td>\n",
       "      <td>-49.0</td>\n",
       "    </tr>\n",
       "    <tr>\n",
       "      <th>11</th>\n",
       "      <td>Poly(sec-butyl acrylate)</td>\n",
       "      <td>NaN</td>\n",
       "      <td>-20.0</td>\n",
       "    </tr>\n",
       "    <tr>\n",
       "      <th>12</th>\n",
       "      <td>Poly(sec-butyl acrylate)</td>\n",
       "      <td>NaN</td>\n",
       "      <td>-20.0</td>\n",
       "    </tr>\n",
       "    <tr>\n",
       "      <th>13</th>\n",
       "      <td>Poly(sec-butyl acrylate)</td>\n",
       "      <td>NaN</td>\n",
       "      <td>-23.0</td>\n",
       "    </tr>\n",
       "    <tr>\n",
       "      <th>...</th>\n",
       "      <td>...</td>\n",
       "      <td>...</td>\n",
       "      <td>...</td>\n",
       "    </tr>\n",
       "    <tr>\n",
       "      <th>2068</th>\n",
       "      <td>Poly(pyromellitic dianhydride) Kapton</td>\n",
       "      <td>NaN</td>\n",
       "      <td>420.0</td>\n",
       "    </tr>\n",
       "    <tr>\n",
       "      <th>2185</th>\n",
       "      <td>Poly(pyrrole),p-toluene sulfonated</td>\n",
       "      <td>NaN</td>\n",
       "      <td>155.0</td>\n",
       "    </tr>\n",
       "    <tr>\n",
       "      <th>2221</th>\n",
       "      <td>Poly(3-phenylquinoxaline-2,7-diyloxy-3-phenylq...</td>\n",
       "      <td>NaN</td>\n",
       "      <td>298.0</td>\n",
       "    </tr>\n",
       "    <tr>\n",
       "      <th>2269</th>\n",
       "      <td>Copolyester, aromatic</td>\n",
       "      <td>NaN</td>\n",
       "      <td>104.0</td>\n",
       "    </tr>\n",
       "    <tr>\n",
       "      <th>2290</th>\n",
       "      <td>Poly(ethyl methacrylate-co-methyl methacrylate)</td>\n",
       "      <td>NaN</td>\n",
       "      <td>92.0</td>\n",
       "    </tr>\n",
       "  </tbody>\n",
       "</table>\n",
       "<p>415 rows × 3 columns</p>\n",
       "</div>"
      ],
      "text/plain": [
       "                                                polymer         CAS     tg\n",
       "1                                    Poly(acrylic acid)  9003-01-04   75.0\n",
       "9                                  Poly(butyl acrylate)   9003-49-0  -49.0\n",
       "11                             Poly(sec-butyl acrylate)         NaN  -20.0\n",
       "12                             Poly(sec-butyl acrylate)         NaN  -20.0\n",
       "13                             Poly(sec-butyl acrylate)         NaN  -23.0\n",
       "...                                                 ...         ...    ...\n",
       "2068              Poly(pyromellitic dianhydride) Kapton         NaN  420.0\n",
       "2185                 Poly(pyrrole),p-toluene sulfonated         NaN  155.0\n",
       "2221  Poly(3-phenylquinoxaline-2,7-diyloxy-3-phenylq...         NaN  298.0\n",
       "2269                              Copolyester, aromatic         NaN  104.0\n",
       "2290    Poly(ethyl methacrylate-co-methyl methacrylate)         NaN   92.0\n",
       "\n",
       "[415 rows x 3 columns]"
      ]
     },
     "execution_count": 134,
     "metadata": {},
     "output_type": "execute_result"
    }
   ],
   "source": [
    "df_g = df_glass\n",
    "#clean up float data\n",
    "#df_g = df_g[df_g['tg'] < 350] \n",
    "#df_g = df_g[df_g['tg'] > -100] \n",
    "print(df_g.describe())\n",
    "#group duplicates and average them\n",
    "#df_g = df_g.groupby('polymer')['tg'].mean().reset_index()\n",
    "df_g.describe()\n",
    "df_g[df_g['polymer'].duplicated()]"
   ]
  },
  {
   "cell_type": "markdown",
   "metadata": {},
   "source": [
    "# Most Important Polymers Properties"
   ]
  },
  {
   "cell_type": "code",
   "execution_count": 142,
   "metadata": {},
   "outputs": [],
   "source": [
    "path2 = '/Users/carlytravis/Documents/Research/Arola NUWC Project/Polymers/Most Important Polymers'\n",
    "chdir(path2)\n",
    "mip = pd.read_excel('MIP.xlsx')"
   ]
  },
  {
   "cell_type": "code",
   "execution_count": 144,
   "metadata": {},
   "outputs": [
    {
     "data": {
      "text/html": [
       "<div>\n",
       "<style scoped>\n",
       "    .dataframe tbody tr th:only-of-type {\n",
       "        vertical-align: middle;\n",
       "    }\n",
       "\n",
       "    .dataframe tbody tr th {\n",
       "        vertical-align: top;\n",
       "    }\n",
       "\n",
       "    .dataframe thead th {\n",
       "        text-align: right;\n",
       "    }\n",
       "</style>\n",
       "<table border=\"1\" class=\"dataframe\">\n",
       "  <thead>\n",
       "    <tr style=\"text-align: right;\">\n",
       "      <th></th>\n",
       "      <th>polymer</th>\n",
       "      <th>polymer type</th>\n",
       "      <th>molar mass, M (g/mol)</th>\n",
       "      <th>density of amorphous polymer, ρa (g/cm3)</th>\n",
       "      <th>density of crystalline polymer, ρc (g/cm3)</th>\n",
       "      <th>thermal expansivity of a glass, eg  (10-4 cm3/(g K))</th>\n",
       "      <th>thermal expansivity of a liquid, el  (10-4 cm3/(g K))</th>\n",
       "      <th>specific heat capacity of solid polymer, Csp (J/(g K))</th>\n",
       "      <th>specific heat capacity of liquid polymer, Clp (J/(g K))</th>\n",
       "      <th>molar enthalpy of fusion, ΔHm (kJ/mol)</th>\n",
       "      <th>glass-transition temperature, Tg (K)</th>\n",
       "      <th>crystalline melting point, Tm (K)</th>\n",
       "      <th>solubility parameter, δ ((J/cm3)1/2)</th>\n",
       "      <th>surface tension, γ (mN/m)</th>\n",
       "      <th>index of refraction, n</th>\n",
       "      <th>potential energy constant, ε</th>\n",
       "      <th>thermal conductivity of amorphous polymer, λa (J/(m s K))</th>\n",
       "      <th>thermal conductivity of amorphous polymer, λc (J/(m s K))</th>\n",
       "      <th>unperturbed viscosity coefficient, KΘ (cm3 mol1/2 g&amp;minus3/2)</th>\n",
       "    </tr>\n",
       "  </thead>\n",
       "  <tbody>\n",
       "    <tr>\n",
       "      <th>0</th>\n",
       "      <td>Poly(2-vinyl pyridine)</td>\n",
       "      <td>Polyhalo-olefines</td>\n",
       "      <td>105.1</td>\n",
       "      <td>NaN</td>\n",
       "      <td>NaN</td>\n",
       "      <td>NaN</td>\n",
       "      <td>NaN</td>\n",
       "      <td>NaN</td>\n",
       "      <td>NaN</td>\n",
       "      <td>NaN</td>\n",
       "      <td>377.0</td>\n",
       "      <td>488.0</td>\n",
       "      <td>NaN</td>\n",
       "      <td>NaN</td>\n",
       "      <td>NaN</td>\n",
       "      <td>NaN</td>\n",
       "      <td>NaN</td>\n",
       "      <td>NaN</td>\n",
       "      <td>0.082</td>\n",
       "    </tr>\n",
       "    <tr>\n",
       "      <th>1</th>\n",
       "      <td>Poly(vinyl pyrrolidone)</td>\n",
       "      <td>Polyhalo-olefines</td>\n",
       "      <td>111.1</td>\n",
       "      <td>1.25</td>\n",
       "      <td>NaN</td>\n",
       "      <td>NaN</td>\n",
       "      <td>NaN</td>\n",
       "      <td>NaN</td>\n",
       "      <td>NaN</td>\n",
       "      <td>NaN</td>\n",
       "      <td>93.0</td>\n",
       "      <td>NaN</td>\n",
       "      <td>NaN</td>\n",
       "      <td>NaN</td>\n",
       "      <td>1.530</td>\n",
       "      <td>NaN</td>\n",
       "      <td>NaN</td>\n",
       "      <td>NaN</td>\n",
       "      <td>0.074</td>\n",
       "    </tr>\n",
       "    <tr>\n",
       "      <th>2</th>\n",
       "      <td>Poly(vinyl carbazole)</td>\n",
       "      <td>Polyhalo-olefines</td>\n",
       "      <td>193.2</td>\n",
       "      <td>1.20</td>\n",
       "      <td>0.988</td>\n",
       "      <td>NaN</td>\n",
       "      <td>NaN</td>\n",
       "      <td>NaN</td>\n",
       "      <td>NaN</td>\n",
       "      <td>NaN</td>\n",
       "      <td>491.0</td>\n",
       "      <td>NaN</td>\n",
       "      <td>NaN</td>\n",
       "      <td>NaN</td>\n",
       "      <td>1.683</td>\n",
       "      <td>NaN</td>\n",
       "      <td>0.1405</td>\n",
       "      <td>NaN</td>\n",
       "      <td>0.074</td>\n",
       "    </tr>\n",
       "    <tr>\n",
       "      <th>3</th>\n",
       "      <td>Poly(acrylic acid)</td>\n",
       "      <td>Polyacrylates</td>\n",
       "      <td>72.1</td>\n",
       "      <td>NaN</td>\n",
       "      <td>NaN</td>\n",
       "      <td>NaN</td>\n",
       "      <td>NaN</td>\n",
       "      <td>NaN</td>\n",
       "      <td>NaN</td>\n",
       "      <td>NaN</td>\n",
       "      <td>379.0</td>\n",
       "      <td>NaN</td>\n",
       "      <td>NaN</td>\n",
       "      <td>82.0</td>\n",
       "      <td>1.527</td>\n",
       "      <td>NaN</td>\n",
       "      <td>NaN</td>\n",
       "      <td>NaN</td>\n",
       "      <td>0.076</td>\n",
       "    </tr>\n",
       "    <tr>\n",
       "      <th>4</th>\n",
       "      <td>Poly(methyl acrylate)</td>\n",
       "      <td>Polyacrylates</td>\n",
       "      <td>86.1</td>\n",
       "      <td>1.22</td>\n",
       "      <td>NaN</td>\n",
       "      <td>2.3</td>\n",
       "      <td>5.0</td>\n",
       "      <td>1.34</td>\n",
       "      <td>1.8</td>\n",
       "      <td>NaN</td>\n",
       "      <td>279.0</td>\n",
       "      <td>NaN</td>\n",
       "      <td>19.8</td>\n",
       "      <td>41.0</td>\n",
       "      <td>1.479</td>\n",
       "      <td>5.0</td>\n",
       "      <td>NaN</td>\n",
       "      <td>NaN</td>\n",
       "      <td>0.054</td>\n",
       "    </tr>\n",
       "  </tbody>\n",
       "</table>\n",
       "</div>"
      ],
      "text/plain": [
       "                   polymer       polymer type  molar mass, M (g/mol)  \\\n",
       "0   Poly(2-vinyl pyridine)  Polyhalo-olefines                  105.1   \n",
       "1  Poly(vinyl pyrrolidone)  Polyhalo-olefines                  111.1   \n",
       "2    Poly(vinyl carbazole)  Polyhalo-olefines                  193.2   \n",
       "3       Poly(acrylic acid)      Polyacrylates                   72.1   \n",
       "4    Poly(methyl acrylate)      Polyacrylates                   86.1   \n",
       "\n",
       "   density of amorphous polymer, ρa (g/cm3)  \\\n",
       "0                                       NaN   \n",
       "1                                      1.25   \n",
       "2                                      1.20   \n",
       "3                                       NaN   \n",
       "4                                      1.22   \n",
       "\n",
       "   density of crystalline polymer, ρc (g/cm3)  \\\n",
       "0                                         NaN   \n",
       "1                                         NaN   \n",
       "2                                       0.988   \n",
       "3                                         NaN   \n",
       "4                                         NaN   \n",
       "\n",
       "   thermal expansivity of a glass, eg  (10-4 cm3/(g K))  \\\n",
       "0                                                NaN      \n",
       "1                                                NaN      \n",
       "2                                                NaN      \n",
       "3                                                NaN      \n",
       "4                                                2.3      \n",
       "\n",
       "   thermal expansivity of a liquid, el  (10-4 cm3/(g K))  \\\n",
       "0                                                NaN       \n",
       "1                                                NaN       \n",
       "2                                                NaN       \n",
       "3                                                NaN       \n",
       "4                                                5.0       \n",
       "\n",
       "   specific heat capacity of solid polymer, Csp (J/(g K))  \\\n",
       "0                                                NaN        \n",
       "1                                                NaN        \n",
       "2                                                NaN        \n",
       "3                                                NaN        \n",
       "4                                               1.34        \n",
       "\n",
       "   specific heat capacity of liquid polymer, Clp (J/(g K))  \\\n",
       "0                                                NaN         \n",
       "1                                                NaN         \n",
       "2                                                NaN         \n",
       "3                                                NaN         \n",
       "4                                                1.8         \n",
       "\n",
       "  molar enthalpy of fusion, ΔHm (kJ/mol)  \\\n",
       "0                                    NaN   \n",
       "1                                    NaN   \n",
       "2                                    NaN   \n",
       "3                                    NaN   \n",
       "4                                    NaN   \n",
       "\n",
       "   glass-transition temperature, Tg (K)  crystalline melting point, Tm (K)  \\\n",
       "0                                 377.0                              488.0   \n",
       "1                                  93.0                                NaN   \n",
       "2                                 491.0                                NaN   \n",
       "3                                 379.0                                NaN   \n",
       "4                                 279.0                                NaN   \n",
       "\n",
       "   solubility parameter, δ ((J/cm3)1/2)  surface tension, γ (mN/m)  \\\n",
       "0                                   NaN                        NaN   \n",
       "1                                   NaN                        NaN   \n",
       "2                                   NaN                        NaN   \n",
       "3                                   NaN                       82.0   \n",
       "4                                  19.8                       41.0   \n",
       "\n",
       "   index of refraction, n  potential energy constant, ε  \\\n",
       "0                     NaN                           NaN   \n",
       "1                   1.530                           NaN   \n",
       "2                   1.683                           NaN   \n",
       "3                   1.527                           NaN   \n",
       "4                   1.479                           5.0   \n",
       "\n",
       "   thermal conductivity of amorphous polymer, λa (J/(m s K))  \\\n",
       "0                                                NaN           \n",
       "1                                                NaN           \n",
       "2                                             0.1405           \n",
       "3                                                NaN           \n",
       "4                                                NaN           \n",
       "\n",
       "   thermal conductivity of amorphous polymer, λc (J/(m s K))  \\\n",
       "0                                                NaN           \n",
       "1                                                NaN           \n",
       "2                                                NaN           \n",
       "3                                                NaN           \n",
       "4                                                NaN           \n",
       "\n",
       "   unperturbed viscosity coefficient, KΘ (cm3 mol1/2 g&minus3/2)  \n",
       "0                                              0.082              \n",
       "1                                              0.074              \n",
       "2                                              0.074              \n",
       "3                                              0.076              \n",
       "4                                              0.054              "
      ]
     },
     "execution_count": 144,
     "metadata": {},
     "output_type": "execute_result"
    }
   ],
   "source": [
    "mip_keys = mip.keys()\n",
    "mip.head()"
   ]
  },
  {
   "cell_type": "code",
   "execution_count": 147,
   "metadata": {},
   "outputs": [],
   "source": [
    "#categories of polymer\n",
    "types = pd.unique(mip['polymer type'])"
   ]
  },
  {
   "cell_type": "markdown",
   "metadata": {},
   "source": [
    "# CAS Numbers of Polymers\n",
    "- Distinct values that can be searched in python chem tools"
   ]
  },
  {
   "cell_type": "code",
   "execution_count": 181,
   "metadata": {},
   "outputs": [
    {
     "name": "stdout",
     "output_type": "stream",
     "text": [
      "['TableData (02).csv', 'TableData (03).csv', 'TableData (08).csv', 'TableData (04).csv', 'TableData (05).csv', 'TableData (09).csv', 'TableData (06).csv', 'TableData (10).csv', 'TableData (07).csv', 'TableData (00).csv', 'TableData (01).csv']\n"
     ]
    }
   ],
   "source": [
    "path2 = '/Users/carlytravis/Documents/Research/Arola NUWC Project/Polymers/CAS Numbers'\n",
    "chdir(path2)\n",
    "onlyfiles = [f for f in listdir(path2) if isfile(join(path2, f))]\n",
    "extension = 'csv'\n",
    "filenames = [i for i in glob.glob('*.{}'.format(extension))]\n",
    "\n",
    "print(filenames)"
   ]
  },
  {
   "cell_type": "code",
   "execution_count": 182,
   "metadata": {},
   "outputs": [
    {
     "name": "stdout",
     "output_type": "stream",
     "text": [
      "(11, 1)\n"
     ]
    }
   ],
   "source": [
    "df1 = pd.DataFrame(filenames, columns=['CSV'])\n",
    "x = np.shape(df1)\n",
    "rslt_df = df1.sort_values(by='CSV')\n",
    "print((x))\n",
    "#11 by 1"
   ]
  },
  {
   "cell_type": "code",
   "execution_count": 171,
   "metadata": {},
   "outputs": [],
   "source": [
    "df1 = rslt_df.reset_index()\n",
    "del df1['index']"
   ]
  },
  {
   "cell_type": "code",
   "execution_count": 183,
   "metadata": {},
   "outputs": [
    {
     "name": "stdout",
     "output_type": "stream",
     "text": [
      "Index(['name', 'synonyms', 'CAS', 'CA name', 'level_4', 'mol.formula'], dtype='object')\n"
     ]
    },
    {
     "data": {
      "text/html": [
       "<div>\n",
       "<style scoped>\n",
       "    .dataframe tbody tr th:only-of-type {\n",
       "        vertical-align: middle;\n",
       "    }\n",
       "\n",
       "    .dataframe tbody tr th {\n",
       "        vertical-align: top;\n",
       "    }\n",
       "\n",
       "    .dataframe thead th {\n",
       "        text-align: right;\n",
       "    }\n",
       "</style>\n",
       "<table border=\"1\" class=\"dataframe\">\n",
       "  <thead>\n",
       "    <tr style=\"text-align: right;\">\n",
       "      <th></th>\n",
       "      <th>name</th>\n",
       "      <th>synonyms</th>\n",
       "      <th>CAS</th>\n",
       "      <th>CA name</th>\n",
       "      <th>level_4</th>\n",
       "      <th>mol.formula</th>\n",
       "    </tr>\n",
       "  </thead>\n",
       "  <tbody>\n",
       "    <tr>\n",
       "      <th>4</th>\n",
       "      <td>Alginic acid</td>\n",
       "      <td>NaN</td>\n",
       "      <td>9005-32-7</td>\n",
       "      <td>Alginic acid</td>\n",
       "      <td>R</td>\n",
       "      <td>Unk*</td>\n",
       "    </tr>\n",
       "    <tr>\n",
       "      <th>5</th>\n",
       "      <td>Alginic acid, sodium salt</td>\n",
       "      <td>NaN</td>\n",
       "      <td>9005-38-3</td>\n",
       "      <td>Alginic acid, sodium salt</td>\n",
       "      <td>R</td>\n",
       "      <td>Unk</td>\n",
       "    </tr>\n",
       "    <tr>\n",
       "      <th>6</th>\n",
       "      <td>Bayberry wax</td>\n",
       "      <td>Myrtle wax</td>\n",
       "      <td>8038-77-5</td>\n",
       "      <td>Fats and Glyceridic oils, bayberry</td>\n",
       "      <td>S*</td>\n",
       "      <td>Unk</td>\n",
       "    </tr>\n",
       "    <tr>\n",
       "      <th>7</th>\n",
       "      <td>Beeswax, refined, yellow</td>\n",
       "      <td>NaN</td>\n",
       "      <td>8012-89-3</td>\n",
       "      <td>Beeswax</td>\n",
       "      <td>S*</td>\n",
       "      <td>Unk</td>\n",
       "    </tr>\n",
       "    <tr>\n",
       "      <th>8</th>\n",
       "      <td>Boron nitride</td>\n",
       "      <td>NaN</td>\n",
       "      <td>10043-11-5</td>\n",
       "      <td>Boron nitride</td>\n",
       "      <td>R</td>\n",
       "      <td>BN</td>\n",
       "    </tr>\n",
       "  </tbody>\n",
       "</table>\n",
       "</div>"
      ],
      "text/plain": [
       "                        name    synonyms         CAS  \\\n",
       "4               Alginic acid         NaN   9005-32-7   \n",
       "5  Alginic acid, sodium salt         NaN   9005-38-3   \n",
       "6               Bayberry wax  Myrtle wax   8038-77-5   \n",
       "7   Beeswax, refined, yellow         NaN   8012-89-3   \n",
       "8              Boron nitride         NaN  10043-11-5   \n",
       "\n",
       "                              CA name level_4 mol.formula  \n",
       "4                        Alginic acid       R        Unk*  \n",
       "5           Alginic acid, sodium salt       R         Unk  \n",
       "6  Fats and Glyceridic oils, bayberry      S*         Unk  \n",
       "7                             Beeswax      S*         Unk  \n",
       "8                       Boron nitride       R          BN  "
      ]
     },
     "execution_count": 183,
     "metadata": {},
     "output_type": "execute_result"
    }
   ],
   "source": [
    "df3 = pd.read_csv('TableData (00).csv', sep=';')\n",
    "df3 = df3.reset_index()\n",
    "df3.drop(df3.head(4).index,inplace=True)\n",
    "df3.drop(df3.tail(3).index,inplace=True)\n",
    "df3.drop(df3.iloc[:,6:], axis=1, inplace=True)\n",
    "df3 = df3.rename(columns={'level_0':'name', 'level_1':'synonyms', 'level_2':'CAS', \n",
    "                          'level_3':'CA name', 'level_5':'mol.formula'})\n",
    "keys = df3.keys()\n",
    "print(keys)\n",
    "df3.head()"
   ]
  },
  {
   "cell_type": "code",
   "execution_count": 184,
   "metadata": {
    "scrolled": true
   },
   "outputs": [
    {
     "data": {
      "text/html": [
       "<div>\n",
       "<style scoped>\n",
       "    .dataframe tbody tr th:only-of-type {\n",
       "        vertical-align: middle;\n",
       "    }\n",
       "\n",
       "    .dataframe tbody tr th {\n",
       "        vertical-align: top;\n",
       "    }\n",
       "\n",
       "    .dataframe thead th {\n",
       "        text-align: right;\n",
       "    }\n",
       "</style>\n",
       "<table border=\"1\" class=\"dataframe\">\n",
       "  <thead>\n",
       "    <tr style=\"text-align: right;\">\n",
       "      <th></th>\n",
       "      <th>polymer</th>\n",
       "      <th>level_1</th>\n",
       "      <th>CAS</th>\n",
       "      <th>tg</th>\n",
       "      <th>name</th>\n",
       "      <th>synonyms</th>\n",
       "      <th>CA name</th>\n",
       "      <th>level_4</th>\n",
       "      <th>mol.formula</th>\n",
       "    </tr>\n",
       "  </thead>\n",
       "  <tbody>\n",
       "    <tr>\n",
       "      <th>6575</th>\n",
       "      <td>NaN</td>\n",
       "      <td>NaN</td>\n",
       "      <td>25014-41-9</td>\n",
       "      <td>NaN</td>\n",
       "      <td>Poly(acrylonitrile)</td>\n",
       "      <td>Acrylonitrile polymer; poly(1-cyanoethylene)</td>\n",
       "      <td>2-Propenenitrile, homopolymer</td>\n",
       "      <td>R</td>\n",
       "      <td>(C3H3N)</td>\n",
       "    </tr>\n",
       "    <tr>\n",
       "      <th>6576</th>\n",
       "      <td>NaN</td>\n",
       "      <td>NaN</td>\n",
       "      <td>9003-18-3</td>\n",
       "      <td>NaN</td>\n",
       "      <td>Poly(acrylonitrile-co-butadiene)</td>\n",
       "      <td>Acrylonitrile-butadiene polymer</td>\n",
       "      <td>2-Propenenitrile, polymer with 1,3-butadiene</td>\n",
       "      <td>R</td>\n",
       "      <td>(C4H6·C3H3N)</td>\n",
       "    </tr>\n",
       "    <tr>\n",
       "      <th>6577</th>\n",
       "      <td>NaN</td>\n",
       "      <td>NaN</td>\n",
       "      <td>68683-29-4</td>\n",
       "      <td>NaN</td>\n",
       "      <td>Poly(acrylonitrile-co-butadiene), amine termin...</td>\n",
       "      <td>NaN</td>\n",
       "      <td>2-Propenenitrile, polymer with 1,3-butadiene, ...</td>\n",
       "      <td>R</td>\n",
       "      <td>(C4H6·C3H3N)</td>\n",
       "    </tr>\n",
       "    <tr>\n",
       "      <th>6578</th>\n",
       "      <td>NaN</td>\n",
       "      <td>NaN</td>\n",
       "      <td>88254-10-8</td>\n",
       "      <td>NaN</td>\n",
       "      <td>Poly(acrylonitrile-co-butadiene), hydrogenated</td>\n",
       "      <td>NaN</td>\n",
       "      <td>2-Propenenitrile, polymer with 1,3-butadiene, ...</td>\n",
       "      <td>*</td>\n",
       "      <td>(C4H6·C3H3N)</td>\n",
       "    </tr>\n",
       "    <tr>\n",
       "      <th>6579</th>\n",
       "      <td>NaN</td>\n",
       "      <td>NaN</td>\n",
       "      <td>68891-50-9</td>\n",
       "      <td>NaN</td>\n",
       "      <td>Poly(acrylonitrile-co-butadiene- co-acrylic ac...</td>\n",
       "      <td>NaN</td>\n",
       "      <td>2-Propenoic acid, polymer with 1,3-butadiene a...</td>\n",
       "      <td>*</td>\n",
       "      <td>(C4H6· C3H4O2· C3H3N)</td>\n",
       "    </tr>\n",
       "  </tbody>\n",
       "</table>\n",
       "</div>"
      ],
      "text/plain": [
       "     polymer level_1         CAS   tg  \\\n",
       "6575     NaN     NaN  25014-41-9  NaN   \n",
       "6576     NaN     NaN   9003-18-3  NaN   \n",
       "6577     NaN     NaN  68683-29-4  NaN   \n",
       "6578     NaN     NaN  88254-10-8  NaN   \n",
       "6579     NaN     NaN  68891-50-9  NaN   \n",
       "\n",
       "                                                   name  \\\n",
       "6575                                Poly(acrylonitrile)   \n",
       "6576                   Poly(acrylonitrile-co-butadiene)   \n",
       "6577  Poly(acrylonitrile-co-butadiene), amine termin...   \n",
       "6578     Poly(acrylonitrile-co-butadiene), hydrogenated   \n",
       "6579  Poly(acrylonitrile-co-butadiene- co-acrylic ac...   \n",
       "\n",
       "                                          synonyms  \\\n",
       "6575  Acrylonitrile polymer; poly(1-cyanoethylene)   \n",
       "6576               Acrylonitrile-butadiene polymer   \n",
       "6577                                           NaN   \n",
       "6578                                           NaN   \n",
       "6579                                           NaN   \n",
       "\n",
       "                                                CA name level_4  \\\n",
       "6575                      2-Propenenitrile, homopolymer       R   \n",
       "6576       2-Propenenitrile, polymer with 1,3-butadiene       R   \n",
       "6577  2-Propenenitrile, polymer with 1,3-butadiene, ...       R   \n",
       "6578  2-Propenenitrile, polymer with 1,3-butadiene, ...       *   \n",
       "6579  2-Propenoic acid, polymer with 1,3-butadiene a...       *   \n",
       "\n",
       "                mol.formula  \n",
       "6575                (C3H3N)  \n",
       "6576           (C4H6·C3H3N)  \n",
       "6577           (C4H6·C3H3N)  \n",
       "6578           (C4H6·C3H3N)  \n",
       "6579  (C4H6· C3H4O2· C3H3N)  "
      ]
     },
     "execution_count": 184,
     "metadata": {},
     "output_type": "execute_result"
    }
   ],
   "source": [
    "#combine all files in the list\n",
    "\n",
    "for i in range(0,11): #iterate through datasets\n",
    "    #read each file in list\n",
    "    df4 = pd.read_csv(df1.iloc[i,0], sep=';', dtype={'name': str,'CAS': str, 'synonyms': str, \n",
    "                                                     'CA name': str, 'mol.formula': str})\n",
    "    #reset index\n",
    "    df4 = df4.reset_index()\n",
    "    #drop non-data rows\n",
    "    df4.drop(df4.head(4).index,inplace=True)\n",
    "    df4.drop(df4.tail(3).index,inplace=True)\n",
    "    df4.drop(df4.iloc[:,6:], axis=1, inplace=True)\n",
    "    #set column names\n",
    "    df4 = df4.rename(columns={'level_0':'name', 'level_1':'synonyms', 'level_2':'CAS', \n",
    "                          'level_3':'CA name', 'level_5':'mol.formula'})\n",
    "    #merge datasets into one for better analysis\n",
    "    frames = [frames, df4]\n",
    "    frames = pd.concat(frames, axis=0, ignore_index=True)\n",
    "\n",
    "frames.tail()"
   ]
  },
  {
   "cell_type": "code",
   "execution_count": 185,
   "metadata": {},
   "outputs": [
    {
     "data": {
      "text/plain": [
       "(6580, 9)"
      ]
     },
     "execution_count": 185,
     "metadata": {},
     "output_type": "execute_result"
    }
   ],
   "source": [
    "frames.shape\n",
    "\n",
    "#6580x9"
   ]
  },
  {
   "cell_type": "code",
   "execution_count": 186,
   "metadata": {},
   "outputs": [],
   "source": [
    "#This defines tg dataframe CAS\n",
    "\n",
    "df_cas = frames.dropna(subset=['CAS'])\n",
    "#drop nan CAS\n",
    "df_cas = df_cas.drop(['level_1'], axis=1)\n",
    "df_cas = df_cas.drop(['level_4'], axis=1)"
   ]
  },
  {
   "cell_type": "code",
   "execution_count": 190,
   "metadata": {},
   "outputs": [
    {
     "data": {
      "text/plain": [
       "<class 'str'>    4532\n",
       "Name: CAS, dtype: int64"
      ]
     },
     "execution_count": 190,
     "metadata": {},
     "output_type": "execute_result"
    }
   ],
   "source": [
    "df_cas['CAS'].apply(type).value_counts()"
   ]
  },
  {
   "cell_type": "code",
   "execution_count": 191,
   "metadata": {},
   "outputs": [],
   "source": [
    "#export to csv\n",
    "\n",
    "df_cas.to_csv(r'/Users/carlytravis/Documents/Research/Arola NUWC Project/Polymers/CAS Numbers/CASCompiled_08_21.csv',index = False, header=True)\n",
    "\n",
    "\n"
   ]
  },
  {
   "cell_type": "markdown",
   "metadata": {},
   "source": [
    "# Convert Polymer Names to SMILES"
   ]
  },
  {
   "cell_type": "code",
   "execution_count": null,
   "metadata": {},
   "outputs": [],
   "source": []
  },
  {
   "cell_type": "code",
   "execution_count": null,
   "metadata": {},
   "outputs": [],
   "source": [
    "from urllib.request import urlopen\n",
    "\n",
    "def CIRconvert(ids):\n",
    "    try:\n",
    "        url = 'https://cactus.nci.nih.gov/chemical/structure' + ids + '/smiles'\n",
    "        ans = urlopen(url).read().decode('utf8')\n",
    "        return ans\n",
    "    except:\n",
    "        return 'Did not work'\n",
    "\n",
    "identifiers  = ['3-Methylheptane', 'Aspirin', 'Diethylsulfate', 'Diethyl sulfate', '50-78-2']\n",
    "\n",
    "for ids in identifiers :\n",
    "    print(ids, CIRconvert(ids))"
   ]
  },
  {
   "cell_type": "code",
   "execution_count": null,
   "metadata": {},
   "outputs": [],
   "source": [
    "import cirpy"
   ]
  },
  {
   "cell_type": "code",
   "execution_count": null,
   "metadata": {},
   "outputs": [],
   "source": [
    "import chemschematicresolver as csr\n",
    "from skimage import io\n",
    "from rdkit import Chem\n",
    "from rdkit.Chem.Draw import IPythonConsole\n",
    "from rdkit.Chem import Draw\n",
    "IPythonConsole.drawOptions.addAtomIndices = True\n",
    "IPythonConsole.molSize = 300,300"
   ]
  },
  {
   "cell_type": "markdown",
   "metadata": {},
   "source": [
    "## Data Visualization"
   ]
  },
  {
   "cell_type": "markdown",
   "metadata": {},
   "source": []
  },
  {
   "cell_type": "code",
   "execution_count": null,
   "metadata": {},
   "outputs": [],
   "source": [
    "import numpy as np\n",
    "import pandas as pd\n",
    "import matplotlib.pyplot as plt\n",
    "from mpl_toolkits import mplot3d\n",
    "from scipy.stats import norm\n",
    "from scipy.stats import mode\n",
    "%matplotlib inline"
   ]
  },
  {
   "cell_type": "code",
   "execution_count": null,
   "metadata": {},
   "outputs": [],
   "source": []
  },
  {
   "cell_type": "code",
   "execution_count": null,
   "metadata": {},
   "outputs": [],
   "source": [
    "#export to csv\n",
    "df_g.to_csv(r'/Users/carlytravis/Documents/Research /Arola NUWC Project/Melting Points/Exports/TGDataNoRepeats.csv',index = False, header=True)\n",
    "df_g.describe()"
   ]
  },
  {
   "cell_type": "code",
   "execution_count": null,
   "metadata": {},
   "outputs": [],
   "source": [
    "#print(df_n[df_n['polymer']].shape)\n",
    "print(df_g[df_g['polymer']].shape)"
   ]
  },
  {
   "cell_type": "code",
   "execution_count": null,
   "metadata": {},
   "outputs": [],
   "source": [
    "print((df_n[df_n['polymer'].str.contains('acrylate')]))\n",
    "print(df_g[df_g['polymer'].str.contains('acrylate')])"
   ]
  },
  {
   "cell_type": "code",
   "execution_count": null,
   "metadata": {},
   "outputs": [],
   "source": [
    "#merge two sets\n",
    "full_table = df_n.merge(\n",
    "  right=df_g, \n",
    "  how='left',\n",
    "  on=['polymer']\n",
    ")\n",
    "full_table.describe()"
   ]
  },
  {
   "cell_type": "code",
   "execution_count": null,
   "metadata": {},
   "outputs": [],
   "source": [
    "#np.where(df_n['polymer'] == df_g['polymer'])\n",
    "\n",
    "#df_glass[df_glass['polymer'].duplicated]\n",
    "df_glass[df_glass.duplicated(['polymer'])]\n",
    "#df['Diff'] = np.where( df['Score A'] == df['Score B'] , '1', '0')"
   ]
  },
  {
   "cell_type": "code",
   "execution_count": null,
   "metadata": {},
   "outputs": [],
   "source": [
    "#Tg values, read string for easy manipulation\n",
    "df_tg = pd.read_excel('glass_transition.xlsx',index_col=None, dtype={'Tg (K)': str})\n",
    "df_tg = df_tg.dropna()\n",
    "# https://pbpython.com/currency-cleanup.html\n",
    "df_tg['Tg (K)'] = df_tg['Tg (K)'].str.replace('~','').str.replace('>','').astype('float')\n",
    "\n",
    "#convert to celcius\n",
    "df_tg['Tg (K)'] = df_tg['Tg (K)'] - 273.15\n",
    "\n",
    "#Remove 50 > tg > 350 \n",
    "df_tg = df_tg[df_tg['Tg (K)'] < 350] \n",
    "df_tg = df_tg[df_tg['Tg (K)'] > 0] \n",
    "df_tg.describe()"
   ]
  },
  {
   "cell_type": "code",
   "execution_count": null,
   "metadata": {},
   "outputs": [],
   "source": [
    "#Rename polymer to match and average Tg values\n",
    "df_tg = df_tg.rename(columns={'Polymer':'polymer','Tg (K)':'Tg'})\n",
    "df_tg = df_tg.groupby('polymer')['Tg'].mean().reset_index()\n",
    "df_tg.shape"
   ]
  },
  {
   "cell_type": "code",
   "execution_count": null,
   "metadata": {},
   "outputs": [],
   "source": [
    "#check instances\n",
    "print((df_n[df_n['polymer'].str.contains('Poly(methyl acrylate)')]))\n",
    "print(df_tg[df_tg['polymer'].str.contains('Poly(methyl acrylate)')])"
   ]
  },
  {
   "cell_type": "code",
   "execution_count": null,
   "metadata": {},
   "outputs": [],
   "source": [
    "#e.g.: \n",
    "\n",
    "# Always write the SMILES or IUPAC name inside quotes ''/\"\".\n",
    "\n",
    "%python STOUT_V_2.1.py --smiles 'CN1C=NC2=C1C(=O)N(C(=O)N2C)C' #SMILES to IUPAC\n",
    "%python STOUT_V_2.1.py --iupac '1,3,7-trimethyl-2,3,6,7-tetrahydro-1H-purine-2,6-dione' #IUPAC to SMILES"
   ]
  },
  {
   "cell_type": "code",
   "execution_count": null,
   "metadata": {},
   "outputs": [],
   "source": [
    "import matplotlib.pyplot as plt\n",
    "from mpl_toolkits import mplot3d\n",
    "import seaborn as sns\n",
    "sns.set()\n",
    "%matplotlib inline"
   ]
  },
  {
   "cell_type": "code",
   "execution_count": null,
   "metadata": {},
   "outputs": [],
   "source": [
    "import matplotlib.pyplot as plt\n",
    "sns.lmplot(mp, mw, fit_reg = False);\n",
    "\n",
    "#density_plot.set_xlabel('Melting Point')\n",
    "#density_plot.set_ylabel('Molecular Weight (g/mol)')\n",
    "#density_plot.set_title('MP vs. MW')"
   ]
  },
  {
   "cell_type": "code",
   "execution_count": null,
   "metadata": {},
   "outputs": [],
   "source": []
  },
  {
   "cell_type": "code",
   "execution_count": null,
   "metadata": {},
   "outputs": [],
   "source": []
  },
  {
   "cell_type": "code",
   "execution_count": null,
   "metadata": {},
   "outputs": [],
   "source": []
  }
 ],
 "metadata": {
  "kernelspec": {
   "display_name": "my_pymatgen",
   "language": "python",
   "name": "my_pymatgen"
  },
  "language_info": {
   "codemirror_mode": {
    "name": "ipython",
    "version": 3
   },
   "file_extension": ".py",
   "mimetype": "text/x-python",
   "name": "python",
   "nbconvert_exporter": "python",
   "pygments_lexer": "ipython3",
   "version": "3.9.6"
  }
 },
 "nbformat": 4,
 "nbformat_minor": 4
}
