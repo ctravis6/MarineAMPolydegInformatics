{
 "cells": [
  {
   "cell_type": "code",
   "execution_count": 25,
   "metadata": {
    "colab": {
     "base_uri": "https://localhost:8080/"
    },
    "id": "yk5aalcGT6ik",
    "outputId": "24db2d95-18da-49c4-b61a-6a98a2f00a17"
   },
   "outputs": [
    {
     "name": "stdout",
     "output_type": "stream",
     "text": [
      "Collecting git+https://github.com/raman-noodles/Raman-noodles\n",
      "  Cloning https://github.com/raman-noodles/Raman-noodles to /tmp/pip-req-build-q3h8s3ra\n",
      "  Running command git clone -q https://github.com/raman-noodles/Raman-noodles /tmp/pip-req-build-q3h8s3ra\n",
      "Requirement already satisfied: numpy in /usr/local/lib/python3.7/dist-packages (from ramannoodles==2.0b0) (1.19.5)\n",
      "Requirement already satisfied: jcamp in /usr/local/lib/python3.7/dist-packages (from ramannoodles==2.0b0) (1.2.1)\n",
      "Requirement already satisfied: requests in /usr/local/lib/python3.7/dist-packages (from ramannoodles==2.0b0) (2.23.0)\n",
      "Requirement already satisfied: matplotlib in /usr/local/lib/python3.7/dist-packages (from ramannoodles==2.0b0) (3.2.2)\n",
      "Requirement already satisfied: scipy in /usr/local/lib/python3.7/dist-packages (from ramannoodles==2.0b0) (1.4.1)\n",
      "Requirement already satisfied: lmfit in /usr/local/lib/python3.7/dist-packages (from ramannoodles==2.0b0) (1.0.2)\n",
      "Requirement already satisfied: peakutils in /usr/local/lib/python3.7/dist-packages (from ramannoodles==2.0b0) (1.3.3)\n",
      "Requirement already satisfied: h5py in /usr/local/lib/python3.7/dist-packages (from ramannoodles==2.0b0) (3.1.0)\n",
      "Requirement already satisfied: pandas in /usr/local/lib/python3.7/dist-packages (from ramannoodles==2.0b0) (1.1.5)\n",
      "Requirement already satisfied: xlrd in /usr/local/lib/python3.7/dist-packages (from ramannoodles==2.0b0) (1.1.0)\n",
      "Requirement already satisfied: cached-property in /usr/local/lib/python3.7/dist-packages (from h5py->ramannoodles==2.0b0) (1.5.2)\n",
      "Requirement already satisfied: six in /usr/local/lib/python3.7/dist-packages (from jcamp->ramannoodles==2.0b0) (1.15.0)\n",
      "Requirement already satisfied: asteval>=0.9.16 in /usr/local/lib/python3.7/dist-packages (from lmfit->ramannoodles==2.0b0) (0.9.25)\n",
      "Requirement already satisfied: uncertainties>=3.0.1 in /usr/local/lib/python3.7/dist-packages (from lmfit->ramannoodles==2.0b0) (3.1.6)\n",
      "Requirement already satisfied: future in /usr/local/lib/python3.7/dist-packages (from uncertainties>=3.0.1->lmfit->ramannoodles==2.0b0) (0.16.0)\n",
      "Requirement already satisfied: kiwisolver>=1.0.1 in /usr/local/lib/python3.7/dist-packages (from matplotlib->ramannoodles==2.0b0) (1.3.1)\n",
      "Requirement already satisfied: cycler>=0.10 in /usr/local/lib/python3.7/dist-packages (from matplotlib->ramannoodles==2.0b0) (0.10.0)\n",
      "Requirement already satisfied: python-dateutil>=2.1 in /usr/local/lib/python3.7/dist-packages (from matplotlib->ramannoodles==2.0b0) (2.8.1)\n",
      "Requirement already satisfied: pyparsing!=2.0.4,!=2.1.2,!=2.1.6,>=2.0.1 in /usr/local/lib/python3.7/dist-packages (from matplotlib->ramannoodles==2.0b0) (2.4.7)\n",
      "Requirement already satisfied: pytz>=2017.2 in /usr/local/lib/python3.7/dist-packages (from pandas->ramannoodles==2.0b0) (2018.9)\n",
      "Requirement already satisfied: chardet<4,>=3.0.2 in /usr/local/lib/python3.7/dist-packages (from requests->ramannoodles==2.0b0) (3.0.4)\n",
      "Requirement already satisfied: certifi>=2017.4.17 in /usr/local/lib/python3.7/dist-packages (from requests->ramannoodles==2.0b0) (2021.5.30)\n",
      "Requirement already satisfied: urllib3!=1.25.0,!=1.25.1,<1.26,>=1.21.1 in /usr/local/lib/python3.7/dist-packages (from requests->ramannoodles==2.0b0) (1.24.3)\n",
      "Requirement already satisfied: idna<3,>=2.5 in /usr/local/lib/python3.7/dist-packages (from requests->ramannoodles==2.0b0) (2.10)\n",
      "Collecting git+https://github.com/raman-noodles/raman-spectra-decomp-analysis\n",
      "  Cloning https://github.com/raman-noodles/raman-spectra-decomp-analysis to /tmp/pip-req-build-cs2p1tly\n",
      "  Running command git clone -q https://github.com/raman-noodles/raman-spectra-decomp-analysis /tmp/pip-req-build-cs2p1tly\n",
      "Requirement already satisfied: numpy in /usr/local/lib/python3.7/dist-packages (from ramandecompy==1.0b0) (1.19.5)\n",
      "Requirement already satisfied: matplotlib in /usr/local/lib/python3.7/dist-packages (from ramandecompy==1.0b0) (3.2.2)\n",
      "Requirement already satisfied: scipy in /usr/local/lib/python3.7/dist-packages (from ramandecompy==1.0b0) (1.4.1)\n",
      "Requirement already satisfied: lmfit in /usr/local/lib/python3.7/dist-packages (from ramandecompy==1.0b0) (1.0.2)\n",
      "Requirement already satisfied: peakutils in /usr/local/lib/python3.7/dist-packages (from ramandecompy==1.0b0) (1.3.3)\n",
      "Requirement already satisfied: h5py in /usr/local/lib/python3.7/dist-packages (from ramandecompy==1.0b0) (3.1.0)\n",
      "Requirement already satisfied: pandas in /usr/local/lib/python3.7/dist-packages (from ramandecompy==1.0b0) (1.1.5)\n",
      "Requirement already satisfied: xlrd in /usr/local/lib/python3.7/dist-packages (from ramandecompy==1.0b0) (1.1.0)\n",
      "Collecting lineid_plot\n",
      "  Downloading lineid_plot-0.6-py2.py3-none-any.whl (9.6 kB)\n",
      "Requirement already satisfied: sklearn in /usr/local/lib/python3.7/dist-packages (from ramandecompy==1.0b0) (0.0)\n",
      "Requirement already satisfied: cached-property in /usr/local/lib/python3.7/dist-packages (from h5py->ramandecompy==1.0b0) (1.5.2)\n",
      "Requirement already satisfied: uncertainties>=3.0.1 in /usr/local/lib/python3.7/dist-packages (from lmfit->ramandecompy==1.0b0) (3.1.6)\n",
      "Requirement already satisfied: asteval>=0.9.16 in /usr/local/lib/python3.7/dist-packages (from lmfit->ramandecompy==1.0b0) (0.9.25)\n",
      "Requirement already satisfied: future in /usr/local/lib/python3.7/dist-packages (from uncertainties>=3.0.1->lmfit->ramandecompy==1.0b0) (0.16.0)\n",
      "Requirement already satisfied: pyparsing!=2.0.4,!=2.1.2,!=2.1.6,>=2.0.1 in /usr/local/lib/python3.7/dist-packages (from matplotlib->ramandecompy==1.0b0) (2.4.7)\n",
      "Requirement already satisfied: kiwisolver>=1.0.1 in /usr/local/lib/python3.7/dist-packages (from matplotlib->ramandecompy==1.0b0) (1.3.1)\n",
      "Requirement already satisfied: python-dateutil>=2.1 in /usr/local/lib/python3.7/dist-packages (from matplotlib->ramandecompy==1.0b0) (2.8.1)\n",
      "Requirement already satisfied: cycler>=0.10 in /usr/local/lib/python3.7/dist-packages (from matplotlib->ramandecompy==1.0b0) (0.10.0)\n",
      "Requirement already satisfied: six in /usr/local/lib/python3.7/dist-packages (from cycler>=0.10->matplotlib->ramandecompy==1.0b0) (1.15.0)\n",
      "Requirement already satisfied: pytz>=2017.2 in /usr/local/lib/python3.7/dist-packages (from pandas->ramandecompy==1.0b0) (2018.9)\n",
      "Requirement already satisfied: scikit-learn in /usr/local/lib/python3.7/dist-packages (from sklearn->ramandecompy==1.0b0) (0.22.2.post1)\n",
      "Requirement already satisfied: joblib>=0.11 in /usr/local/lib/python3.7/dist-packages (from scikit-learn->sklearn->ramandecompy==1.0b0) (1.0.1)\n",
      "Building wheels for collected packages: ramandecompy\n",
      "  Building wheel for ramandecompy (setup.py) ... \u001b[?25l\u001b[?25hdone\n",
      "  Created wheel for ramandecompy: filename=ramandecompy-1.0b0-py3-none-any.whl size=26427 sha256=0006aa0b1e16c9c1899080e239c8d604343df9c0126dc0ab9476059a263be018\n",
      "  Stored in directory: /tmp/pip-ephem-wheel-cache-7mm1cpdj/wheels/3f/48/da/1990a039909abc187cc5f04bc7dc6d4502518aa8af0e64168b\n",
      "Successfully built ramandecompy\n",
      "Installing collected packages: lineid-plot, ramandecompy\n",
      "Successfully installed lineid-plot-0.6 ramandecompy-1.0b0\n"
     ]
    }
   ],
   "source": [
    "import math\n",
    "import pickle\n",
    "import matplotlib.pyplot as plt\n",
    "import numpy as np\n",
    "import pandas as pd\n",
    "%pip install git+https://github.com/raman-noodles/Raman-noodles\n",
    "%pip install git+https://github.com/raman-noodles/raman-spectra-decomp-analysis\n",
    "from ramannoodles import spectrafit\n",
    "from ramannoodles import shoyu\n",
    "from ramannoodles import peakidentify"
   ]
  },
  {
   "cell_type": "code",
   "execution_count": null,
   "metadata": {
    "id": "LOVYMKMF73HB"
   },
   "outputs": [],
   "source": []
  },
  {
   "cell_type": "code",
   "execution_count": 6,
   "metadata": {
    "colab": {
     "base_uri": "https://localhost:8080/"
    },
    "id": "a4kQYjO5WTDW",
    "outputId": "11b1d1a9-fe91-4871-e381-74948c437346"
   },
   "outputs": [
    {
     "name": "stdout",
     "output_type": "stream",
     "text": [
      "/content\n"
     ]
    }
   ],
   "source": [
    "# packages\n",
    "import pickle\n",
    "import jcamp\n",
    "import peakutils\n",
    "import math\n",
    "import matplotlib as matplotlib\n",
    "import matplotlib.pyplot as plt\n",
    "import numpy as np  \n",
    "import os\n",
    "import glob\n",
    "from os import chdir\n",
    "import pandas as pd\n",
    "import numpy as np\n",
    "from sklearn.model_selection import train_test_split\n",
    "import time\n",
    "from os import listdir\n",
    "from os.path import isfile, join\n",
    "import csv\n",
    "\n",
    "import scipy.stats\n",
    "from mpl_toolkits import mplot3d\n",
    "from scipy.stats import norm\n",
    "from scipy.stats import mode\n",
    "from mpl_toolkits.mplot3d import Axes3D"
   ]
  },
  {
   "cell_type": "markdown",
   "metadata": {
    "id": "Dpoy3G03xcGd"
   },
   "source": [
    "#**PPS Data Import**#\n",
    "\n",
    "PPS NIST Chemistry Webbook Spectra:\n",
    "\n",
    "https://srdata.nist.gov/xps/query_chem_name_detail.aspx?ID_NO=23196"
   ]
  },
  {
   "cell_type": "code",
   "execution_count": 10,
   "metadata": {
    "colab": {
     "base_uri": "https://localhost:8080/"
    },
    "id": "E07JxsApsYwf",
    "outputId": "60eadee7-31a7-4a0b-a4f8-c80d9cbcba82"
   },
   "outputs": [
    {
     "name": "stdout",
     "output_type": "stream",
     "text": [
      "file downloaded to raman_spectra folder\n",
      "WATER loaded into the dictionary - shoyu_data_dict.p\n",
      "file downloaded to raman_spectra folder\n",
      "CARBON MONOXIDE loaded into the dictionary - shoyu_data_dict.p\n",
      "file downloaded to raman_spectra folder\n",
      "CARBON DIOXIDE loaded into the dictionary - shoyu_data_dict.p\n",
      "file downloaded to raman_spectra folder\n",
      "FORMIC ACID loaded into the dictionary - shoyu_data_dict.p\n",
      "file downloaded to raman_spectra folder\n",
      "2-PROPANOL loaded into the dictionary - shoyu_data_dict.p\n",
      "file downloaded to raman_spectra folder\n",
      "ETHYL ALCOHOL loaded into the dictionary - shoyu_data_dict.p\n",
      "file downloaded to raman_spectra folder\n",
      "DIMETHYL KETONE loaded into the dictionary - shoyu_data_dict.p\n",
      "file downloaded to raman_spectra folder\n",
      "n-PENTANE loaded into the dictionary - shoyu_data_dict.p\n"
     ]
    },
    {
     "data": {
      "text/plain": [
       "['N-PENTANE']"
      ]
     },
     "execution_count": 10,
     "metadata": {
      "tags": []
     },
     "output_type": "execute_result"
    }
   ],
   "source": [
    "from ramannoodles import spectrafit\n",
    "from ramannoodles import shoyu\n",
    "from ramannoodles import peakidentify\n",
    "\n",
    "#Call the function, which will return text detailing what files you are downloading, and the directory \n",
    "#that they are being downloaded into. \n",
    "shoyu.initialize_standard_library()\n",
    "# open spectra library\n",
    "shoyu_data_dict = pickle.load(open('../raman_spectra/shoyu_data_dict.p', 'rb'))\n",
    "# list keys\n",
    "sorted(shoyu_data_dict.keys())"
   ]
  },
  {
   "cell_type": "markdown",
   "metadata": {
    "id": "XYOxjvwrz__z"
   },
   "source": [
    "**PPS Polymer Structure and Monomer Structure**\n",
    "\n",
    "PPS NIST IR Data: https://srdata.nist.gov/xps/XPSDetailPage.aspx?AllDataNo=44301#Specimen.htm\n",
    "\n"
   ]
  },
  {
   "cell_type": "code",
   "execution_count": 22,
   "metadata": {
    "colab": {
     "base_uri": "https://localhost:8080/",
     "height": 302
    },
    "id": "UqlWSxLg0PC2",
    "outputId": "af046f42-ee49-446f-f777-0aaad076f3ab"
   },
   "outputs": [
    {
     "data": {
      "image/png": "[encoded data removed]",
      "text/plain": [
       "<IPython.core.display.Image object>"
      ]
     },
     "execution_count": 22,
     "metadata": {
      "tags": []
     },
     "output_type": "execute_result"
    }
   ],
   "source": [
    "from IPython import display\n",
    "display.Image(\"https://upload.wikimedia.org/wikipedia/commons/8/80/PPS_structure.png\")\n",
    "\n"
   ]
  },
  {
   "cell_type": "code",
   "execution_count": 20,
   "metadata": {
    "colab": {
     "base_uri": "https://localhost:8080/",
     "height": 171
    },
    "id": "kw3xzeS6xZ6B",
    "outputId": "147f134e-11c8-4b6a-ef53-62d438dce7da"
   },
   "outputs": [
    {
     "data": {
      "image/jpeg": "[encoded data removed]",
      "text/plain": [
       "<IPython.core.display.Image object>"
      ]
     },
     "execution_count": 20,
     "metadata": {
      "tags": []
     },
     "output_type": "execute_result"
    }
   ],
   "source": [
    "from IPython import display\n",
    "display.Image(\"https://polymerdatabase.com/img/poly14-phenylenesulfide.jpg\")"
   ]
  },
  {
   "cell_type": "code",
   "execution_count": 23,
   "metadata": {
    "colab": {
     "base_uri": "https://localhost:8080/",
     "height": 497
    },
    "id": "E82biCI8t3m2",
    "outputId": "3ed80931-a318-4aed-888e-bb6d89fef4af"
   },
   "outputs": [
    {
     "name": "stdout",
     "output_type": "stream",
     "text": [
      "file downloaded to raman_spectra folder\n",
      "BENZENE, 1,4-DICHLORO- loaded into the dictionary - shoyu_data_dict.p\n",
      "Bad Request: CAS # not found. Please verify\n",
      "             with NIST Chemistry WebBook.\n"
     ]
    },
    {
     "ename": "FileNotFoundError",
     "evalue": "ignored",
     "output_type": "error",
     "traceback": [
      "\u001b[0;31m---------------------------------------------------------------------------\u001b[0m",
      "\u001b[0;31mFileNotFoundError\u001b[0m                         Traceback (most recent call last)",
      "\u001b[0;32m<ipython-input-23-1dcc5744af9d>\u001b[0m in \u001b[0;36m<module>\u001b[0;34m()\u001b[0m\n\u001b[1;32m      2\u001b[0m \u001b[0mshoyu\u001b[0m\u001b[0;34m.\u001b[0m\u001b[0mmore_please\u001b[0m\u001b[0;34m(\u001b[0m\u001b[0;34m\"106-46-7\"\u001b[0m\u001b[0;34m)\u001b[0m\u001b[0;34m\u001b[0m\u001b[0;34m\u001b[0m\u001b[0m\n\u001b[1;32m      3\u001b[0m \u001b[0;31m#Disodium sulfide\u001b[0m\u001b[0;34m\u001b[0m\u001b[0;34m\u001b[0m\u001b[0;34m\u001b[0m\u001b[0m\n\u001b[0;32m----> 4\u001b[0;31m \u001b[0mshoyu\u001b[0m\u001b[0;34m.\u001b[0m\u001b[0mmore_please\u001b[0m\u001b[0;34m(\u001b[0m\u001b[0;34m\"1313-82-2\"\u001b[0m\u001b[0;34m)\u001b[0m\u001b[0;34m\u001b[0m\u001b[0;34m\u001b[0m\u001b[0m\n\u001b[0m",
      "\u001b[0;32m/usr/local/lib/python3.7/dist-packages/ramannoodles/shoyu.py\u001b[0m in \u001b[0;36mmore_please\u001b[0;34m(cas_num, label)\u001b[0m\n\u001b[1;32m    146\u001b[0m     \u001b[0mcas_num\u001b[0m \u001b[0;34m=\u001b[0m \u001b[0;34m''\u001b[0m\u001b[0;34m.\u001b[0m\u001b[0mjoin\u001b[0m\u001b[0;34m(\u001b[0m\u001b[0mcas_num\u001b[0m\u001b[0;34m.\u001b[0m\u001b[0msplit\u001b[0m\u001b[0;34m(\u001b[0m\u001b[0;34m'-'\u001b[0m\u001b[0;34m)\u001b[0m\u001b[0;34m)\u001b[0m\u001b[0;34m\u001b[0m\u001b[0;34m\u001b[0m\u001b[0m\n\u001b[1;32m    147\u001b[0m     \u001b[0mdownload_cas\u001b[0m\u001b[0;34m(\u001b[0m\u001b[0mcas_num\u001b[0m\u001b[0;34m)\u001b[0m\u001b[0;34m\u001b[0m\u001b[0;34m\u001b[0m\u001b[0m\n\u001b[0;32m--> 148\u001b[0;31m     \u001b[0mshoyu_data_dict\u001b[0m \u001b[0;34m=\u001b[0m \u001b[0madd_jdx\u001b[0m\u001b[0;34m(\u001b[0m\u001b[0;34m'../raman_spectra/'\u001b[0m\u001b[0;34m+\u001b[0m\u001b[0mcas_num\u001b[0m\u001b[0;34m+\u001b[0m\u001b[0;34m'_NIST_IR.jdx'\u001b[0m\u001b[0;34m,\u001b[0m \u001b[0mlabel\u001b[0m\u001b[0;34m)\u001b[0m\u001b[0;34m\u001b[0m\u001b[0;34m\u001b[0m\u001b[0m\n\u001b[0m\u001b[1;32m    149\u001b[0m     \u001b[0;32mreturn\u001b[0m \u001b[0mshoyu_data_dict\u001b[0m\u001b[0;34m\u001b[0m\u001b[0;34m\u001b[0m\u001b[0m\n\u001b[1;32m    150\u001b[0m \u001b[0;34m\u001b[0m\u001b[0m\n",
      "\u001b[0;32m/usr/local/lib/python3.7/dist-packages/ramannoodles/shoyu.py\u001b[0m in \u001b[0;36madd_jdx\u001b[0;34m(filename, label)\u001b[0m\n\u001b[1;32m     73\u001b[0m                         + str(type(filename)))\n\u001b[1;32m     74\u001b[0m     \u001b[0mshoyu_data_dict\u001b[0m \u001b[0;34m=\u001b[0m \u001b[0mpickle\u001b[0m\u001b[0;34m.\u001b[0m\u001b[0mload\u001b[0m\u001b[0;34m(\u001b[0m\u001b[0mopen\u001b[0m\u001b[0;34m(\u001b[0m\u001b[0;34m'raman_spectra/shoyu_data_dict.p'\u001b[0m\u001b[0;34m,\u001b[0m \u001b[0;34m'rb'\u001b[0m\u001b[0;34m)\u001b[0m\u001b[0;34m)\u001b[0m\u001b[0;34m\u001b[0m\u001b[0;34m\u001b[0m\u001b[0m\n\u001b[0;32m---> 75\u001b[0;31m     \u001b[0mdata\u001b[0m \u001b[0;34m=\u001b[0m \u001b[0mjcamp\u001b[0m\u001b[0;34m.\u001b[0m\u001b[0mJCAMP_reader\u001b[0m\u001b[0;34m(\u001b[0m\u001b[0mfilename\u001b[0m\u001b[0;34m)\u001b[0m\u001b[0;34m\u001b[0m\u001b[0;34m\u001b[0m\u001b[0m\n\u001b[0m\u001b[1;32m     76\u001b[0m     \u001b[0my_abs\u001b[0m \u001b[0;34m=\u001b[0m \u001b[0;36m1\u001b[0m \u001b[0;34m-\u001b[0m \u001b[0mdata\u001b[0m\u001b[0;34m[\u001b[0m\u001b[0;34m'y'\u001b[0m\u001b[0;34m]\u001b[0m\u001b[0;34m\u001b[0m\u001b[0;34m\u001b[0m\u001b[0m\n\u001b[1;32m     77\u001b[0m     \u001b[0mdata\u001b[0m\u001b[0;34m[\u001b[0m\u001b[0;34m'yunits'\u001b[0m\u001b[0;34m]\u001b[0m \u001b[0;34m=\u001b[0m \u001b[0;34m'ABSORBANCE'\u001b[0m\u001b[0;34m\u001b[0m\u001b[0;34m\u001b[0m\u001b[0m\n",
      "\u001b[0;32m/usr/local/lib/python3.7/dist-packages/jcamp.py\u001b[0m in \u001b[0;36mJCAMP_reader\u001b[0;34m(filename)\u001b[0m\n\u001b[1;32m     37\u001b[0m \u001b[0;31m##=====================================================================================================\u001b[0m\u001b[0;34m\u001b[0m\u001b[0;34m\u001b[0m\u001b[0;34m\u001b[0m\u001b[0m\n\u001b[1;32m     38\u001b[0m \u001b[0;32mdef\u001b[0m \u001b[0mJCAMP_reader\u001b[0m\u001b[0;34m(\u001b[0m\u001b[0mfilename\u001b[0m\u001b[0;34m)\u001b[0m\u001b[0;34m:\u001b[0m\u001b[0;34m\u001b[0m\u001b[0;34m\u001b[0m\u001b[0m\n\u001b[0;32m---> 39\u001b[0;31m     \u001b[0;32mwith\u001b[0m \u001b[0mopen\u001b[0m\u001b[0;34m(\u001b[0m\u001b[0mfilename\u001b[0m\u001b[0;34m,\u001b[0m \u001b[0;34m'r'\u001b[0m\u001b[0;34m)\u001b[0m \u001b[0;32mas\u001b[0m \u001b[0mfilehandle\u001b[0m\u001b[0;34m:\u001b[0m\u001b[0;34m\u001b[0m\u001b[0;34m\u001b[0m\u001b[0m\n\u001b[0m\u001b[1;32m     40\u001b[0m         \u001b[0mdata\u001b[0m \u001b[0;34m=\u001b[0m \u001b[0mjcamp_read\u001b[0m\u001b[0;34m(\u001b[0m\u001b[0mfilehandle\u001b[0m\u001b[0;34m)\u001b[0m\u001b[0;34m\u001b[0m\u001b[0;34m\u001b[0m\u001b[0m\n\u001b[1;32m     41\u001b[0m     \u001b[0mdata\u001b[0m\u001b[0;34m[\u001b[0m\u001b[0;34m'filename'\u001b[0m\u001b[0;34m]\u001b[0m \u001b[0;34m=\u001b[0m \u001b[0mfilename\u001b[0m\u001b[0;34m\u001b[0m\u001b[0;34m\u001b[0m\u001b[0m\n",
      "\u001b[0;31mFileNotFoundError\u001b[0m: [Errno 2] No such file or directory: '../raman_spectra/1313822_NIST_IR.jdx'"
     ]
    }
   ],
   "source": [
    "#1,4-Dichlorobenzene\n",
    "shoyu.more_please(\"106-46-7\")\n",
    "\n",
    "##https://webbook.nist.gov/cgi/cbook.cgi?ID=106-46-7&Units=SI\n",
    "\n",
    "#Disodium sulfide\n",
    "shoyu.more_please(\"1313-82-2\")\n",
    "\n",
    "## "
   ]
  },
  {
   "cell_type": "code",
   "execution_count": null,
   "metadata": {
    "id": "gQpyQsWIxY5-"
   },
   "outputs": [],
   "source": []
  },
  {
   "cell_type": "code",
   "execution_count": null,
   "metadata": {
    "colab": {
     "base_uri": "https://localhost:8080/",
     "height": 282
    },
    "id": "S0Zkwb6fv8pc",
    "outputId": "8facba65-ce20-4f56-c782-53fff0fbabf3"
   },
   "outputs": [
    {
     "data": {
      "text/plain": [
       "[<matplotlib.lines.Line2D at 0x7f4aa3c03410>]"
      ]
     },
     "execution_count": 35,
     "metadata": {
      "tags": []
     },
     "output_type": "execute_result"
    },
    {
     "data": {
      "image/png": "[encoded data removed]",
      "text/plain": [
       "<Figure size 432x288 with 1 Axes>"
      ]
     },
     "metadata": {
      "needs_background": "light",
      "tags": []
     },
     "output_type": "display_data"
    }
   ],
   "source": [
    "spectrum = np.genfromtxt(\"/content/unaged_PPS.txt\")\n",
    "plt.plot(X1,Y1,label=\"GCVSmoothedNSpline\")"
   ]
  },
  {
   "cell_type": "code",
   "execution_count": null,
   "metadata": {
    "id": "0WYlpJCmkrXH"
   },
   "outputs": [],
   "source": [
    "df1 = pd.read_excel('RAMAN_PPS_UNAGED.xlsx')\n",
    "df1\n",
    "X1 = np.array(np.absolute(df1['PPS_1']))\n",
    "Y1 = np.array(df1['Unnamed: 1'])\n",
    "\n",
    "X2 = df1['PPS_2']\n",
    "Y2 = df1['Unnamed: 3']\n",
    "\n",
    "X3 = df1['PPS_3']\n",
    "Y3 = df1['Unnamed: 5']\n",
    "\n",
    "X4 = df1['PPS_4']\n",
    "Y4 = df1['Unnamed: 7']\n",
    "\n",
    "X5 = df1['PPS_4_2']\n",
    "Y5 = df1['Unnamed: 9']\n",
    "\n",
    "X6 = df1['PPS_4_3']\n",
    "Y6 = df1['Unnamed: 11']\n",
    "\n",
    "\n"
   ]
  },
  {
   "cell_type": "code",
   "execution_count": null,
   "metadata": {
    "colab": {
     "base_uri": "https://localhost:8080/",
     "height": 350
    },
    "id": "Vo2jVY4P-1Pd",
    "outputId": "6cb7ca2e-f03d-4829-8863-ad7d6be12a06"
   },
   "outputs": [
    {
     "name": "stdout",
     "output_type": "stream",
     "text": [
      "(5285, 2)\n",
      "[[ 387.  578.]\n",
      " [2000. 3000.]\n",
      " [3500. 4000.]]\n"
     ]
    },
    {
     "data": {
      "text/plain": [
       "[<matplotlib.lines.Line2D at 0x7f4a963afa50>]"
      ]
     },
     "execution_count": 77,
     "metadata": {
      "tags": []
     },
     "output_type": "execute_result"
    },
    {
     "data": {
      "image/png": "[encoded data removed]",
      "text/plain": [
       "<Figure size 432x288 with 1 Axes>"
      ]
     },
     "metadata": {
      "needs_background": "light",
      "tags": []
     },
     "output_type": "display_data"
    }
   ],
   "source": [
    "Obs_corr = np.ones(spectrum.shape)\n",
    "print(Obs_corr.shape)\n",
    "x = np.arange(0,10570,1.0)\n",
    "ROI = np.array([[387.,578.],[2000.,3000.], [3500., 4000.]])\n",
    "print(ROI)\n",
    "ycalc1, base1 = rp.baseline(X1,Y1,ROI,'poly',polynomial_order=1)\n",
    "Obs_corr = ycalc1.reshape(1,-1)\n",
    "plt.plot(X1,Y1)\n",
    "plt.plot(X1,base1)\n"
   ]
  },
  {
   "cell_type": "code",
   "execution_count": null,
   "metadata": {
    "colab": {
     "base_uri": "https://localhost:8080/",
     "height": 282
    },
    "id": "ZrAN1kcQEkc5",
    "outputId": "06faf712-970f-45ca-aa7e-08282d143130"
   },
   "outputs": [
    {
     "data": {
      "text/plain": [
       "[<matplotlib.lines.Line2D at 0x7f4a965f6150>]"
      ]
     },
     "execution_count": 78,
     "metadata": {
      "tags": []
     },
     "output_type": "execute_result"
    },
    {
     "data": {
      "image/png": "[encoded data removed]",
      "text/plain": [
       "<Figure size 432x288 with 1 Axes>"
      ]
     },
     "metadata": {
      "needs_background": "light",
      "tags": []
     },
     "output_type": "display_data"
    }
   ],
   "source": [
    "plt.plot(X1, Obs_corr.T)"
   ]
  },
  {
   "cell_type": "code",
   "execution_count": null,
   "metadata": {
    "colab": {
     "base_uri": "https://localhost:8080/",
     "height": 367
    },
    "id": "K35pO1yAvI7H",
    "outputId": "824f3aad-1710-47ac-9f10-6d7dac8f7cfa"
   },
   "outputs": [
    {
     "name": "stderr",
     "output_type": "stream",
     "text": [
      "/usr/local/lib/python3.7/dist-packages/seaborn/_decorators.py:43: FutureWarning: Pass the following variables as keyword args: x, y. From version 0.12, the only valid positional argument will be `data`, and passing other arguments without an explicit keyword will result in an error or misinterpretation.\n",
      "  FutureWarning\n",
      "No handles with labels found to put in legend.\n",
      "No handles with labels found to put in legend.\n"
     ]
    },
    {
     "data": {
      "image/png": "[encoded data removed]",
      "text/plain": [
       "<Figure size 432x288 with 1 Axes>"
      ]
     },
     "metadata": {
      "needs_background": "light",
      "tags": []
     },
     "output_type": "display_data"
    }
   ],
   "source": [
    "plt.ylabel('Intensity (cm^-1)')\n",
    "plt.xlabel('Wavenumber')\n",
    "import seaborn as sns\n",
    "sns.lineplot(X1, Y1, data=df1)\n",
    "\n",
    "plt.legend(fontsize=10)\n",
    "plt.legend(bbox_to_anchor= (1,1))\n",
    "\n",
    "\n",
    "\n",
    "plt.show()\n"
   ]
  },
  {
   "cell_type": "code",
   "execution_count": null,
   "metadata": {
    "id": "eHaJWNx8vE-7"
   },
   "outputs": [],
   "source": []
  }
 ],
 "metadata": {
  "colab": {
   "name": "RAMAN",
   "provenance": []
  },
  "kernelspec": {
   "display_name": "Python 3",
   "language": "python",
   "name": "python3"
  },
  "language_info": {
   "codemirror_mode": {
    "name": "ipython",
    "version": 3
   },
   "file_extension": ".py",
   "mimetype": "text/x-python",
   "name": "python",
   "nbconvert_exporter": "python",
   "pygments_lexer": "ipython3",
   "version": "3.8.8"
  }
 },
 "nbformat": 4,
 "nbformat_minor": 1
}
