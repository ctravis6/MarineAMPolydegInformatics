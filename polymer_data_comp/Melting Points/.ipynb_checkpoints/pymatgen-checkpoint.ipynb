{
 "cells": [
  {
   "cell_type": "code",
   "execution_count": 15,
   "metadata": {},
   "outputs": [
    {
     "name": "stdout",
     "output_type": "stream",
     "text": [
      "['/usr/local/lib/python3.9/site-packages', '/usr/local/lib/python3.9/site-packages', '/usr/local/lib/python3.8/site-packages', '/usr/local/opt/anaconda3/lib', '/usr/local/lib/python2.7/site-packages', '/usr/local/lib/python3.9/site-packages', '/usr/local/lib/python3.9/site-packages', '/usr/local/lib/python3.8/site-packages', '/usr/local/opt/anaconda3/lib', '/usr/local/lib/python2.7/site-packages', '/usr/local/lib/python3.9/site-packages', '/usr/local/lib/python3.8/site-packages', '/usr/local/lib/python2.7/site-packages', '/usr/local/lib/python2.7/site-packages', '/usr/local/lib/python2.7/site-packages', '/usr/local/lib/python2.7/site-packages', '/Users/carlytravis/Documents/Research/Arola NUWC Project/Polymers/Melting Points', '/Users/carlytravis/opt/anaconda3/lib/python38.zip', '/Users/carlytravis/opt/anaconda3/lib/python3.8', '/Users/carlytravis/opt/anaconda3/lib/python3.8/lib-dynload', '', '/Users/carlytravis/opt/anaconda3/lib/python3.8/site-packages', '/Users/carlytravis/opt/anaconda3/lib/python3.8/site-packages/aeosa', '/Users/carlytravis/opt/anaconda3/lib/python3.8/site-packages/locket-0.2.1-py3.8.egg', '/Users/carlytravis/opt/anaconda3/lib/python3.8/site-packages/IPython/extensions', '/Users/carlytravis/.ipython']\n"
     ]
    }
   ],
   "source": [
    "import os\n",
    "import sys\n",
    "sys.path.insert(0, os.path.abspath('/usr/local/lib/python2.7/site-packages/'))\n",
    "sys.path.insert(0, os.path.abspath('/usr/local/opt/anaconda3/lib/'))\n",
    "sys.path.insert(0, os.path.abspath('/usr/local/lib/python3.8/site-packages/'))\n",
    "sys.path.insert(0, os.path.abspath('/usr/local/lib/python3.9/site-packages/'))\n",
    "sys.path.insert(0, os.path.abspath('/usr/local/lib/python3.9/site-packages/'))\n",
    "import pymatgen\n",
    "print(sys.path)"
   ]
  },
  {
   "cell_type": "code",
   "execution_count": 16,
   "metadata": {},
   "outputs": [],
   "source": [
    "import numpy as np  \n",
    "import os\n",
    "import glob\n",
    "from os import chdir\n",
    "import pandas as pd\n",
    "from sklearn.model_selection import train_test_split\n",
    "import time\n",
    "from os import listdir\n",
    "from os.path import isfile, join\n",
    "import csv\n",
    "import scipy.stats\n",
    "from mpl_toolkits import mplot3d\n",
    "from scipy.stats import norm\n",
    "from scipy.stats import mode\n",
    "from mpl_toolkits.mplot3d import Axes3D"
   ]
  },
  {
   "cell_type": "code",
   "execution_count": 17,
   "metadata": {},
   "outputs": [
    {
     "ename": "ImportError",
     "evalue": "cannot import name 'Molecule' from 'pymatgen' (unknown location)",
     "output_type": "error",
     "traceback": [
      "\u001b[0;31m---------------------------------------------------------------------------\u001b[0m",
      "\u001b[0;31mImportError\u001b[0m                               Traceback (most recent call last)",
      "\u001b[0;32m<ipython-input-17-3b077fbcfa85>\u001b[0m in \u001b[0;36m<module>\u001b[0;34m\u001b[0m\n\u001b[0;32m----> 1\u001b[0;31m \u001b[0;32mfrom\u001b[0m \u001b[0mpymatgen\u001b[0m \u001b[0;32mimport\u001b[0m \u001b[0mMolecule\u001b[0m\u001b[0;34m\u001b[0m\u001b[0;34m\u001b[0m\u001b[0m\n\u001b[0m\u001b[1;32m      2\u001b[0m \u001b[0;32mfrom\u001b[0m \u001b[0mpymatgen\u001b[0m \u001b[0;32mimport\u001b[0m \u001b[0mElement\u001b[0m\u001b[0;34m,\u001b[0m \u001b[0mSpecie\u001b[0m\u001b[0;34m,\u001b[0m \u001b[0mComposition\u001b[0m\u001b[0;34m\u001b[0m\u001b[0;34m\u001b[0m\u001b[0m\n",
      "\u001b[0;31mImportError\u001b[0m: cannot import name 'Molecule' from 'pymatgen' (unknown location)"
     ]
    }
   ],
   "source": [
    "from pymatgen import Molecule\n",
    "from pymatgen import Element, Specie, Composition"
   ]
  },
  {
   "cell_type": "markdown",
   "metadata": {},
   "source": [
    "Molecule takes input arguments species and coords, and input keyword arguments charge, spin_multiplicity, validate_proximity and site_properties.\n",
    "Keyword arguments come with a default value (the value after the equals sign), and so keyword arguments are optional.\n",
    "\n",
    "Arguments (without default values) are mandatory.\n",
    "\n",
    "You can also create Molecule objects from files. Let's say you have an *.xyz file called \"water.xyz\". You can import that into pymatgen with Molecule.from_file, like:\n",
    "\n",
    "water = Molecule.from_file(\"water.xyz\")\n",
    "print(water)"
   ]
  },
  {
   "cell_type": "markdown",
   "metadata": {},
   "source": [
    "print(c_monox)\n",
    "\n",
    "Full Formula (C1 O1)\n",
    "Reduced Formula: CO\n",
    "Charge = 1, Spin Mult = 2\n",
    "Sites (2)\n",
    "0 C     0.000000     0.000000     0.000000\n",
    "1 O     0.000000     0.000000     1.200000\n",
    "\n",
    "A molecule is essentially a list of Site objects. We can access these sites like we would a list in Python. For example, to obtain the total number of sites in the molecule:\n",
    "\n",
    "len(c_monox)\n",
    "\n",
    "2\n",
    "\n",
    "Or to access the first site (note that Python is a 0-indexed programming language, so the first site is site 0):\n",
    "\n",
    "print(c_monox[0])\n",
    "\n",
    "[0. 0. 0.] C\n",
    "\n",
    "And just like a list, I can even change the elements of a molecule.\n",
    "\n",
    "c_monox[0] = \"O\"\n",
    "\n",
    "c_monox[1] = \"C\"\n",
    "\n",
    "print(c_monox)\n",
    "\n"
   ]
  },
  {
   "cell_type": "code",
   "execution_count": null,
   "metadata": {},
   "outputs": [],
   "source": [
    "H_rad = Element('H').atomic_radius\n",
    "C_rad = Element('C').atomic_radius\n",
    "N_rad = Element('N').atomic_radius\n",
    "HC_bond_dist = H_rad + C_rad\n",
    "CN_bond_dist = C_rad + N_rad\n",
    "H_pos = 0\n",
    "C_pos = H_pos + HC_bond_dist\n",
    "N_pos = C_pos + CN_bond_dist\n",
    "hcn = Molecule(['H','C','N'], [[H_pos, 0, 0], [C_pos, 0, 0],[N_pos, 0, 0]])\n",
    "print(hcn)"
   ]
  },
  {
   "cell_type": "code",
   "execution_count": null,
   "metadata": {},
   "outputs": [],
   "source": [
    "from pymatgen.core.structure import Structure"
   ]
  },
  {
   "cell_type": "code",
   "execution_count": null,
   "metadata": {},
   "outputs": [],
   "source": [
    "path = '/Users/carlytravis/Documents/Research /Arola NUWC Project/polymer_scientific_data_confirmed'\n",
    "chdir(path)\n",
    "onlyfiles = [f for f in listdir(path) if isfile(join(path, f))]\n",
    "\n",
    "extension = 'cif'\n",
    "filenames = [i for i in glob.glob('*.{}'.format(extension))]\n",
    "\n",
    "print(filenames)\n",
    "#Cu = Structure.from_file(\"0001.cif\")"
   ]
  },
  {
   "cell_type": "code",
   "execution_count": null,
   "metadata": {},
   "outputs": [],
   "source": [
    "df1 = pd.DataFrame(filenames, columns=['cif'])\n",
    "print(df1)\n",
    "x = np.shape(df1)\n",
    "rslt_df = df1.sort_values(by='cif')\n",
    "print((x))\n",
    "\n",
    "df1 = rslt_df.reset_index()\n",
    "del df1['index']"
   ]
  },
  {
   "cell_type": "code",
   "execution_count": null,
   "metadata": {},
   "outputs": [],
   "source": [
    "Cu = Structure.from_file(\"0011.cif\")"
   ]
  },
  {
   "cell_type": "code",
   "execution_count": null,
   "metadata": {},
   "outputs": [],
   "source": [
    "print(Cu)"
   ]
  },
  {
   "cell_type": "code",
   "execution_count": null,
   "metadata": {},
   "outputs": [],
   "source": [
    "from pymatgen import MPRester"
   ]
  },
  {
   "cell_type": "code",
   "execution_count": null,
   "metadata": {},
   "outputs": [],
   "source": [
    "import pandas as pd\n",
    "url = 'https://raw.githubusercontent.com/RUIMINMA1996/PI1M/master/PI1M_v2.csv'\n",
    "df = pd.read_csv(url)"
   ]
  },
  {
   "cell_type": "code",
   "execution_count": null,
   "metadata": {},
   "outputs": [],
   "source": [
    "print(df.shape)\n",
    "df.head()"
   ]
  },
  {
   "cell_type": "code",
   "execution_count": null,
   "metadata": {},
   "outputs": [],
   "source": [
    "#url1 = 'https://raw.githubusercontent.com/Saket-Uoft/Artificial-Intelligence-for-Predicting-Materials-Properties/master/molecules.csv'\n",
    "#df1 = pd.read_csv(url1)\n"
   ]
  },
  {
   "cell_type": "code",
   "execution_count": null,
   "metadata": {},
   "outputs": [],
   "source": [
    "import os\n",
    "import rdkit\n",
    "from rdkit.Chem import AllChem\n",
    "\n",
    "from rdkit.Chem import rdmolfiles\n",
    "#rdkit.Chem.rdmolfiles.AtomFromSmiles('C1NCN1')\n",
    "mol = rdkit.Chem.MolFromSmiles('*CCCCCC(=O)N*')\n",
    "mol"
   ]
  },
  {
   "cell_type": "code",
   "execution_count": null,
   "metadata": {},
   "outputs": [],
   "source": []
  },
  {
   "cell_type": "code",
   "execution_count": null,
   "metadata": {},
   "outputs": [],
   "source": []
  }
 ],
 "metadata": {
  "kernelspec": {
   "display_name": "Python 3",
   "language": "python",
   "name": "python3"
  },
  "language_info": {
   "codemirror_mode": {
    "name": "ipython",
    "version": 3
   },
   "file_extension": ".py",
   "mimetype": "text/x-python",
   "name": "python",
   "nbconvert_exporter": "python",
   "pygments_lexer": "ipython3",
   "version": "3.8.8"
  }
 },
 "nbformat": 4,
 "nbformat_minor": 4
}
