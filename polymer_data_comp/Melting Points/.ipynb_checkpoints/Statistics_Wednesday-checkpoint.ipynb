{
 "cells": [
  {
   "cell_type": "markdown",
   "metadata": {},
   "source": [
    "import all necessary modules"
   ]
  },
  {
   "cell_type": "code",
   "execution_count": null,
   "metadata": {},
   "outputs": [],
   "source": [
    "import numpy as np\n",
    "import pandas as pd\n",
    "import matplotlib.pyplot as plt\n",
    "from mpl_toolkits import mplot3d\n",
    "from scipy.stats import norm\n",
    "from scipy.stats import mode\n",
    "%matplotlib inline"
   ]
  },
  {
   "cell_type": "markdown",
   "metadata": {},
   "source": [
    "# What is statistics? "
   ]
  },
  {
   "cell_type": "markdown",
   "metadata": {},
   "source": [
    "- Statistics are NOT just facts and figures\n",
    "- They are techniques and procedures based on which we: \n",
    "    - Analyze data.\n",
    "    - Organize data and results.\n",
    "    - Interpret results.\n",
    "    - Make decisions and discoveries. "
   ]
  },
  {
   "cell_type": "markdown",
   "metadata": {},
   "source": [
    "### QM7b dataset"
   ]
  },
  {
   "cell_type": "markdown",
   "metadata": {},
   "source": [
    "Through out this lecture and the next few lectures, we will use the \"QM7b\" dataset to learn statistics and supervised learning methods.\n",
    "\n",
    "QM7b is a dataset that includes calculated electronic properties of a subset of molecules from GDB-13 (a database of 970 million stable and synthetically accessible organic molecules). The subset composed of all molecules of up to 23 atoms (including less than 7 heavy atoms C, N, O, S, and Cl), totalling 7211 molecules.\n",
    "\n",
    "For more information, see\n",
    "1. \"L. C. Blum, J.-L. Reymond, 970 Million Druglike Small Molecules for Virtual Screening in the Chemical Universe Database GDB-13, J. Am. Chem. Soc., 131:8732, 2009.\"\n",
    "1. \"G. Montavon, M. Rupp, V. Gobre, A. Vazquez-Mayagoitia, K. Hansen, A. Tkatchenko, K.-R. Müller, O.A. von Lilienfeld, Machine Learning of Molecular Electronic Properties in Chemical Compound Space, New J. Phys. 15 095003, 2013.\"\n",
    "\n",
    "Let's load the dataset \"QM7b\" into the Jupyter notebook. This dataset has been postprocessed into a csv file for your convenience."
   ]
  },
  {
   "cell_type": "code",
   "execution_count": null,
   "metadata": {},
   "outputs": [],
   "source": [
    "qm7b = pd.read_csv('http://faculty.washington.edu/tingcao/wordpress/wp-content/uploads/2020/10/qm7b.csv')"
   ]
  },
  {
   "cell_type": "markdown",
   "metadata": {},
   "source": [
    "How does our qm7b dataset look like? How many molecules are included?"
   ]
  },
  {
   "cell_type": "code",
   "execution_count": null,
   "metadata": {},
   "outputs": [],
   "source": [
    "print(qm7b.shape)\n",
    "qm7b.head()"
   ]
  },
  {
   "cell_type": "markdown",
   "metadata": {},
   "source": [
    "Each row represents a different molecule, with its id in the range of [1,7211].\n",
    "\n",
    "What are these Columns?"
   ]
  },
  {
   "cell_type": "code",
   "execution_count": null,
   "metadata": {},
   "outputs": [],
   "source": [
    "qm7b.keys()"
   ]
  },
  {
   "cell_type": "markdown",
   "metadata": {},
   "source": [
    "| Column Name | Unit  |  Description |\n",
    "|----------|----------|-----------|\n",
    "|ae_pbe0   |kcal/mol  |Atomization energy (DFT/PBE0)\n",
    "|p_pbe0    |Angstrom^3|Polarizability (DFT/PBE0)\n",
    "|p_scs     |Angstrom^3|Polarizability (self-consistent screening)\n",
    "|homo_gw   |eV        |Highest occupied molecular orbital (GW)\n",
    "|homo_pbe0 |eV        |Highest occupied molecular orbital (DFT/PBE0)\n",
    "|homo_zindo|eV        |Highest occupied molecular orbital (ZINDO/s)\n",
    "|lumo_gw   |eV        |Lowest unoccupied molecular orbital (GW)\n",
    "|lumo_pbe0 |eV        |Lowest unoccupied molecular orbital (DFT/PBE0)\n",
    "|lumo_zindo|eV        |Lowest unoccupied molecular orbital (ZINDO/s)\n",
    "|ip_zindo  |eV        |Ionization potential (ZINDO/s)\n",
    "|ea_zindo  |eV        |Electron affinity (ZINDO/s)\n",
    "|e1_zindo  |eV        |First excitation energy (ZINDO)\n",
    "|emax_zindo|eV        |Maximal absorption intensity (ZINDO)\n",
    "|imax_zindo|arbitrary |Excitation energy at maximal absorption (ZINDO)\n",
    "|n_H       |          |number of Hydrogen atoms\n",
    "|n_C       |          |number of Carbon atoms\n",
    "|n_N       |          |number of Nitrogen atoms\n",
    "|n_O       |          |number of Oxygen atoms\n",
    "|n_S       |          |number of Sulfur atoms\n",
    "|n_Cl      |          |number of Chlorine atoms"
   ]
  },
  {
   "cell_type": "markdown",
   "metadata": {},
   "source": [
    "How does these molecules look like? Let's take a look at the molecular structure of the first molecule (id=1):\n",
    "\n",
    "We have atomic coordiates in a 3D space (the molecular structures of other molecules can be found in https://qmml.org/datasets.html)\n",
    "\n",
    "Element | x | y | z\n",
    "----------|----------|-----------|-----------\n",
    "C   |   0.99813803   |  -0.00263872   |  -0.00464602\n",
    "H   |   2.09441750   |  -0.00242373   |   0.00417336 \n",
    "H   |   0.63238996   |   1.03082951   |   0.00417296\n",
    "H   |   0.62561232   |  -0.52974905   |   0.88151021\n",
    "H   |   0.64010219   |  -0.50924801   |  -0.90858051 "
   ]
  },
  {
   "cell_type": "markdown",
   "metadata": {},
   "source": [
    "Poor man's view of CH$_4$"
   ]
  },
  {
   "cell_type": "code",
   "execution_count": null,
   "metadata": {},
   "outputs": [],
   "source": [
    "xdata = np.array([0.99813803, 2.09441750, 0.63238996, 0.62561232, 0.64010219])\n",
    "ydata = np.array([-0.00263872, -0.00242373, 1.03082951, -0.52974905, -0.50924801])\n",
    "zdata = np.array([-0.00464602, 0.00417336, 0.00417296, 0.88151021, -0.90858051]) \n",
    "ax = plt.axes(projection='3d')\n",
    "#plot atoms as spheres\n",
    "ax.scatter3D(xdata, ydata, zdata, c = ('black','blue','blue','blue','blue'), s = 100, depthshade = False, alpha = 1)\n",
    "#plot bonds as lines\n",
    "ax.plot3D(xdata[0:2], ydata[0:2], zdata[0:2], c = 'grey')\n",
    "ax.plot3D(xdata[0:3:2], ydata[0:3:2], zdata[0:3:2], c = 'grey')\n",
    "ax.plot3D(xdata[0:4:3], ydata[0:4:3], zdata[0:4:3], c = 'grey')\n",
    "ax.plot3D(xdata[0:5:4], ydata[0:5:4], zdata[0:5:4], c = 'grey')\n",
    "# you can rotate by changing the two \"viewing angles\"\n",
    "ax.view_init(32,30)\n",
    "fig = plt.figure()"
   ]
  },
  {
   "cell_type": "markdown",
   "metadata": {},
   "source": [
    "In this Jupyter notebook, we will mainly use the atomization energy to characterize the data. The atomization energy describes the (negative of) energy required to tear apart the molecule into individual atoms in vaccum. That is, negative of the formation energy."
   ]
  },
  {
   "cell_type": "code",
   "execution_count": null,
   "metadata": {},
   "outputs": [],
   "source": [
    "print(\"range of atomization energy:\", qm7b['ae_pbe0'].min(), qm7b['ae_pbe0'].max())"
   ]
  },
  {
   "cell_type": "markdown",
   "metadata": {},
   "source": [
    "# Descriptive Statistics "
   ]
  },
  {
   "cell_type": "markdown",
   "metadata": {},
   "source": [
    "## 1. Sample"
   ]
  },
  {
   "cell_type": "markdown",
   "metadata": {},
   "source": [
    "### Sample and population"
   ]
  },
  {
   "cell_type": "markdown",
   "metadata": {},
   "source": [
    "- Sample helps to answer questions about the population\n",
    "    - Population: the **entire** group being studied\n",
    "    - Sample: a **part** of the population being studied\n",
    "- Our data come from populations, but in statistics, we don't always have access to the whole population. \n"
   ]
  },
  {
   "cell_type": "markdown",
   "metadata": {},
   "source": [
    "For qm7b, the set of all 7211 molecules is the population. A sample can be drawn from the population. Let's \"randomly\" take two sample, 1% and 10% of the molecules, respectively."
   ]
  },
  {
   "cell_type": "code",
   "execution_count": null,
   "metadata": {},
   "outputs": [],
   "source": [
    "qm7b_sample1 = qm7b.sample(frac = 0.01, random_state = 2020)\n",
    "qm7b_sample2 = qm7b.sample(frac = 0.1, random_state = 2020)"
   ]
  },
  {
   "cell_type": "markdown",
   "metadata": {},
   "source": [
    "How different are the sample and population? We compare the sample and the population by plotting histograms of their atomization energies."
   ]
  },
  {
   "cell_type": "code",
   "execution_count": null,
   "metadata": {},
   "outputs": [],
   "source": [
    "fig, axes = plt.subplots(nrows = 1, ncols = 3, figsize = (15, 5));\n",
    "\n",
    "# histogram of sample1\n",
    "axes[0].hist(qm7b_sample1['ae_pbe0'],bins = 19,range = (-2300, -400));\n",
    "\n",
    "# histogram of sample2\n",
    "axes[1].hist(qm7b_sample2['ae_pbe0'],bins = 19,range = (-2300,-400));\n",
    "\n",
    "# histogram of population\n",
    "axes[2].hist(qm7b['ae_pbe0'],bins = 19,range = (-2300, -400));\n",
    "\n",
    "plt.show()"
   ]
  },
  {
   "cell_type": "markdown",
   "metadata": {},
   "source": [
    "### Sample bias and sampling error"
   ]
  },
  {
   "cell_type": "markdown",
   "metadata": {},
   "source": [
    "In order to do be representative, the sample needs to be: \n",
    "- Large enough -> large sample size \n",
    "- Random sampling -> avoid bias\n",
    "\n",
    "However, no samples are perfect. You need to allow room for error\n",
    "- Sampling error\n"
   ]
  },
  {
   "cell_type": "markdown",
   "metadata": {},
   "source": [
    "Let's make a subset of molecules that include S"
   ]
  },
  {
   "cell_type": "code",
   "execution_count": null,
   "metadata": {},
   "outputs": [],
   "source": [
    "qm7b_sample3 = qm7b.loc[qm7b['n_S'] != 0]\n",
    "fig2, axes2 = plt.subplots(nrows = 1, ncols = 2, figsize = (10, 5));\n",
    "axes2[0].hist(qm7b_sample3['ae_pbe0'], bins = 19,range = (-2300, -400))\n",
    "axes2[1].hist(qm7b['ae_pbe0'], bins = 19,range = (-2300, -400))\n",
    "fig2.show()"
   ]
  },
  {
   "cell_type": "markdown",
   "metadata": {},
   "source": [
    "Where does this difference come from? How to quantify these differences?"
   ]
  },
  {
   "cell_type": "code",
   "execution_count": null,
   "metadata": {},
   "outputs": [],
   "source": [
    "plt.hist(qm7b_sample3['n_H'] + qm7b_sample3['n_C'] + qm7b_sample3['n_N'] + qm7b_sample3['n_O'] + qm7b_sample3['n_S'] + qm7b_sample3['n_Cl'], range = (1, 23));"
   ]
  },
  {
   "cell_type": "code",
   "execution_count": null,
   "metadata": {},
   "outputs": [],
   "source": [
    "plt.hist(qm7b['n_H'] + qm7b['n_C'] + qm7b['n_N'] + qm7b['n_O'] + qm7b['n_S'] + qm7b['n_Cl'], range = (1, 23));"
   ]
  },
  {
   "cell_type": "markdown",
   "metadata": {},
   "source": [
    "### Sample and population in materials science and chemistry"
   ]
  },
  {
   "cell_type": "markdown",
   "metadata": {},
   "source": [
    "Definition of \"sample\" and \"population\" in materials science and chemistry are problem-specific.\n",
    "For example\n",
    "- QM7b is a sample of GDB-13. (recall that GDB-13 is a database of 970 million stable and synthetically accessible organic molecules)\n",
    "- GDB-13 is a sample of all molecules that may exist."
   ]
  },
  {
   "cell_type": "markdown",
   "metadata": {},
   "source": [
    "### Sampling method"
   ]
  },
  {
   "cell_type": "markdown",
   "metadata": {},
   "source": [
    "Simple random sampling is to be used in this class: use .sample"
   ]
  },
  {
   "cell_type": "code",
   "execution_count": null,
   "metadata": {},
   "outputs": [],
   "source": []
  },
  {
   "cell_type": "markdown",
   "metadata": {},
   "source": [
    "Replacement or not: .sample(replace = True or False). \n",
    "\n",
    "\"Without replacement\": one deliberately avoids choosing any member of the population more than once.\n",
    "\n",
    "For a small sample from a large population, sampling without replacement is approximately the same as sampling with replacement, since the probability of choosing the same individual twice is low.\n",
    "\n",
    "Replacement is important for Bootstrap and Cross-Validation (will be covered 2 weeks after)."
   ]
  },
  {
   "cell_type": "code",
   "execution_count": null,
   "metadata": {},
   "outputs": [],
   "source": [
    "sample = qm7b.sample(frac=1.0, replace = True)\n",
    "sample['ae_pbe0'].hist()"
   ]
  },
  {
   "cell_type": "markdown",
   "metadata": {},
   "source": [
    "## 2. Central tendency and variability"
   ]
  },
  {
   "cell_type": "markdown",
   "metadata": {},
   "source": [
    "### Central Tendency\n",
    "\n",
    "What is it?\n",
    "\n",
    "A descriptive statistic used to determine a **single** value that \n",
    "- Accurately describes the **center** of the entire data set\n",
    "- Best represents the **entire** data set\n",
    "\n",
    "Goal:\n",
    "- To summarize the data set into a single value \n",
    "- Make it possible to compare across different data sets (by comparing their central tendencies)"
   ]
  },
  {
   "cell_type": "markdown",
   "metadata": {},
   "source": [
    "3 common types of statistics for central tendency: \n",
    "\n",
    "Mean, Median, and Mode\n"
   ]
  },
  {
   "cell_type": "markdown",
   "metadata": {},
   "source": [
    "**Mean**: the average"
   ]
  },
  {
   "cell_type": "code",
   "execution_count": null,
   "metadata": {},
   "outputs": [],
   "source": [
    "print(\"mean:\", np.mean(qm7b['ae_pbe0']))\n",
    "print(\"mean_sample1:\", np.mean(qm7b_sample1['ae_pbe0']))\n",
    "print(\"mean_sample2:\", np.mean(qm7b_sample2['ae_pbe0']))\n",
    "print(\"mean_sample3:\", np.mean(qm7b_sample3['ae_pbe0']))\n",
    "# you may also try qm7b['ae_pbe0'].mean() "
   ]
  },
  {
   "cell_type": "markdown",
   "metadata": {},
   "source": [
    "We can compare population mean and sample mean to determine whether the sample is representative of the population."
   ]
  },
  {
   "cell_type": "markdown",
   "metadata": {},
   "source": [
    "Sometimes mean is not meaningful, when we have outliers. Solution:\n",
    "\n",
    "**Median**: the midpoint of an ordered set of data (50% of all data are greater than the median. Another 50% are lower than the median)"
   ]
  },
  {
   "cell_type": "code",
   "execution_count": null,
   "metadata": {},
   "outputs": [],
   "source": [
    "print(\"median:\")"
   ]
  },
  {
   "cell_type": "markdown",
   "metadata": {},
   "source": [
    "**Mode**: the most frequently occurring data. Data does not have to be ordered."
   ]
  },
  {
   "cell_type": "code",
   "execution_count": null,
   "metadata": {},
   "outputs": [],
   "source": [
    "print(\"mode:\")"
   ]
  },
  {
   "cell_type": "markdown",
   "metadata": {},
   "source": [
    "### Variability\n",
    "\n",
    "What is it? \n",
    "\n",
    "Describe the spread of data around the center (A summary of how different are the other data from the center)"
   ]
  },
  {
   "cell_type": "markdown",
   "metadata": {},
   "source": [
    "**Variance**: The average of the squared distances between each point and the mean of the dataset.\n",
    "\n",
    "$\\sigma^2 = \\frac{1}{N}\\Sigma_{i=1}^{N} (x_i - \\bar{x})^2$ (N points, each point at $x_i$, average is $\\bar{x}$)"
   ]
  },
  {
   "cell_type": "code",
   "execution_count": null,
   "metadata": {},
   "outputs": [],
   "source": [
    "print(\"variance:\")"
   ]
  },
  {
   "cell_type": "markdown",
   "metadata": {},
   "source": [
    "**Standard Deviation**: The square-root of variance.\n",
    "\n",
    "$\\sigma = \\sqrt{\\frac{1}{N}\\Sigma_{i=1}^{N} (x_i - \\bar{x})^2)}$ "
   ]
  },
  {
   "cell_type": "code",
   "execution_count": null,
   "metadata": {},
   "outputs": [],
   "source": [
    "print(\"std (population):\")"
   ]
  },
  {
   "cell_type": "markdown",
   "metadata": {},
   "source": [
    "The standard deviation of a sample has a slightly different form than that of a population (N vs. N-1)\n",
    "\n",
    "$s = \\sqrt{\\frac{1}{N-1}\\Sigma_{i=1}^{N} (x_i - \\bar{x})^2}$"
   ]
  },
  {
   "cell_type": "code",
   "execution_count": null,
   "metadata": {},
   "outputs": [],
   "source": [
    "print(\"std (sample):\")"
   ]
  },
  {
   "cell_type": "markdown",
   "metadata": {},
   "source": [
    "# Distribution"
   ]
  },
  {
   "cell_type": "markdown",
   "metadata": {},
   "source": [
    "### Frequency distribution and probability"
   ]
  },
  {
   "cell_type": "markdown",
   "metadata": {},
   "source": [
    "- Frequency: The number of times that each value occurs.\n",
    "- Probability: The likelihood that x occurs from all observed values. "
   ]
  },
  {
   "cell_type": "markdown",
   "metadata": {},
   "source": [
    "Probability density function (PDF)"
   ]
  },
  {
   "cell_type": "code",
   "execution_count": null,
   "metadata": {},
   "outputs": [],
   "source": [
    "qm7b['ae_pbe0'].hist(density = True, bins = 19, range = (-2300, -400))\n",
    "#can also use qm7b['ae_pbe0'].plot.density()"
   ]
  },
  {
   "cell_type": "markdown",
   "metadata": {},
   "source": [
    "Cumulative distribution function (CDF): integral of PDF along x axis up to $x_0$."
   ]
  },
  {
   "cell_type": "code",
   "execution_count": null,
   "metadata": {},
   "outputs": [],
   "source": [
    "qm7b['ae_pbe0'].hist(density = True, cumulative=True, bins = 19, range = (-2300, -400))"
   ]
  },
  {
   "cell_type": "markdown",
   "metadata": {},
   "source": [
    "### Normal Distribution"
   ]
  },
  {
   "cell_type": "markdown",
   "metadata": {},
   "source": [
    "In many cases, data in materials science & engineering and chemistry follow **normal distribution** (**Gaussian** or **Gauss** distribution, ___z___-distribution)\n",
    "\n",
    "$p(x) = \\frac{1}{\\sqrt{ 2 \\pi \\sigma^2 }} e^{ - \\frac{ (x - \\bar{x})^2 } {2 \\sigma^2} }$\n"
   ]
  },
  {
   "cell_type": "code",
   "execution_count": null,
   "metadata": {},
   "outputs": [],
   "source": [
    "plt.hist(qm7b['ae_pbe0'], density = True, bins=19, range = (-2300, -400));"
   ]
  },
  {
   "cell_type": "code",
   "execution_count": null,
   "metadata": {},
   "outputs": [],
   "source": [
    "# from scipy.stats import norm\n",
    "norm.fit(qm7b['ae_pbe0'])"
   ]
  },
  {
   "cell_type": "code",
   "execution_count": null,
   "metadata": {},
   "outputs": [],
   "source": [
    "# use norm(loc = , scale = ) to specifiy the distribution\n",
    "# use norm().pdf(x) to get p(x)\n",
    "fig = plt.figure()\n",
    "ax = plt.axes()\n",
    "x = \n",
    "y = \n",
    "ax.plot(x, y);\n",
    "ax.hist(qm7b['ae_pbe0'], density = True, bins=19, range = (-2300, -400));"
   ]
  },
  {
   "cell_type": "markdown",
   "metadata": {},
   "source": [
    "**z-score**: characterize where a data point is located in the normal distribution, using mean and standard deviation.\n",
    "\n",
    "$ z = \\frac{x-\\bar{x}}{\\sigma} $\n",
    "\n",
    "The larger |z| is, the farther away the data is from the center."
   ]
  },
  {
   "cell_type": "markdown",
   "metadata": {},
   "source": [
    "Describe where CH4 is located in the z-distribution of atomization energy, using the z-score."
   ]
  },
  {
   "cell_type": "code",
   "execution_count": null,
   "metadata": {},
   "outputs": [],
   "source": [
    "z = \n",
    "print(z)\n",
    "# you can also try\n",
    "# import scipy\n",
    "# scipy.stats.zscore(qm7b['ae_pbe0'])[0]"
   ]
  },
  {
   "cell_type": "markdown",
   "metadata": {},
   "source": [
    " ### Student ___t___-distribution: \n",
    " included in hands-on"
   ]
  },
  {
   "cell_type": "markdown",
   "metadata": {},
   "source": [
    "# Hypothesis testing"
   ]
  },
  {
   "cell_type": "markdown",
   "metadata": {},
   "source": [
    "Imagine the following scenarios: \n",
    "- When we get a sample mean, how likely is it to represent the population? \n",
    "- When we got two or more samples with different means, how do we decide whether these samples are the same? \n"
   ]
  },
  {
   "cell_type": "markdown",
   "metadata": {},
   "source": [
    "### The logic of hypothesis testing"
   ]
  },
  {
   "cell_type": "markdown",
   "metadata": {},
   "source": [
    "**Null Hypothesis ($H_0$)**: We make a hypothesis about the potential conclusion.\n",
    "\n",
    "**Alternative Hypothesis ($H_1$)**: What we prepare as the alternative if $H_0$ doesn’t hold. \n",
    "\n",
    "P($H_1$ is true) = 1 − P($H_0$ is true)\n",
    "\n",
    "We then test P($H_0$) with a series of statistical analyses. The nature of these analyses is to determine the probability that $H_0$ is true. \n",
    "\n",
    "If P($H_0$ is true) is too small, we will reject $H_0$ and determine that $H_1$ is more likely to be true. \n",
    "\n",
    "We NEVER say “accept $H_0$ (or $H_1$)” in statistics. Because everything has a probability."
   ]
  },
  {
   "cell_type": "markdown",
   "metadata": {},
   "source": [
    "Example:\n",
    "\n",
    "$H_0$: no confirmation of COVID-19.\n",
    "\n",
    "$H_1$: confirmation of COVID-19."
   ]
  },
  {
   "cell_type": "markdown",
   "metadata": {},
   "source": [
    "### Type I & Type II Error"
   ]
  },
  {
   "cell_type": "markdown",
   "metadata": {},
   "source": [
    "|             | $H_0$ is true | $H_0$ is false |\n",
    "|-------------|---------------|----------------|\n",
    "|Reject $H_0$ | type I error (false positive)  | correct (positive)|\n",
    "|Fail to regect $H_0$ | correct (negative)  | type II error (false negative) |"
   ]
  },
  {
   "cell_type": "markdown",
   "metadata": {},
   "source": [
    "### When do we say P($H_0$ is true) is too small?"
   ]
  },
  {
   "cell_type": "markdown",
   "metadata": {},
   "source": [
    "Level of significance $\\alpha = 0.05$.\n",
    "\n",
    "- if P($H_0$ is true) > $\\alpha$, we cannot reject $H_0$.\n",
    "- if P($H_0$ is true) < $\\alpha$, we reject $H_0$. This is the same as P($H_1$ is true) > $1 - \\alpha$, and we say \"$H_1$ is significant\"."
   ]
  },
  {
   "cell_type": "markdown",
   "metadata": {},
   "source": [
    "### ___z___-test"
   ]
  },
  {
   "cell_type": "markdown",
   "metadata": {},
   "source": [
    "z-test is used when we test whether a sample mean can represent the population mean. (does the sample represent population?)\n",
    "\n",
    "We must know the population mean and standard deviation before doing z-test.\n",
    "\n",
    "Follow this recipe:\n",
    "\n",
    "1. $H_0$: the atomization energy of a subset (sample) of molecules can represent the population's mean.\n",
    "2. calculate z-score \n",
    "3. find the probability associated with the z-score, and compare probability with $\\alpha$ (one-tail), or $\\frac{\\alpha}{2}$ (two-tail).\n",
    "\n"
   ]
  },
  {
   "cell_type": "code",
   "execution_count": null,
   "metadata": {},
   "outputs": [],
   "source": [
    "from IPython.display import Image\n",
    "Image(url = 'https://upload.wikimedia.org/wikipedia/commons/thumb/2/25/The_Normal_Distribution.svg/800px-The_Normal_Distribution.svg.png')"
   ]
  },
  {
   "cell_type": "code",
   "execution_count": null,
   "metadata": {},
   "outputs": [],
   "source": [
    "z = \n",
    "print(\"z-score:\", z)\n",
    "# this is a two-tail test, if norm.cdf is < 0.975 (or z < 1.96), we fail to reject H_0 at a significance level of 0.05\n"
   ]
  },
  {
   "cell_type": "markdown",
   "metadata": {},
   "source": [
    "### ___t___-test\n",
    "\n",
    " included in hands-on"
   ]
  }
 ],
 "metadata": {
  "kernelspec": {
   "display_name": "Python 3",
   "language": "python",
   "name": "python3"
  },
  "language_info": {
   "codemirror_mode": {
    "name": "ipython",
    "version": 3
   },
   "file_extension": ".py",
   "mimetype": "text/x-python",
   "name": "python",
   "nbconvert_exporter": "python",
   "pygments_lexer": "ipython3",
   "version": "3.8.5"
  }
 },
 "nbformat": 4,
 "nbformat_minor": 4
}
