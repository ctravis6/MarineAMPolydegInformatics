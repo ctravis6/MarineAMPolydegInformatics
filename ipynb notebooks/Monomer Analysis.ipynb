{
 "cells": [
  {
   "cell_type": "markdown",
   "metadata": {},
   "source": [
    "# Monomers can give us a great deal of information about resulting polymers"
   ]
  },
  {
   "cell_type": "code",
   "execution_count": 1,
   "metadata": {},
   "outputs": [],
   "source": [
    "#Import Packages\n",
    "\n",
    "import matplotlib.pyplot as plt\n",
    "\n",
    "import numpy as np  \n",
    "import os\n",
    "import glob\n",
    "from os import chdir\n",
    "import pandas as pd\n",
    "from sklearn.model_selection import train_test_split\n",
    "import time\n",
    "from os import listdir\n",
    "from os.path import isfile, join\n",
    "import csv\n",
    "import scipy.stats\n",
    "from mpl_toolkits import mplot3d\n",
    "from scipy.stats import norm\n",
    "from scipy.stats import mode\n",
    "from mpl_toolkits.mplot3d import Axes3D\n",
    "%matplotlib inline"
   ]
  },
  {
   "cell_type": "code",
   "execution_count": 2,
   "metadata": {},
   "outputs": [],
   "source": [
    "from tensorflow.keras.callbacks import ReduceLROnPlateau,ModelCheckpoint\n",
    "import tensorflow as tf\n",
    "from tensorflow.keras.preprocessing.image import ImageDataGenerator\n",
    "from sklearn.metrics import confusion_matrix\n",
    "from tensorflow import keras"
   ]
  },
  {
   "cell_type": "raw",
   "metadata": {},
   "source": [
    "# Remote fetch kaldo resources from drop box\n",
    "%conda pip install git+https://github.com/nanotheorygroup/kaldo\n",
    "import wget\n",
    "# Remote fetch kaldo resources from drop box\n",
    "! wget 'https://www.dropbox.com/s/bvw0qcxy397g25q/kaldo_resources.zip?dl=0'\n",
    "! mv kaldo_resources.zip?dl=0 kaldo_resources.zip\n",
    "! unzip kaldo_resources.zip\n",
    "\n",
    "# Copy files from to the workspace\n",
    "! cp -r kaldo_resources/forcefields.zip ./\n",
    "\n",
    "# Unzip files\n",
    "!unzip forcefields.zip\n",
    "\n",
    "# Clean workspace\n",
    "! rm -r forcefields.zip\n",
    "! rm -r structure_a_si_512.zip\n",
    "! rm -r kaldo_resources.zip\n"
   ]
  },
  {
   "cell_type": "markdown",
   "metadata": {},
   "source": [
    "%cd /Users/carlytravis/Documents/Research/PythonChem\n",
    "! pip install atomman"
   ]
  },
  {
   "cell_type": "markdown",
   "metadata": {},
   "source": [
    "#change to proper directory to access functions\n",
    "%cd /Users/carlytravis/Documents/Research/Arola NUWC Project/kaldogroup\n",
    "%pip install wget"
   ]
  },
  {
   "cell_type": "code",
   "execution_count": 3,
   "metadata": {},
   "outputs": [],
   "source": [
    "path = '/Users/carlytravis/Documents/Research/Arola NUWC Project/Monomer Properties'\n",
    "chdir(path)\n",
    "onlyfiles = [f for f in listdir(path) if isfile(join(path, f))]\n"
   ]
  },
  {
   "cell_type": "code",
   "execution_count": 4,
   "metadata": {},
   "outputs": [
    {
     "name": "stdout",
     "output_type": "stream",
     "text": [
      "['TableData (14).csv', 'TableData (02).csv', 'TableData (03).csv', 'TableData (15).csv', 'TableData (08).csv', 'TableData (12).csv', 'TableData (04).csv', 'TableData (05).csv', 'TableData (13).csv', 'TableData (09).csv', 'TableData (06).csv', 'TableData (10).csv', 'TableData (11).csv', 'TableData (07).csv', 'TableData (00).csv', 'TableData (16).csv', 'TableData (17).csv', 'TableData (01).csv']\n"
     ]
    }
   ],
   "source": [
    "extension = 'csv'\n",
    "filenames = [i for i in glob.glob('*.{}'.format(extension))]\n",
    "\n",
    "print(filenames)"
   ]
  },
  {
   "cell_type": "code",
   "execution_count": 5,
   "metadata": {},
   "outputs": [
    {
     "name": "stdout",
     "output_type": "stream",
     "text": [
      "                   CSV\n",
      "0   TableData (14).csv\n",
      "1   TableData (02).csv\n",
      "2   TableData (03).csv\n",
      "3   TableData (15).csv\n",
      "4   TableData (08).csv\n",
      "5   TableData (12).csv\n",
      "6   TableData (04).csv\n",
      "7   TableData (05).csv\n",
      "8   TableData (13).csv\n",
      "9   TableData (09).csv\n",
      "10  TableData (06).csv\n",
      "11  TableData (10).csv\n",
      "12  TableData (11).csv\n",
      "13  TableData (07).csv\n",
      "14  TableData (00).csv\n",
      "15  TableData (16).csv\n",
      "16  TableData (17).csv\n",
      "17  TableData (01).csv\n"
     ]
    }
   ],
   "source": [
    "df1 = pd.DataFrame(filenames, columns=['CSV'])\n",
    "print(df1)"
   ]
  },
  {
   "cell_type": "code",
   "execution_count": 6,
   "metadata": {},
   "outputs": [
    {
     "name": "stdout",
     "output_type": "stream",
     "text": [
      "(18, 1)\n"
     ]
    }
   ],
   "source": [
    "x = np.shape(df1)\n",
    "rslt_df = df1.sort_values(by='CSV')\n",
    "print((x))"
   ]
  },
  {
   "cell_type": "code",
   "execution_count": 7,
   "metadata": {},
   "outputs": [],
   "source": [
    "df1 = rslt_df.reset_index()\n",
    "del df1['index']\n"
   ]
  },
  {
   "cell_type": "code",
   "execution_count": 8,
   "metadata": {},
   "outputs": [
    {
     "name": "stdout",
     "output_type": "stream",
     "text": [
      "Index(['category', 'name', 'structure', 'CAS', 'mw', 'level_5', 'mp',\n",
      "       'density'],\n",
      "      dtype='object')\n"
     ]
    }
   ],
   "source": [
    "df3 = pd.read_csv('TableData (00).csv', sep=';')\n",
    "df3 = df3.reset_index()\n",
    "df3.drop(df3.head(4).index,inplace=True)\n",
    "df3.drop(df3.tail(3).index,inplace=True)\n",
    "df3.drop(df3.iloc[:,8:], axis=1, inplace=True)\n",
    "df3.head()\n",
    "df3 = df3.rename(columns={'level_0':'category','level_1':'name','level_2':'structure',\n",
    "                                        'level_3':'CAS','level_4':'mw', 'level_6':'mp','level_7':'density'})\n",
    "keys = df3.keys()\n",
    "print(keys)"
   ]
  },
  {
   "cell_type": "code",
   "execution_count": 9,
   "metadata": {},
   "outputs": [
    {
     "data": {
      "text/plain": [
       "pandas.core.frame.DataFrame"
      ]
     },
     "execution_count": 9,
     "metadata": {},
     "output_type": "execute_result"
    }
   ],
   "source": [
    "frames = df3\n",
    "type(frames)"
   ]
  },
  {
   "cell_type": "code",
   "execution_count": 10,
   "metadata": {},
   "outputs": [
    {
     "data": {
      "text/html": [
       "<div>\n",
       "<style scoped>\n",
       "    .dataframe tbody tr th:only-of-type {\n",
       "        vertical-align: middle;\n",
       "    }\n",
       "\n",
       "    .dataframe tbody tr th {\n",
       "        vertical-align: top;\n",
       "    }\n",
       "\n",
       "    .dataframe thead th {\n",
       "        text-align: right;\n",
       "    }\n",
       "</style>\n",
       "<table border=\"1\" class=\"dataframe\">\n",
       "  <thead>\n",
       "    <tr style=\"text-align: right;\">\n",
       "      <th></th>\n",
       "      <th>category</th>\n",
       "      <th>name</th>\n",
       "      <th>structure</th>\n",
       "      <th>CAS</th>\n",
       "      <th>mw</th>\n",
       "      <th>level_5</th>\n",
       "      <th>mp</th>\n",
       "      <th>density</th>\n",
       "    </tr>\n",
       "  </thead>\n",
       "  <tbody>\n",
       "    <tr>\n",
       "      <th>0</th>\n",
       "      <td>acetylene</td>\n",
       "      <td>acetylene</td>\n",
       "      <td>H2C≡CH2</td>\n",
       "      <td>74-86-2</td>\n",
       "      <td>26.04</td>\n",
       "      <td>-82</td>\n",
       "      <td>-84(s)</td>\n",
       "      <td>1</td>\n",
       "    </tr>\n",
       "    <tr>\n",
       "      <th>1</th>\n",
       "      <td>acetylene</td>\n",
       "      <td>chloroacetylene</td>\n",
       "      <td>ClC≡CH</td>\n",
       "      <td>NaN</td>\n",
       "      <td>60.48</td>\n",
       "      <td>-32</td>\n",
       "      <td>-126</td>\n",
       "      <td>NaN</td>\n",
       "    </tr>\n",
       "    <tr>\n",
       "      <th>2</th>\n",
       "      <td>acetylene</td>\n",
       "      <td>dichloroacetylene</td>\n",
       "      <td>ClC≡CCl</td>\n",
       "      <td>NaN</td>\n",
       "      <td>94.93</td>\n",
       "      <td>NaN</td>\n",
       "      <td>-66</td>\n",
       "      <td>NaN</td>\n",
       "    </tr>\n",
       "    <tr>\n",
       "      <th>3</th>\n",
       "      <td>acetylene</td>\n",
       "      <td>diphenylacetylene</td>\n",
       "      <td>C6H5C≡CC6H5</td>\n",
       "      <td>501-65-5</td>\n",
       "      <td>178.23</td>\n",
       "      <td>60</td>\n",
       "      <td>8.9473684210526E+14/100000000000000</td>\n",
       "      <td>0.99</td>\n",
       "    </tr>\n",
       "    <tr>\n",
       "      <th>4</th>\n",
       "      <td>acetylene</td>\n",
       "      <td>phenylacetylene</td>\n",
       "      <td>HC≡CC6H5</td>\n",
       "      <td>NaN</td>\n",
       "      <td>102.14</td>\n",
       "      <td>143</td>\n",
       "      <td>NaN</td>\n",
       "      <td>0.929</td>\n",
       "    </tr>\n",
       "  </tbody>\n",
       "</table>\n",
       "</div>"
      ],
      "text/plain": [
       "    category               name    structure       CAS      mw level_5  \\\n",
       "0  acetylene          acetylene      H2C≡CH2   74-86-2   26.04     -82   \n",
       "1  acetylene    chloroacetylene       ClC≡CH       NaN   60.48     -32   \n",
       "2  acetylene  dichloroacetylene      ClC≡CCl       NaN   94.93     NaN   \n",
       "3  acetylene  diphenylacetylene  C6H5C≡CC6H5  501-65-5  178.23      60   \n",
       "4  acetylene    phenylacetylene     HC≡CC6H5       NaN  102.14     143   \n",
       "\n",
       "                                    mp density  \n",
       "0                               -84(s)       1  \n",
       "1                                 -126     NaN  \n",
       "2                                  -66     NaN  \n",
       "3  8.9473684210526E+14/100000000000000    0.99  \n",
       "4                                  NaN   0.929  "
      ]
     },
     "execution_count": 10,
     "metadata": {},
     "output_type": "execute_result"
    }
   ],
   "source": [
    "#combine all files in the list\n",
    "\n",
    "for i in range(0,17): #iterate through datasets\n",
    "    #read each file in list\n",
    "    df2 = pd.read_csv(df1.iloc[i,0], sep=';')\n",
    "    #reset index\n",
    "    df2 = df2.reset_index()\n",
    "    #drop non-data rows\n",
    "    df2.drop(df2.head(4).index,inplace=True)\n",
    "    df2.drop(df2.tail(3).index,inplace=True)\n",
    "    df2.drop(df2.iloc[:,8:], axis=1, inplace=True)\n",
    "    #set column names\n",
    "    df2 = df2.rename(columns={'level_0':'category','level_1':'name','level_2':'structure',\n",
    "                                        'level_3':'CAS','level_4':'mw', 'level_6':'mp',\n",
    "                              'level_7':'density'})\n",
    "    #merge datasets into one for better analysis\n",
    "    frames = [frames, df2]\n",
    "    frames = pd.concat(frames, axis=0, ignore_index=True)\n",
    "\n",
    "frames.head()"
   ]
  },
  {
   "cell_type": "code",
   "execution_count": 11,
   "metadata": {},
   "outputs": [
    {
     "data": {
      "text/plain": [
       "<class 'str'>    800\n",
       "Name: CAS, dtype: int64"
      ]
     },
     "execution_count": 11,
     "metadata": {},
     "output_type": "execute_result"
    }
   ],
   "source": [
    "#This defines dataframe\n",
    "\n",
    "del frames['level_5']\n",
    "#remove polymer NaN values\n",
    "df_d = frames.dropna(subset=['CAS'])\n",
    "df_d.head()\n",
    "\n",
    "\n",
    "#count instances\n",
    "df_d['CAS'].apply(type).value_counts()\n"
   ]
  },
  {
   "cell_type": "code",
   "execution_count": 16,
   "metadata": {},
   "outputs": [
    {
     "data": {
      "text/plain": [
       "[]"
      ]
     },
     "execution_count": 16,
     "metadata": {},
     "output_type": "execute_result"
    }
   ],
   "source": [
    "#Remove useless characters for mw\n",
    "#rid of commas\n",
    "this3 = df_d[df_d['mw'].str.contains('ca. ')]\n",
    "this3.index[this3['mw']].tolist()\n",
    "df_copy = df_d\n",
    "df_copy.loc[index3,'mw'] = this3\n",
    "print(index3)"
   ]
  },
  {
   "cell_type": "code",
   "execution_count": 14,
   "metadata": {},
   "outputs": [
    {
     "data": {
      "text/html": [
       "<div>\n",
       "<style scoped>\n",
       "    .dataframe tbody tr th:only-of-type {\n",
       "        vertical-align: middle;\n",
       "    }\n",
       "\n",
       "    .dataframe tbody tr th {\n",
       "        vertical-align: top;\n",
       "    }\n",
       "\n",
       "    .dataframe thead th {\n",
       "        text-align: right;\n",
       "    }\n",
       "</style>\n",
       "<table border=\"1\" class=\"dataframe\">\n",
       "  <thead>\n",
       "    <tr style=\"text-align: right;\">\n",
       "      <th></th>\n",
       "      <th>category</th>\n",
       "      <th>name</th>\n",
       "      <th>structure</th>\n",
       "      <th>CAS</th>\n",
       "      <th>mw</th>\n",
       "      <th>mp</th>\n",
       "      <th>density</th>\n",
       "    </tr>\n",
       "  </thead>\n",
       "  <tbody>\n",
       "    <tr>\n",
       "      <th>0</th>\n",
       "      <td>acetylene</td>\n",
       "      <td>acetylene</td>\n",
       "      <td>H2C≡CH2</td>\n",
       "      <td>74-86-2</td>\n",
       "      <td>26.04</td>\n",
       "      <td>-84(s)</td>\n",
       "      <td>1</td>\n",
       "    </tr>\n",
       "    <tr>\n",
       "      <th>3</th>\n",
       "      <td>acetylene</td>\n",
       "      <td>diphenylacetylene</td>\n",
       "      <td>C6H5C≡CC6H5</td>\n",
       "      <td>501-65-5</td>\n",
       "      <td>178.23</td>\n",
       "      <td>8.9473684210526E+14/100000000000000</td>\n",
       "      <td>0.99</td>\n",
       "    </tr>\n",
       "    <tr>\n",
       "      <th>5</th>\n",
       "      <td>acid dichloride</td>\n",
       "      <td>adipoyl chloride</td>\n",
       "      <td>ClC(O)(CH2)4C(O)Cl</td>\n",
       "      <td>111-50-2</td>\n",
       "      <td>183.03</td>\n",
       "      <td>NaN</td>\n",
       "      <td>1.259</td>\n",
       "    </tr>\n",
       "    <tr>\n",
       "      <th>6</th>\n",
       "      <td>acid dichloride</td>\n",
       "      <td>azelaoyl chloride</td>\n",
       "      <td>ClC(O)(CH2)7C(O)Cl</td>\n",
       "      <td>123-98-8</td>\n",
       "      <td>255.12</td>\n",
       "      <td>NaN</td>\n",
       "      <td>1.143</td>\n",
       "    </tr>\n",
       "    <tr>\n",
       "      <th>7</th>\n",
       "      <td>acid dichloride</td>\n",
       "      <td>diethylmanoyl chloride</td>\n",
       "      <td>ClC(O)C(CH2CH3)2C(O)Cl</td>\n",
       "      <td>54505-72-5</td>\n",
       "      <td>197.06</td>\n",
       "      <td>NaN</td>\n",
       "      <td>1.145</td>\n",
       "    </tr>\n",
       "  </tbody>\n",
       "</table>\n",
       "</div>"
      ],
      "text/plain": [
       "          category                    name               structure  \\\n",
       "0        acetylene               acetylene                 H2C≡CH2   \n",
       "3        acetylene       diphenylacetylene             C6H5C≡CC6H5   \n",
       "5  acid dichloride        adipoyl chloride      ClC(O)(CH2)4C(O)Cl   \n",
       "6  acid dichloride       azelaoyl chloride      ClC(O)(CH2)7C(O)Cl   \n",
       "7  acid dichloride  diethylmanoyl chloride  ClC(O)C(CH2CH3)2C(O)Cl   \n",
       "\n",
       "          CAS      mw                                   mp density  \n",
       "0     74-86-2   26.04                               -84(s)       1  \n",
       "3    501-65-5  178.23  8.9473684210526E+14/100000000000000    0.99  \n",
       "5    111-50-2  183.03                                  NaN   1.259  \n",
       "6    123-98-8  255.12                                  NaN   1.143  \n",
       "7  54505-72-5  197.06                                  NaN   1.145  "
      ]
     },
     "execution_count": 14,
     "metadata": {},
     "output_type": "execute_result"
    }
   ],
   "source": [
    "df_copy.head()"
   ]
  },
  {
   "cell_type": "code",
   "execution_count": 17,
   "metadata": {},
   "outputs": [
    {
     "name": "stderr",
     "output_type": "stream",
     "text": [
      "/var/folders/ch/g3s490l17b78nnf3_r0mjqrw0000gn/T/ipykernel_3614/3961438142.py:2: SettingWithCopyWarning: \n",
      "A value is trying to be set on a copy of a slice from a DataFrame.\n",
      "Try using .loc[row_indexer,col_indexer] = value instead\n",
      "\n",
      "See the caveats in the documentation: https://pandas.pydata.org/pandas-docs/stable/user_guide/indexing.html#returning-a-view-versus-a-copy\n",
      "  df_copy['mw'] = df_copy['mw'].astype('float')\n"
     ]
    }
   ],
   "source": [
    "#change mw to numeric\n",
    "df_copy['mw'] = df_copy['mw'].astype('float')\n"
   ]
  },
  {
   "cell_type": "code",
   "execution_count": 18,
   "metadata": {},
   "outputs": [
    {
     "data": {
      "text/html": [
       "<div>\n",
       "<style scoped>\n",
       "    .dataframe tbody tr th:only-of-type {\n",
       "        vertical-align: middle;\n",
       "    }\n",
       "\n",
       "    .dataframe tbody tr th {\n",
       "        vertical-align: top;\n",
       "    }\n",
       "\n",
       "    .dataframe thead th {\n",
       "        text-align: right;\n",
       "    }\n",
       "</style>\n",
       "<table border=\"1\" class=\"dataframe\">\n",
       "  <thead>\n",
       "    <tr style=\"text-align: right;\">\n",
       "      <th></th>\n",
       "      <th>mw</th>\n",
       "      <th>CAS</th>\n",
       "      <th>category</th>\n",
       "    </tr>\n",
       "  </thead>\n",
       "  <tbody>\n",
       "    <tr>\n",
       "      <th>0</th>\n",
       "      <td>26.04</td>\n",
       "      <td>74-86-2</td>\n",
       "      <td>acetylene</td>\n",
       "    </tr>\n",
       "    <tr>\n",
       "      <th>3</th>\n",
       "      <td>178.23</td>\n",
       "      <td>501-65-5</td>\n",
       "      <td>acetylene</td>\n",
       "    </tr>\n",
       "    <tr>\n",
       "      <th>5</th>\n",
       "      <td>183.03</td>\n",
       "      <td>111-50-2</td>\n",
       "      <td>acid dichloride</td>\n",
       "    </tr>\n",
       "    <tr>\n",
       "      <th>6</th>\n",
       "      <td>255.12</td>\n",
       "      <td>123-98-8</td>\n",
       "      <td>acid dichloride</td>\n",
       "    </tr>\n",
       "    <tr>\n",
       "      <th>7</th>\n",
       "      <td>197.06</td>\n",
       "      <td>54505-72-5</td>\n",
       "      <td>acid dichloride</td>\n",
       "    </tr>\n",
       "  </tbody>\n",
       "</table>\n",
       "</div>"
      ],
      "text/plain": [
       "       mw         CAS         category\n",
       "0   26.04     74-86-2        acetylene\n",
       "3  178.23    501-65-5        acetylene\n",
       "5  183.03    111-50-2  acid dichloride\n",
       "6  255.12    123-98-8  acid dichloride\n",
       "7  197.06  54505-72-5  acid dichloride"
      ]
     },
     "execution_count": 18,
     "metadata": {},
     "output_type": "execute_result"
    }
   ],
   "source": [
    "#Extract CAS Numbers\n",
    "df_mw = df_copy['mw']\n",
    "cas_num = df_d['CAS']\n",
    "result = pd.concat([df_mw, cas_num, df_d['category']], axis=1)\n",
    "result.head()"
   ]
  },
  {
   "cell_type": "code",
   "execution_count": 20,
   "metadata": {},
   "outputs": [
    {
     "data": {
      "text/html": [
       "<div>\n",
       "<style scoped>\n",
       "    .dataframe tbody tr th:only-of-type {\n",
       "        vertical-align: middle;\n",
       "    }\n",
       "\n",
       "    .dataframe tbody tr th {\n",
       "        vertical-align: top;\n",
       "    }\n",
       "\n",
       "    .dataframe thead th {\n",
       "        text-align: right;\n",
       "    }\n",
       "</style>\n",
       "<table border=\"1\" class=\"dataframe\">\n",
       "  <thead>\n",
       "    <tr style=\"text-align: right;\">\n",
       "      <th></th>\n",
       "      <th>mw</th>\n",
       "    </tr>\n",
       "  </thead>\n",
       "  <tbody>\n",
       "    <tr>\n",
       "      <th>count</th>\n",
       "      <td>800.000000</td>\n",
       "    </tr>\n",
       "    <tr>\n",
       "      <th>mean</th>\n",
       "      <td>176.097400</td>\n",
       "    </tr>\n",
       "    <tr>\n",
       "      <th>std</th>\n",
       "      <td>82.979668</td>\n",
       "    </tr>\n",
       "    <tr>\n",
       "      <th>min</th>\n",
       "      <td>26.040000</td>\n",
       "    </tr>\n",
       "    <tr>\n",
       "      <th>25%</th>\n",
       "      <td>126.160000</td>\n",
       "    </tr>\n",
       "    <tr>\n",
       "      <th>50%</th>\n",
       "      <td>162.165000</td>\n",
       "    </tr>\n",
       "    <tr>\n",
       "      <th>75%</th>\n",
       "      <td>203.065000</td>\n",
       "    </tr>\n",
       "    <tr>\n",
       "      <th>max</th>\n",
       "      <td>586.170000</td>\n",
       "    </tr>\n",
       "  </tbody>\n",
       "</table>\n",
       "</div>"
      ],
      "text/plain": [
       "               mw\n",
       "count  800.000000\n",
       "mean   176.097400\n",
       "std     82.979668\n",
       "min     26.040000\n",
       "25%    126.160000\n",
       "50%    162.165000\n",
       "75%    203.065000\n",
       "max    586.170000"
      ]
     },
     "execution_count": 20,
     "metadata": {},
     "output_type": "execute_result"
    }
   ],
   "source": [
    "df_copy.to_csv(r'/Users/carlytravis/Documents/Research/Arola NUWC Project/Monomer Properties/MonomerCompiled_08_21.csv',index = False, header=True)\n",
    "df_copy.describe()"
   ]
  },
  {
   "cell_type": "code",
   "execution_count": 15,
   "metadata": {
    "scrolled": true
   },
   "outputs": [
    {
     "data": {
      "image/png": "[encoded data removed]",
      "text/plain": [
       "<Figure size 576x720 with 1 Axes>"
      ]
     },
     "metadata": {},
     "output_type": "display_data"
    }
   ],
   "source": [
    "#Visualize Chemical Space\n",
    "import numpy as np\n",
    "import seaborn as sns\n",
    "import matplotlib.pyplot as plt\n",
    "sns.set_style(style ='white')\n",
    "# Generate some category data\n",
    "g = sns.catplot(x='mw', y='category', data = result, height = 10, aspect = .8, s=10)\n",
    "g.set_axis_labels(\"Monomer Molecular Weight\", \"\")\n",
    "plt.show()\n"
   ]
  },
  {
   "cell_type": "raw",
   "metadata": {},
   "source": [
    "\n",
    "# plot decision regions\n",
    "plt.figure(figsize=(6,4),dpi=100)\n",
    "Y = df_mw\n",
    "\n",
    "plt.ylabel('Monomer Type')\n",
    "plt.xlabel('Molecular Weight')\n",
    "\n",
    "import seaborn as sns\n",
    "sns.scatterplot('density', 'tg', data=df, hue='class')\n",
    "\n",
    "plt.legend(fontsize=10)\n",
    "plt.legend(bbox_to_anchor= (1,1))\n",
    "\n",
    "\n",
    "\n",
    "plt.show()"
   ]
  },
  {
   "cell_type": "markdown",
   "metadata": {},
   "source": [
    "## Using ASE to find monomer structures"
   ]
  },
  {
   "cell_type": "markdown",
   "metadata": {},
   "source": [
    "Iterate through CAS Numbers and extract information"
   ]
  },
  {
   "cell_type": "code",
   "execution_count": 18,
   "metadata": {},
   "outputs": [
    {
     "data": {
      "text/plain": [
       "'/Users/carlytravis/Documents/Research/Arola NUWC Project/Monomer Properties'"
      ]
     },
     "execution_count": 18,
     "metadata": {},
     "output_type": "execute_result"
    }
   ],
   "source": [
    "%pwd"
   ]
  },
  {
   "cell_type": "code",
   "execution_count": 4,
   "metadata": {},
   "outputs": [],
   "source": [
    "from ase.build import molecule\n",
    "from ase.calculators.lammpslib import LAMMPSlib\n",
    "from kaldo.forceconstants import ForceConstants\n",
    "from ase import Atoms\n",
    "from ase import Atom\n",
    "from ase.build import molecule\n",
    "from ase.data.g2 import get_atomization_energy\n",
    "from ase.build import bulk\n",
    "from ase.calculators.lammpsrun import LAMMPS\n",
    "from ase.collections import g2\n",
    "from ase.build import molecule\n",
    "from ase.data.pubchem import pubchem_atoms_search, pubchem_atoms_conformer_search\n",
    "from ase.data import atomic_numbers, atomic_names, atomic_masses, covalent_radii\n",
    "from ase.data import atomic_masses_legacy\n",
    "import numpy as np"
   ]
  },
  {
   "cell_type": "code",
   "execution_count": 5,
   "metadata": {},
   "outputs": [
    {
     "data": {
      "text/html": [
       "<html>\n",
       "\n",
       " <head>\n",
       "\n",
       "  <title>ASE atomic visualization</title>\n",
       "\n",
       "  <link rel=\"stylesheet\" type=\"text/css\"\n",
       "\n",
       "   href=\"https://www.x3dom.org/x3dom/release/x3dom.css\">\n",
       "\n",
       "  </link>\n",
       "\n",
       "  <script type=\"text/javascript\"\n",
       "\n",
       "   src=\"https://www.x3dom.org/x3dom/release/x3dom.js\">\n",
       "\n",
       "  </script>\n",
       "\n",
       " </head>\n",
       "\n",
       " <body>\n",
       "\n",
       "  <X3D style=\"margin:0; padding:0; width:100%; height:100%; border:none;\">\n",
       "\n",
       "   <Scene>\n",
       "\n",
       "    <Transform translation=\"0.00 0.00 0.12\">\n",
       "\n",
       "     <Shape>\n",
       "\n",
       "      <Appearance>\n",
       "\n",
       "       <Material diffuseColor=\"1.000 0.051 0.051\" specularColor=\"0.5 0.5 0.5\">\n",
       "\n",
       "       </Material>\n",
       "\n",
       "      </Appearance>\n",
       "\n",
       "      <Sphere radius=\"0.66\">\n",
       "\n",
       "      </Sphere>\n",
       "\n",
       "     </Shape>\n",
       "\n",
       "    </Transform>\n",
       "\n",
       "    <Transform translation=\"0.00 0.76 -0.48\">\n",
       "\n",
       "     <Shape>\n",
       "\n",
       "      <Appearance>\n",
       "\n",
       "       <Material diffuseColor=\"1.000 1.000 1.000\" specularColor=\"0.5 0.5 0.5\">\n",
       "\n",
       "       </Material>\n",
       "\n",
       "      </Appearance>\n",
       "\n",
       "      <Sphere radius=\"0.31\">\n",
       "\n",
       "      </Sphere>\n",
       "\n",
       "     </Shape>\n",
       "\n",
       "    </Transform>\n",
       "\n",
       "    <Transform translation=\"0.00 -0.76 -0.48\">\n",
       "\n",
       "     <Shape>\n",
       "\n",
       "      <Appearance>\n",
       "\n",
       "       <Material diffuseColor=\"1.000 1.000 1.000\" specularColor=\"0.5 0.5 0.5\">\n",
       "\n",
       "       </Material>\n",
       "\n",
       "      </Appearance>\n",
       "\n",
       "      <Sphere radius=\"0.31\">\n",
       "\n",
       "      </Sphere>\n",
       "\n",
       "     </Shape>\n",
       "\n",
       "    </Transform>\n",
       "\n",
       "   </Scene>\n",
       "\n",
       "  </X3D>\n",
       "\n",
       " </body>\n",
       "\n",
       "</html>\n",
       "\n"
      ],
      "text/plain": [
       "<IPython.core.display.HTML object>"
      ]
     },
     "execution_count": 5,
     "metadata": {},
     "output_type": "execute_result"
    }
   ],
   "source": [
    "#Water Molecule\n",
    "from ase.visualize import view\n",
    "from ase.io import write\n",
    "water = molecule('H2O')\n",
    "view(water, viewer='x3d')"
   ]
  },
  {
   "cell_type": "code",
   "execution_count": 6,
   "metadata": {},
   "outputs": [
    {
     "data": {
      "text/plain": [
       "['__class__',\n",
       " '__delattr__',\n",
       " '__dict__',\n",
       " '__dir__',\n",
       " '__doc__',\n",
       " '__eq__',\n",
       " '__format__',\n",
       " '__ge__',\n",
       " '__getattribute__',\n",
       " '__gt__',\n",
       " '__hash__',\n",
       " '__init__',\n",
       " '__init_subclass__',\n",
       " '__le__',\n",
       " '__lt__',\n",
       " '__module__',\n",
       " '__ne__',\n",
       " '__new__',\n",
       " '__reduce__',\n",
       " '__reduce_ex__',\n",
       " '__repr__',\n",
       " '__setattr__',\n",
       " '__sizeof__',\n",
       " '__str__',\n",
       " '__subclasshook__',\n",
       " '__weakref__',\n",
       " 'atoms',\n",
       " 'data',\n",
       " 'get_atoms',\n",
       " 'get_pubchem_data']"
      ]
     },
     "execution_count": 6,
     "metadata": {},
     "output_type": "execute_result"
    }
   ],
   "source": [
    "from ase.io import write\n",
    "from ase.io.pov import get_bondpairs, set_high_bondorder_pairs\n",
    "from ase.io import read, write\n",
    "from ase.data.pubchem import pubchem_atoms_search, pubchem_search, pubchem_atoms_conformer_search\n",
    "monomerall = pubchem_search('501-65-5')\n",
    "(dir(monomerall))\n"
   ]
  },
  {
   "cell_type": "code",
   "execution_count": 1,
   "metadata": {},
   "outputs": [
    {
     "ename": "NameError",
     "evalue": "name 'pubchem_atoms_search' is not defined",
     "output_type": "error",
     "traceback": [
      "\u001b[0;31m---------------------------------------------------------------------------\u001b[0m",
      "\u001b[0;31mNameError\u001b[0m                                 Traceback (most recent call last)",
      "\u001b[0;32m/var/folders/ch/g3s490l17b78nnf3_r0mjqrw0000gn/T/ipykernel_10455/1776739935.py\u001b[0m in \u001b[0;36m<module>\u001b[0;34m\u001b[0m\n\u001b[1;32m      1\u001b[0m \u001b[0;31m#PPS Monomer\u001b[0m\u001b[0;34m\u001b[0m\u001b[0;34m\u001b[0m\u001b[0;34m\u001b[0m\u001b[0m\n\u001b[0;32m----> 2\u001b[0;31m \u001b[0mmonomer\u001b[0m \u001b[0;34m=\u001b[0m \u001b[0mpubchem_atoms_search\u001b[0m\u001b[0;34m(\u001b[0m\u001b[0;34m'501-65-5'\u001b[0m\u001b[0;34m)\u001b[0m\u001b[0;34m\u001b[0m\u001b[0;34m\u001b[0m\u001b[0m\n\u001b[0m\u001b[1;32m      3\u001b[0m \u001b[0mview\u001b[0m\u001b[0;34m(\u001b[0m\u001b[0mmonomer\u001b[0m\u001b[0;34m,\u001b[0m \u001b[0mviewer\u001b[0m\u001b[0;34m=\u001b[0m\u001b[0;34m'x3d'\u001b[0m\u001b[0;34m)\u001b[0m\u001b[0;34m\u001b[0m\u001b[0;34m\u001b[0m\u001b[0m\n",
      "\u001b[0;31mNameError\u001b[0m: name 'pubchem_atoms_search' is not defined"
     ]
    }
   ],
   "source": [
    "#PPS Monomer\n",
    "monomer = pubchem_atoms_search('501-65-5')\n",
    "view(monomer, viewer='x3d')"
   ]
  },
  {
   "cell_type": "markdown",
   "metadata": {},
   "source": [
    "ASE Calculations https://wiki.fysik.dtu.dk/ase/ase/atoms.html#ase.Atoms.get_calculator"
   ]
  },
  {
   "cell_type": "code",
   "execution_count": 8,
   "metadata": {},
   "outputs": [],
   "source": [
    "from ase.calculators.acemolecule import ACE\n",
    "from ase.units import kcal,mol\n",
    "from ase.geometry import wrap_positions\n",
    "from ase.geometry.analysis import Analysis\n",
    "#monomer.set_cell()\n",
    "#monomer_charge = monomer.get_charges()\n",
    "monomer_form = monomer.get_chemical_formula()\n",
    "monomer_incharge = monomer.get_initial_charges()\n",
    "monomer_mass = monomer.get_masses()\n",
    "monomer_pos = monomer.get_positions(wrap=True)\n",
    "monomer_atomic = monomer.get_atomic_numbers()\n",
    "monomer_symbols = monomer.get_chemical_symbols()\n",
    "monomer_mass = monomer.get_masses()\n",
    "#monomer_cell = monomer.get_reciprocal_cell()\n",
    "monomer_center = monomer.get_center_of_mass()"
   ]
  },
  {
   "cell_type": "markdown",
   "metadata": {},
   "source": [
    "# Pymatgen Monomer-Polymer Builder"
   ]
  },
  {
   "cell_type": "markdown",
   "metadata": {},
   "source": [
    "2D structure of polymer with end groups \"*\"\n",
    "\n",
    "RDKIT: https://www.rdkit.org/docs/GettingStartedInPython.html\n",
    "OPENBABEL: http://hjkgrp.mit.edu/content/geometries-strings-smiles-and-openbabel"
   ]
  },
  {
   "cell_type": "code",
   "execution_count": 9,
   "metadata": {},
   "outputs": [
    {
     "data": {
      "image/png": "[encoded data removed]",
      "text/plain": [
       "<rdkit.Chem.rdchem.Mol at 0x7fcd019be400>"
      ]
     },
     "execution_count": 9,
     "metadata": {},
     "output_type": "execute_result"
    }
   ],
   "source": [
    "import os\n",
    "import rdkit\n",
    "from rdkit.Chem import AllChem\n",
    "\n",
    "from rdkit.Chem import rdmolfiles\n",
    "#rdkit.Chem.rdmolfiles.AtomFromSmiles('C1NCN1')\n",
    "mol = rdkit.Chem.MolFromSmiles('*CCCCCC(=O)N*')\n",
    "mol"
   ]
  },
  {
   "cell_type": "markdown",
   "metadata": {},
   "source": [
    "## CAS Data Import"
   ]
  },
  {
   "cell_type": "code",
   "execution_count": 10,
   "metadata": {},
   "outputs": [
    {
     "name": "stdout",
     "output_type": "stream",
     "text": [
      "                   CSV\n",
      "0   TableData (02).csv\n",
      "1   TableData (03).csv\n",
      "2   TableData (08).csv\n",
      "3   TableData (04).csv\n",
      "4   TableData (05).csv\n",
      "5   TableData (09).csv\n",
      "6   TableData (06).csv\n",
      "7   TableData (10).csv\n",
      "8   TableData (07).csv\n",
      "9   TableData (00).csv\n",
      "10  TableData (01).csv\n",
      "(11, 1)\n",
      "Index(['common name', 'synonyms', 'CAS'], dtype='object')\n"
     ]
    },
    {
     "data": {
      "text/html": [
       "<div>\n",
       "<style scoped>\n",
       "    .dataframe tbody tr th:only-of-type {\n",
       "        vertical-align: middle;\n",
       "    }\n",
       "\n",
       "    .dataframe tbody tr th {\n",
       "        vertical-align: top;\n",
       "    }\n",
       "\n",
       "    .dataframe thead th {\n",
       "        text-align: right;\n",
       "    }\n",
       "</style>\n",
       "<table border=\"1\" class=\"dataframe\">\n",
       "  <thead>\n",
       "    <tr style=\"text-align: right;\">\n",
       "      <th></th>\n",
       "      <th>common name</th>\n",
       "      <th>synonyms</th>\n",
       "      <th>CAS</th>\n",
       "    </tr>\n",
       "  </thead>\n",
       "  <tbody>\n",
       "    <tr>\n",
       "      <th>4</th>\n",
       "      <td>Alginic acid</td>\n",
       "      <td>NaN</td>\n",
       "      <td>9005-32-7</td>\n",
       "    </tr>\n",
       "    <tr>\n",
       "      <th>5</th>\n",
       "      <td>Alginic acid, sodium salt</td>\n",
       "      <td>NaN</td>\n",
       "      <td>9005-38-3</td>\n",
       "    </tr>\n",
       "    <tr>\n",
       "      <th>6</th>\n",
       "      <td>Bayberry wax</td>\n",
       "      <td>Myrtle wax</td>\n",
       "      <td>8038-77-5</td>\n",
       "    </tr>\n",
       "    <tr>\n",
       "      <th>7</th>\n",
       "      <td>Beeswax, refined, yellow</td>\n",
       "      <td>NaN</td>\n",
       "      <td>8012-89-3</td>\n",
       "    </tr>\n",
       "    <tr>\n",
       "      <th>8</th>\n",
       "      <td>Boron nitride</td>\n",
       "      <td>NaN</td>\n",
       "      <td>10043-11-5</td>\n",
       "    </tr>\n",
       "  </tbody>\n",
       "</table>\n",
       "</div>"
      ],
      "text/plain": [
       "                 common name    synonyms         CAS\n",
       "4               Alginic acid         NaN   9005-32-7\n",
       "5  Alginic acid, sodium salt         NaN   9005-38-3\n",
       "6               Bayberry wax  Myrtle wax   8038-77-5\n",
       "7   Beeswax, refined, yellow         NaN   8012-89-3\n",
       "8              Boron nitride         NaN  10043-11-5"
      ]
     },
     "execution_count": 10,
     "metadata": {},
     "output_type": "execute_result"
    }
   ],
   "source": [
    "#import CAS numbers and convert to SMILES from dataset\n",
    "path = '/Users/carlytravis/Documents/Research/Arola NUWC Project/Polymers/CAS Numbers'\n",
    "chdir(path)\n",
    "onlyfiles = [f for f in listdir(path) if isfile(join(path, f))]\n",
    "extension = 'csv'\n",
    "filenames = [i for i in glob.glob('*.{}'.format(extension))]\n",
    "df1 = pd.DataFrame(filenames, columns=['CSV'])\n",
    "print(df1)\n",
    "x = np.shape(df1)\n",
    "rslt_df = df1.sort_values(by='CSV')\n",
    "print((x))\n",
    "df1 = rslt_df.reset_index()\n",
    "del df1['index']\n",
    "df3 = pd.read_csv('TableData (00).csv', sep=';')\n",
    "df3 = df3.reset_index()\n",
    "df3.drop(df3.head(4).index,inplace=True)\n",
    "df3.drop(df3.tail(3).index,inplace=True)\n",
    "df3.drop(df3.iloc[:,3:], axis=1, inplace=True)\n",
    "df3.head()\n",
    "df3 = df3.rename(columns={'level_0':'common name', 'level_1':'synonyms', 'level_2':'CAS'})\n",
    "keys = df3.keys()\n",
    "print(keys)\n",
    "frames = df3\n",
    "frames.head()"
   ]
  },
  {
   "cell_type": "code",
   "execution_count": 11,
   "metadata": {},
   "outputs": [
    {
     "data": {
      "text/html": [
       "<div>\n",
       "<style scoped>\n",
       "    .dataframe tbody tr th:only-of-type {\n",
       "        vertical-align: middle;\n",
       "    }\n",
       "\n",
       "    .dataframe tbody tr th {\n",
       "        vertical-align: top;\n",
       "    }\n",
       "\n",
       "    .dataframe thead th {\n",
       "        text-align: right;\n",
       "    }\n",
       "</style>\n",
       "<table border=\"1\" class=\"dataframe\">\n",
       "  <thead>\n",
       "    <tr style=\"text-align: right;\">\n",
       "      <th></th>\n",
       "      <th>common name</th>\n",
       "      <th>synonyms</th>\n",
       "      <th>CAS</th>\n",
       "      <th>level_3</th>\n",
       "    </tr>\n",
       "  </thead>\n",
       "  <tbody>\n",
       "    <tr>\n",
       "      <th>0</th>\n",
       "      <td>Alginic acid</td>\n",
       "      <td>NaN</td>\n",
       "      <td>9005-32-7</td>\n",
       "      <td>NaN</td>\n",
       "    </tr>\n",
       "    <tr>\n",
       "      <th>1</th>\n",
       "      <td>Alginic acid, sodium salt</td>\n",
       "      <td>NaN</td>\n",
       "      <td>9005-38-3</td>\n",
       "      <td>NaN</td>\n",
       "    </tr>\n",
       "    <tr>\n",
       "      <th>2</th>\n",
       "      <td>Bayberry wax</td>\n",
       "      <td>Myrtle wax</td>\n",
       "      <td>8038-77-5</td>\n",
       "      <td>NaN</td>\n",
       "    </tr>\n",
       "    <tr>\n",
       "      <th>3</th>\n",
       "      <td>Beeswax, refined, yellow</td>\n",
       "      <td>NaN</td>\n",
       "      <td>8012-89-3</td>\n",
       "      <td>NaN</td>\n",
       "    </tr>\n",
       "    <tr>\n",
       "      <th>4</th>\n",
       "      <td>Boron nitride</td>\n",
       "      <td>NaN</td>\n",
       "      <td>10043-11-5</td>\n",
       "      <td>NaN</td>\n",
       "    </tr>\n",
       "  </tbody>\n",
       "</table>\n",
       "</div>"
      ],
      "text/plain": [
       "                 common name    synonyms         CAS level_3\n",
       "0               Alginic acid         NaN   9005-32-7     NaN\n",
       "1  Alginic acid, sodium salt         NaN   9005-38-3     NaN\n",
       "2               Bayberry wax  Myrtle wax   8038-77-5     NaN\n",
       "3   Beeswax, refined, yellow         NaN   8012-89-3     NaN\n",
       "4              Boron nitride         NaN  10043-11-5     NaN"
      ]
     },
     "execution_count": 11,
     "metadata": {},
     "output_type": "execute_result"
    }
   ],
   "source": [
    "#combine all files in the list\n",
    "\n",
    "for i in range(0,11): #iterate through datasets\n",
    "    #read each file in list\n",
    "    df2 = pd.read_csv(df1.iloc[i,0], sep=';', dtype={'mp': str})\n",
    "    #reset index\n",
    "    df2 = df2.reset_index()\n",
    "    #drop non-data rows\n",
    "    df2.drop(df2.head(4).index,inplace=True)\n",
    "    df2.drop(df2.tail(3).index,inplace=True)\n",
    "    df2.drop(df2.iloc[:,4:], axis=1, inplace=True)\n",
    "    #set column names\n",
    "    df2 = df2.rename(columns={'level_0':'common name', \n",
    "                              'level_1':'synonyms', 'level_2':'CAS'})\n",
    "    #merge datasets into one for better analysis\n",
    "    frames = [frames, df2]\n",
    "    frames = pd.concat(frames, axis=0, ignore_index=True)\n",
    "\n",
    "frames.head()"
   ]
  },
  {
   "cell_type": "code",
   "execution_count": 12,
   "metadata": {},
   "outputs": [
    {
     "data": {
      "text/plain": [
       "<class 'str'>    576\n",
       "Name: CAS, dtype: int64"
      ]
     },
     "execution_count": 12,
     "metadata": {},
     "output_type": "execute_result"
    }
   ],
   "source": [
    "#This defines dataframe\n",
    "\n",
    "#remove polymer NaN values\n",
    "df_d = frames.dropna(subset=['CAS'])\n",
    "df_d.head()\n",
    "\n",
    "#count instances\n",
    "df_d['CAS'].apply(type).value_counts()"
   ]
  },
  {
   "cell_type": "code",
   "execution_count": 34,
   "metadata": {},
   "outputs": [],
   "source": [
    "#for row in df_d.rows:\n",
    "from pymatgen.core.structure import Molecule\n",
    "from pymatgen.analysis.graphs import MoleculeGraph\n",
    "from monty.dev import requires\n",
    "from pymatgen.io.babel import BabelMolAdaptor\n",
    "from openbabel import _openbabel\n",
    "from openbabel import openbabel as ob\n",
    "from openbabel import pybel as pb"
   ]
  },
  {
   "cell_type": "code",
   "execution_count": 35,
   "metadata": {},
   "outputs": [
    {
     "name": "stdout",
     "output_type": "stream",
     "text": [
      "['/Users/carlytravis/Documents/Research/Arola NUWC Project/Monomer Properties', '/Users/carlytravis/opt/anaconda3/lib/python38.zip', '/Users/carlytravis/opt/anaconda3/lib/python3.8', '/Users/carlytravis/opt/anaconda3/lib/python3.8/lib-dynload', '', '/Users/carlytravis/opt/anaconda3/lib/python3.8/site-packages', '/Users/carlytravis/opt/anaconda3/lib/python3.8/site-packages/aeosa', '/Users/carlytravis/opt/anaconda3/lib/python3.8/site-packages/locket-0.2.1-py3.8.egg', '/Users/carlytravis/opt/anaconda3/lib/python3.8/site-packages/IPython/extensions', '/Users/carlytravis/.ipython']\n"
     ]
    }
   ],
   "source": [
    "import sys\n",
    "print(sys.path)"
   ]
  },
  {
   "cell_type": "code",
   "execution_count": 36,
   "metadata": {},
   "outputs": [
    {
     "name": "stdout",
     "output_type": "stream",
     "text": [
      "Full Formula (H10 C14)\n",
      "Reduced Formula: H5C7\n",
      "Charge = 0.0, Spin Mult = 1\n",
      "Sites (24)\n",
      "0 C     2.031700    -0.000100     0.000000\n",
      "1 C    -2.030500    -0.000200    -0.000100\n",
      "2 C     2.727900    -0.890900     0.815800\n",
      "3 C    -2.727900     0.891000     0.815600\n",
      "4 C     2.727600     0.890900    -0.816000\n",
      "5 C    -2.728100    -0.891200    -0.815800\n",
      "6 C     4.122700    -0.890600     0.816000\n",
      "7 C    -4.122700     0.891200     0.815800\n",
      "8 C     4.122500     0.891000    -0.815800\n",
      "9 C    -4.123000    -0.890800    -0.815600\n",
      "10 C     4.820000     0.000200     0.000100\n",
      "11 C    -4.820200     0.000300     0.000200\n",
      "12 C     0.601400    -0.000300    -0.000100\n",
      "13 C    -0.601500    -0.000400    -0.000100\n",
      "14 H     2.198500    -1.591400     1.457300\n",
      "15 H    -2.198400     1.591600     1.457000\n",
      "16 H     2.198100     1.591200    -1.457400\n",
      "17 H    -2.199000    -1.591900    -1.457200\n",
      "18 H     4.666000    -1.584100     1.451200\n",
      "19 H    -4.665700     1.585000     1.451000\n",
      "20 H     4.665700     1.584600    -1.451000\n",
      "21 H    -4.666400    -1.584400    -1.450600\n",
      "22 H     5.906100     0.000300     0.000200\n",
      "23 H    -5.906300     0.000500     0.000200\n"
     ]
    }
   ],
   "source": [
    "from pymatgen.core import Molecule\n",
    "mol = Molecule(monomer_symbols, monomer_pos)\n",
    "print(mol)"
   ]
  },
  {
   "cell_type": "code",
   "execution_count": 41,
   "metadata": {},
   "outputs": [
    {
     "ename": "FileNotFoundError",
     "evalue": "[Errno 2] No such file or directory: '/Users/carlytravis/opt/anaconda3/lib/python3.8/site-packages/tqdm-4.59.0.dist-info/METADATA'",
     "output_type": "error",
     "traceback": [
      "\u001b[0;31m---------------------------------------------------------------------------\u001b[0m",
      "\u001b[0;31mAttributeError\u001b[0m                            Traceback (most recent call last)",
      "\u001b[0;32m~/opt/anaconda3/lib/python3.8/site-packages/pkg_resources/__init__.py\u001b[0m in \u001b[0;36m_dep_map\u001b[0;34m(self)\u001b[0m\n\u001b[1;32m   3015\u001b[0m         \u001b[0;32mif\u001b[0m \u001b[0mmd_version\u001b[0m\u001b[0;34m:\u001b[0m\u001b[0;34m\u001b[0m\u001b[0;34m\u001b[0m\u001b[0m\n\u001b[0;32m-> 3016\u001b[0;31m             \u001b[0mself\u001b[0m\u001b[0;34m.\u001b[0m\u001b[0m_version\u001b[0m \u001b[0;34m=\u001b[0m \u001b[0mmd_version\u001b[0m\u001b[0;34m\u001b[0m\u001b[0;34m\u001b[0m\u001b[0m\n\u001b[0m\u001b[1;32m   3017\u001b[0m         \u001b[0;32mreturn\u001b[0m \u001b[0mself\u001b[0m\u001b[0;34m\u001b[0m\u001b[0;34m\u001b[0m\u001b[0m\n",
      "\u001b[0;32m~/opt/anaconda3/lib/python3.8/site-packages/pkg_resources/__init__.py\u001b[0m in \u001b[0;36m__getattr__\u001b[0;34m(self, attr)\u001b[0m\n\u001b[1;32m   2812\u001b[0m         )\n\u001b[0;32m-> 2813\u001b[0;31m \u001b[0;34m\u001b[0m\u001b[0m\n\u001b[0m\u001b[1;32m   2814\u001b[0m         \u001b[0;32mif\u001b[0m \u001b[0mself\u001b[0m\u001b[0;34m.\u001b[0m\u001b[0mplatform\u001b[0m\u001b[0;34m:\u001b[0m\u001b[0;34m\u001b[0m\u001b[0;34m\u001b[0m\u001b[0m\n",
      "\u001b[0;31mAttributeError\u001b[0m: _DistInfoDistribution__dep_map",
      "\nDuring handling of the above exception, another exception occurred:\n",
      "\u001b[0;31mAttributeError\u001b[0m                            Traceback (most recent call last)",
      "\u001b[0;32m~/opt/anaconda3/lib/python3.8/site-packages/pkg_resources/__init__.py\u001b[0m in \u001b[0;36m_parsed_pkg_info\u001b[0;34m(self)\u001b[0m\n\u001b[1;32m   3006\u001b[0m         \u001b[0mtheir\u001b[0m \u001b[0mversion\u001b[0m \u001b[0mnumbers\u001b[0m \u001b[0mcan\u001b[0m \u001b[0mget\u001b[0m \u001b[0mmangled\u001b[0m \u001b[0mwhen\u001b[0m\u001b[0;34m\u001b[0m\u001b[0;34m\u001b[0m\u001b[0m\n\u001b[0;32m-> 3007\u001b[0;31m         converted to filenames (e.g., 1.11.0.dev0+2329eae to\n\u001b[0m\u001b[1;32m   3008\u001b[0m         1.11.0.dev0_2329eae). These distributions will not be\n",
      "\u001b[0;32m~/opt/anaconda3/lib/python3.8/site-packages/pkg_resources/__init__.py\u001b[0m in \u001b[0;36m__getattr__\u001b[0;34m(self, attr)\u001b[0m\n\u001b[1;32m   2812\u001b[0m         )\n\u001b[0;32m-> 2813\u001b[0;31m \u001b[0;34m\u001b[0m\u001b[0m\n\u001b[0m\u001b[1;32m   2814\u001b[0m         \u001b[0;32mif\u001b[0m \u001b[0mself\u001b[0m\u001b[0;34m.\u001b[0m\u001b[0mplatform\u001b[0m\u001b[0;34m:\u001b[0m\u001b[0;34m\u001b[0m\u001b[0;34m\u001b[0m\u001b[0m\n",
      "\u001b[0;31mAttributeError\u001b[0m: _pkg_info",
      "\nDuring handling of the above exception, another exception occurred:\n",
      "\u001b[0;31mFileNotFoundError\u001b[0m                         Traceback (most recent call last)",
      "\u001b[0;32m<ipython-input-41-d0a1e8f95231>\u001b[0m in \u001b[0;36m<module>\u001b[0;34m\u001b[0m\n\u001b[1;32m      8\u001b[0m \u001b[0;32mfrom\u001b[0m \u001b[0mopenbabel\u001b[0m \u001b[0;32mimport\u001b[0m \u001b[0mopenbabel\u001b[0m \u001b[0;32mas\u001b[0m \u001b[0mob\u001b[0m\u001b[0;34m\u001b[0m\u001b[0;34m\u001b[0m\u001b[0m\n\u001b[1;32m      9\u001b[0m \u001b[0;32mfrom\u001b[0m \u001b[0mopenbabel\u001b[0m \u001b[0;32mimport\u001b[0m \u001b[0mpybel\u001b[0m \u001b[0;32mas\u001b[0m \u001b[0mpb\u001b[0m\u001b[0;34m\u001b[0m\u001b[0;34m\u001b[0m\u001b[0m\n\u001b[0;32m---> 10\u001b[0;31m \u001b[0;32mimport\u001b[0m \u001b[0mpybel\u001b[0m \u001b[0;32mas\u001b[0m \u001b[0mpb\u001b[0m\u001b[0;34m\u001b[0m\u001b[0;34m\u001b[0m\u001b[0m\n\u001b[0m\u001b[1;32m     11\u001b[0m \u001b[0ma\u001b[0m \u001b[0;34m=\u001b[0m \u001b[0mBabelMolAdaptor\u001b[0m\u001b[0;34m(\u001b[0m\u001b[0mmol\u001b[0m\u001b[0;34m)\u001b[0m\u001b[0;34m\u001b[0m\u001b[0;34m\u001b[0m\u001b[0m\n\u001b[1;32m     12\u001b[0m \u001b[0;31m# Create a pybel.Molecule, which simplifies a lot of access\u001b[0m\u001b[0;34m\u001b[0m\u001b[0;34m\u001b[0m\u001b[0;34m\u001b[0m\u001b[0m\n",
      "\u001b[0;32m~/opt/anaconda3/lib/python3.8/site-packages/pybel/__init__.py\u001b[0m in \u001b[0;36m<module>\u001b[0;34m\u001b[0m\n\u001b[1;32m      5\u001b[0m \u001b[0;32mfrom\u001b[0m \u001b[0;34m.\u001b[0m\u001b[0mcanonicalize\u001b[0m \u001b[0;32mimport\u001b[0m \u001b[0medge_to_bel\u001b[0m\u001b[0;34m,\u001b[0m \u001b[0mto_bel_script\u001b[0m\u001b[0;34m,\u001b[0m \u001b[0mto_bel_script_gz\u001b[0m\u001b[0;34m,\u001b[0m \u001b[0mto_bel_script_lines\u001b[0m\u001b[0;34m\u001b[0m\u001b[0;34m\u001b[0m\u001b[0m\n\u001b[1;32m      6\u001b[0m \u001b[0;32mfrom\u001b[0m \u001b[0;34m.\u001b[0m\u001b[0mdsl\u001b[0m \u001b[0;32mimport\u001b[0m \u001b[0mBaseAbundance\u001b[0m\u001b[0;34m,\u001b[0m \u001b[0mBaseEntity\u001b[0m\u001b[0;34m\u001b[0m\u001b[0;34m\u001b[0m\u001b[0m\n\u001b[0;32m----> 7\u001b[0;31m \u001b[0;32mfrom\u001b[0m \u001b[0;34m.\u001b[0m\u001b[0mio\u001b[0m\u001b[0;34m.\u001b[0m\u001b[0mapi\u001b[0m \u001b[0;32mimport\u001b[0m \u001b[0mdump\u001b[0m\u001b[0;34m,\u001b[0m \u001b[0mload\u001b[0m\u001b[0;34m\u001b[0m\u001b[0;34m\u001b[0m\u001b[0m\n\u001b[0m\u001b[1;32m      8\u001b[0m \u001b[0;32mfrom\u001b[0m \u001b[0;34m.\u001b[0m\u001b[0mio\u001b[0m\u001b[0;34m.\u001b[0m\u001b[0maws\u001b[0m \u001b[0;32mimport\u001b[0m \u001b[0mfrom_s3\u001b[0m\u001b[0;34m,\u001b[0m \u001b[0mto_s3\u001b[0m\u001b[0;34m\u001b[0m\u001b[0;34m\u001b[0m\u001b[0m\n\u001b[1;32m      9\u001b[0m \u001b[0;32mfrom\u001b[0m \u001b[0;34m.\u001b[0m\u001b[0mio\u001b[0m\u001b[0;34m.\u001b[0m\u001b[0mbel_commons_client\u001b[0m \u001b[0;32mimport\u001b[0m \u001b[0mfrom_bel_commons\u001b[0m\u001b[0;34m,\u001b[0m \u001b[0mto_bel_commons\u001b[0m\u001b[0;34m\u001b[0m\u001b[0;34m\u001b[0m\u001b[0m\n",
      "\u001b[0;32m~/opt/anaconda3/lib/python3.8/site-packages/pybel/io/__init__.py\u001b[0m in \u001b[0;36m<module>\u001b[0;34m\u001b[0m\n\u001b[1;32m      8\u001b[0m \"\"\"\n\u001b[1;32m      9\u001b[0m \u001b[0;34m\u001b[0m\u001b[0m\n\u001b[0;32m---> 10\u001b[0;31m \u001b[0;32mfrom\u001b[0m \u001b[0;34m.\u001b[0m\u001b[0mapi\u001b[0m \u001b[0;32mimport\u001b[0m \u001b[0mdump\u001b[0m\u001b[0;34m,\u001b[0m \u001b[0mload\u001b[0m\u001b[0;34m\u001b[0m\u001b[0;34m\u001b[0m\u001b[0m\n\u001b[0m\u001b[1;32m     11\u001b[0m \u001b[0;32mfrom\u001b[0m \u001b[0;34m.\u001b[0m\u001b[0maws\u001b[0m \u001b[0;32mimport\u001b[0m \u001b[0mfrom_s3\u001b[0m\u001b[0;34m,\u001b[0m \u001b[0mto_s3\u001b[0m\u001b[0;34m\u001b[0m\u001b[0;34m\u001b[0m\u001b[0m\n\u001b[1;32m     12\u001b[0m \u001b[0;32mfrom\u001b[0m \u001b[0;34m.\u001b[0m\u001b[0mbel_commons_client\u001b[0m \u001b[0;32mimport\u001b[0m \u001b[0mfrom_bel_commons\u001b[0m\u001b[0;34m,\u001b[0m \u001b[0mto_bel_commons\u001b[0m\u001b[0;34m\u001b[0m\u001b[0;34m\u001b[0m\u001b[0m\n",
      "\u001b[0;32m~/opt/anaconda3/lib/python3.8/site-packages/pybel/io/api.py\u001b[0m in \u001b[0;36m<module>\u001b[0;34m\u001b[0m\n\u001b[1;32m     18\u001b[0m \u001b[0;34m\u001b[0m\u001b[0m\n\u001b[1;32m     19\u001b[0m \u001b[0;31m#: Mapping from extension to importer function\u001b[0m\u001b[0;34m\u001b[0m\u001b[0;34m\u001b[0m\u001b[0;34m\u001b[0m\u001b[0m\n\u001b[0;32m---> 20\u001b[0;31m IMPORTERS = {\n\u001b[0m\u001b[1;32m     21\u001b[0m     \u001b[0mentry\u001b[0m\u001b[0;34m.\u001b[0m\u001b[0mname\u001b[0m\u001b[0;34m:\u001b[0m \u001b[0mentry\u001b[0m\u001b[0;34m.\u001b[0m\u001b[0mload\u001b[0m\u001b[0;34m(\u001b[0m\u001b[0;34m)\u001b[0m\u001b[0;34m\u001b[0m\u001b[0;34m\u001b[0m\u001b[0m\n\u001b[1;32m     22\u001b[0m     \u001b[0;32mfor\u001b[0m \u001b[0mentry\u001b[0m \u001b[0;32min\u001b[0m \u001b[0miter_entry_points\u001b[0m\u001b[0;34m(\u001b[0m\u001b[0mgroup\u001b[0m\u001b[0;34m=\u001b[0m\u001b[0;34m'pybel.importer'\u001b[0m\u001b[0;34m)\u001b[0m\u001b[0;34m\u001b[0m\u001b[0;34m\u001b[0m\u001b[0m\n",
      "\u001b[0;32m~/opt/anaconda3/lib/python3.8/site-packages/pybel/io/api.py\u001b[0m in \u001b[0;36m<dictcomp>\u001b[0;34m(.0)\u001b[0m\n\u001b[1;32m     19\u001b[0m \u001b[0;31m#: Mapping from extension to importer function\u001b[0m\u001b[0;34m\u001b[0m\u001b[0;34m\u001b[0m\u001b[0;34m\u001b[0m\u001b[0m\n\u001b[1;32m     20\u001b[0m IMPORTERS = {\n\u001b[0;32m---> 21\u001b[0;31m     \u001b[0mentry\u001b[0m\u001b[0;34m.\u001b[0m\u001b[0mname\u001b[0m\u001b[0;34m:\u001b[0m \u001b[0mentry\u001b[0m\u001b[0;34m.\u001b[0m\u001b[0mload\u001b[0m\u001b[0;34m(\u001b[0m\u001b[0;34m)\u001b[0m\u001b[0;34m\u001b[0m\u001b[0;34m\u001b[0m\u001b[0m\n\u001b[0m\u001b[1;32m     22\u001b[0m     \u001b[0;32mfor\u001b[0m \u001b[0mentry\u001b[0m \u001b[0;32min\u001b[0m \u001b[0miter_entry_points\u001b[0m\u001b[0;34m(\u001b[0m\u001b[0mgroup\u001b[0m\u001b[0;34m=\u001b[0m\u001b[0;34m'pybel.importer'\u001b[0m\u001b[0;34m)\u001b[0m\u001b[0;34m\u001b[0m\u001b[0;34m\u001b[0m\u001b[0m\n\u001b[1;32m     23\u001b[0m }\n",
      "\u001b[0;32m~/opt/anaconda3/lib/python3.8/site-packages/pkg_resources/__init__.py\u001b[0m in \u001b[0;36mload\u001b[0;34m(self, require, *args, **kwargs)\u001b[0m\n\u001b[1;32m   2447\u001b[0m \u001b[0;34m\u001b[0m\u001b[0m\n\u001b[1;32m   2448\u001b[0m     \u001b[0;32mdef\u001b[0m \u001b[0m__str__\u001b[0m\u001b[0;34m(\u001b[0m\u001b[0mself\u001b[0m\u001b[0;34m)\u001b[0m\u001b[0;34m:\u001b[0m\u001b[0;34m\u001b[0m\u001b[0;34m\u001b[0m\u001b[0m\n\u001b[0;32m-> 2449\u001b[0;31m         \u001b[0ms\u001b[0m \u001b[0;34m=\u001b[0m \u001b[0;34m\"%s = %s\"\u001b[0m \u001b[0;34m%\u001b[0m \u001b[0;34m(\u001b[0m\u001b[0mself\u001b[0m\u001b[0;34m.\u001b[0m\u001b[0mname\u001b[0m\u001b[0;34m,\u001b[0m \u001b[0mself\u001b[0m\u001b[0;34m.\u001b[0m\u001b[0mmodule_name\u001b[0m\u001b[0;34m)\u001b[0m\u001b[0;34m\u001b[0m\u001b[0;34m\u001b[0m\u001b[0m\n\u001b[0m\u001b[1;32m   2450\u001b[0m         \u001b[0;32mif\u001b[0m \u001b[0mself\u001b[0m\u001b[0;34m.\u001b[0m\u001b[0mattrs\u001b[0m\u001b[0;34m:\u001b[0m\u001b[0;34m\u001b[0m\u001b[0;34m\u001b[0m\u001b[0m\n\u001b[1;32m   2451\u001b[0m             \u001b[0ms\u001b[0m \u001b[0;34m+=\u001b[0m \u001b[0;34m':'\u001b[0m \u001b[0;34m+\u001b[0m \u001b[0;34m'.'\u001b[0m\u001b[0;34m.\u001b[0m\u001b[0mjoin\u001b[0m\u001b[0;34m(\u001b[0m\u001b[0mself\u001b[0m\u001b[0;34m.\u001b[0m\u001b[0mattrs\u001b[0m\u001b[0;34m)\u001b[0m\u001b[0;34m\u001b[0m\u001b[0;34m\u001b[0m\u001b[0m\n",
      "\u001b[0;32m~/opt/anaconda3/lib/python3.8/site-packages/pkg_resources/__init__.py\u001b[0m in \u001b[0;36mrequire\u001b[0;34m(self, env, installer)\u001b[0m\n\u001b[1;32m   2470\u001b[0m         \u001b[0;32mif\u001b[0m \u001b[0mrequire\u001b[0m\u001b[0;34m:\u001b[0m\u001b[0;34m\u001b[0m\u001b[0;34m\u001b[0m\u001b[0m\n\u001b[1;32m   2471\u001b[0m             \u001b[0mself\u001b[0m\u001b[0;34m.\u001b[0m\u001b[0mrequire\u001b[0m\u001b[0;34m(\u001b[0m\u001b[0;34m*\u001b[0m\u001b[0margs\u001b[0m\u001b[0;34m,\u001b[0m \u001b[0;34m**\u001b[0m\u001b[0mkwargs\u001b[0m\u001b[0;34m)\u001b[0m\u001b[0;34m\u001b[0m\u001b[0;34m\u001b[0m\u001b[0m\n\u001b[0;32m-> 2472\u001b[0;31m         \u001b[0;32mreturn\u001b[0m \u001b[0mself\u001b[0m\u001b[0;34m.\u001b[0m\u001b[0mresolve\u001b[0m\u001b[0;34m(\u001b[0m\u001b[0;34m)\u001b[0m\u001b[0;34m\u001b[0m\u001b[0;34m\u001b[0m\u001b[0m\n\u001b[0m\u001b[1;32m   2473\u001b[0m \u001b[0;34m\u001b[0m\u001b[0m\n\u001b[1;32m   2474\u001b[0m     \u001b[0;32mdef\u001b[0m \u001b[0mresolve\u001b[0m\u001b[0;34m(\u001b[0m\u001b[0mself\u001b[0m\u001b[0;34m)\u001b[0m\u001b[0;34m:\u001b[0m\u001b[0;34m\u001b[0m\u001b[0;34m\u001b[0m\u001b[0m\n",
      "\u001b[0;32m~/opt/anaconda3/lib/python3.8/site-packages/pkg_resources/__init__.py\u001b[0m in \u001b[0;36mresolve\u001b[0;34m(self, requirements, env, installer, replace_conflicting, extras)\u001b[0m\n\u001b[1;32m    778\u001b[0m                             \u001b[0mws\u001b[0m \u001b[0;34m=\u001b[0m \u001b[0mWorkingSet\u001b[0m\u001b[0;34m(\u001b[0m\u001b[0;34m[\u001b[0m\u001b[0;34m]\u001b[0m\u001b[0;34m)\u001b[0m\u001b[0;34m\u001b[0m\u001b[0;34m\u001b[0m\u001b[0m\n\u001b[1;32m    779\u001b[0m                     dist = best[req.key] = env.best_match(\n\u001b[0;32m--> 780\u001b[0;31m                         \u001b[0mreq\u001b[0m\u001b[0;34m,\u001b[0m \u001b[0mws\u001b[0m\u001b[0;34m,\u001b[0m \u001b[0minstaller\u001b[0m\u001b[0;34m,\u001b[0m\u001b[0;34m\u001b[0m\u001b[0;34m\u001b[0m\u001b[0m\n\u001b[0m\u001b[1;32m    781\u001b[0m                         \u001b[0mreplace_conflicting\u001b[0m\u001b[0;34m=\u001b[0m\u001b[0mreplace_conflicting\u001b[0m\u001b[0;34m\u001b[0m\u001b[0;34m\u001b[0m\u001b[0m\n\u001b[1;32m    782\u001b[0m                     )\n",
      "\u001b[0;32m~/opt/anaconda3/lib/python3.8/site-packages/pkg_resources/__init__.py\u001b[0m in \u001b[0;36mrequires\u001b[0;34m(self, extras)\u001b[0m\n\u001b[1;32m   2732\u001b[0m         \u001b[0;32mfor\u001b[0m \u001b[0mextra\u001b[0m \u001b[0;32min\u001b[0m \u001b[0mlist\u001b[0m\u001b[0;34m(\u001b[0m\u001b[0mfilter\u001b[0m\u001b[0;34m(\u001b[0m\u001b[0;32mNone\u001b[0m\u001b[0;34m,\u001b[0m \u001b[0mdm\u001b[0m\u001b[0;34m)\u001b[0m\u001b[0;34m)\u001b[0m\u001b[0;34m:\u001b[0m\u001b[0;34m\u001b[0m\u001b[0;34m\u001b[0m\u001b[0m\n\u001b[1;32m   2733\u001b[0m             \u001b[0mnew_extra\u001b[0m \u001b[0;34m=\u001b[0m \u001b[0mextra\u001b[0m\u001b[0;34m\u001b[0m\u001b[0;34m\u001b[0m\u001b[0m\n\u001b[0;32m-> 2734\u001b[0;31m             \u001b[0mreqs\u001b[0m \u001b[0;34m=\u001b[0m \u001b[0mdm\u001b[0m\u001b[0;34m.\u001b[0m\u001b[0mpop\u001b[0m\u001b[0;34m(\u001b[0m\u001b[0mextra\u001b[0m\u001b[0;34m)\u001b[0m\u001b[0;34m\u001b[0m\u001b[0;34m\u001b[0m\u001b[0m\n\u001b[0m\u001b[1;32m   2735\u001b[0m             \u001b[0mnew_extra\u001b[0m\u001b[0;34m,\u001b[0m \u001b[0m_\u001b[0m\u001b[0;34m,\u001b[0m \u001b[0mmarker\u001b[0m \u001b[0;34m=\u001b[0m \u001b[0mextra\u001b[0m\u001b[0;34m.\u001b[0m\u001b[0mpartition\u001b[0m\u001b[0;34m(\u001b[0m\u001b[0;34m':'\u001b[0m\u001b[0;34m)\u001b[0m\u001b[0;34m\u001b[0m\u001b[0;34m\u001b[0m\u001b[0m\n\u001b[1;32m   2736\u001b[0m             fails_marker = marker and (\n",
      "\u001b[0;32m~/opt/anaconda3/lib/python3.8/site-packages/pkg_resources/__init__.py\u001b[0m in \u001b[0;36m_dep_map\u001b[0;34m(self)\u001b[0m\n\u001b[1;32m   3016\u001b[0m             \u001b[0mself\u001b[0m\u001b[0;34m.\u001b[0m\u001b[0m_version\u001b[0m \u001b[0;34m=\u001b[0m \u001b[0mmd_version\u001b[0m\u001b[0;34m\u001b[0m\u001b[0;34m\u001b[0m\u001b[0m\n\u001b[1;32m   3017\u001b[0m         \u001b[0;32mreturn\u001b[0m \u001b[0mself\u001b[0m\u001b[0;34m\u001b[0m\u001b[0;34m\u001b[0m\u001b[0m\n\u001b[0;32m-> 3018\u001b[0;31m \u001b[0;34m\u001b[0m\u001b[0m\n\u001b[0m\u001b[1;32m   3019\u001b[0m \u001b[0;34m\u001b[0m\u001b[0m\n\u001b[1;32m   3020\u001b[0m \u001b[0;32mclass\u001b[0m \u001b[0mDistInfoDistribution\u001b[0m\u001b[0;34m(\u001b[0m\u001b[0mDistribution\u001b[0m\u001b[0;34m)\u001b[0m\u001b[0;34m:\u001b[0m\u001b[0;34m\u001b[0m\u001b[0;34m\u001b[0m\u001b[0m\n",
      "\u001b[0;32m~/opt/anaconda3/lib/python3.8/site-packages/pkg_resources/__init__.py\u001b[0m in \u001b[0;36m_compute_dependencies\u001b[0;34m(self)\u001b[0m\n\u001b[1;32m   3025\u001b[0m     \u001b[0mPKG_INFO\u001b[0m \u001b[0;34m=\u001b[0m \u001b[0;34m'METADATA'\u001b[0m\u001b[0;34m\u001b[0m\u001b[0;34m\u001b[0m\u001b[0m\n\u001b[1;32m   3026\u001b[0m     \u001b[0mEQEQ\u001b[0m \u001b[0;34m=\u001b[0m \u001b[0mre\u001b[0m\u001b[0;34m.\u001b[0m\u001b[0mcompile\u001b[0m\u001b[0;34m(\u001b[0m\u001b[0;34mr\"([\\(,])\\s*(\\d.*?)\\s*([,\\)])\"\u001b[0m\u001b[0;34m)\u001b[0m\u001b[0;34m\u001b[0m\u001b[0;34m\u001b[0m\u001b[0m\n\u001b[0;32m-> 3027\u001b[0;31m \u001b[0;34m\u001b[0m\u001b[0m\n\u001b[0m\u001b[1;32m   3028\u001b[0m     \u001b[0;34m@\u001b[0m\u001b[0mproperty\u001b[0m\u001b[0;34m\u001b[0m\u001b[0;34m\u001b[0m\u001b[0m\n\u001b[1;32m   3029\u001b[0m     \u001b[0;32mdef\u001b[0m \u001b[0m_parsed_pkg_info\u001b[0m\u001b[0;34m(\u001b[0m\u001b[0mself\u001b[0m\u001b[0;34m)\u001b[0m\u001b[0;34m:\u001b[0m\u001b[0;34m\u001b[0m\u001b[0;34m\u001b[0m\u001b[0m\n",
      "\u001b[0;32m~/opt/anaconda3/lib/python3.8/site-packages/pkg_resources/__init__.py\u001b[0m in \u001b[0;36m_parsed_pkg_info\u001b[0;34m(self)\u001b[0m\n\u001b[1;32m   3007\u001b[0m         converted to filenames (e.g., 1.11.0.dev0+2329eae to\n\u001b[1;32m   3008\u001b[0m         1.11.0.dev0_2329eae). These distributions will not be\n\u001b[0;32m-> 3009\u001b[0;31m         \u001b[0mparsed\u001b[0m \u001b[0mproperly\u001b[0m\u001b[0;34m\u001b[0m\u001b[0;34m\u001b[0m\u001b[0m\n\u001b[0m\u001b[1;32m   3010\u001b[0m         \u001b[0mdownstream\u001b[0m \u001b[0mby\u001b[0m \u001b[0mDistribution\u001b[0m \u001b[0;32mand\u001b[0m \u001b[0msafe_version\u001b[0m\u001b[0;34m,\u001b[0m \u001b[0mso\u001b[0m\u001b[0;34m\u001b[0m\u001b[0;34m\u001b[0m\u001b[0m\n\u001b[1;32m   3011\u001b[0m         \u001b[0mtake\u001b[0m \u001b[0man\u001b[0m \u001b[0mextra\u001b[0m \u001b[0mstep\u001b[0m \u001b[0;32mand\u001b[0m \u001b[0;32mtry\u001b[0m \u001b[0mto\u001b[0m \u001b[0mget\u001b[0m \u001b[0mthe\u001b[0m \u001b[0mversion\u001b[0m \u001b[0mnumber\u001b[0m \u001b[0;32mfrom\u001b[0m\u001b[0;34m\u001b[0m\u001b[0;34m\u001b[0m\u001b[0m\n",
      "\u001b[0;32m~/opt/anaconda3/lib/python3.8/site-packages/pkg_resources/__init__.py\u001b[0m in \u001b[0;36mget_metadata\u001b[0;34m(self, name)\u001b[0m\n\u001b[1;32m   1405\u001b[0m \u001b[0;34m\u001b[0m\u001b[0m\n\u001b[1;32m   1406\u001b[0m     \u001b[0;32mdef\u001b[0m \u001b[0m_get_metadata_path\u001b[0m\u001b[0;34m(\u001b[0m\u001b[0mself\u001b[0m\u001b[0;34m,\u001b[0m \u001b[0mname\u001b[0m\u001b[0;34m)\u001b[0m\u001b[0;34m:\u001b[0m\u001b[0;34m\u001b[0m\u001b[0;34m\u001b[0m\u001b[0m\n\u001b[0;32m-> 1407\u001b[0;31m         \u001b[0;32mreturn\u001b[0m \u001b[0mself\u001b[0m\u001b[0;34m.\u001b[0m\u001b[0m_fn\u001b[0m\u001b[0;34m(\u001b[0m\u001b[0mself\u001b[0m\u001b[0;34m.\u001b[0m\u001b[0megg_info\u001b[0m\u001b[0;34m,\u001b[0m \u001b[0mname\u001b[0m\u001b[0;34m)\u001b[0m\u001b[0;34m\u001b[0m\u001b[0;34m\u001b[0m\u001b[0m\n\u001b[0m\u001b[1;32m   1408\u001b[0m \u001b[0;34m\u001b[0m\u001b[0m\n\u001b[1;32m   1409\u001b[0m     \u001b[0;32mdef\u001b[0m \u001b[0mhas_metadata\u001b[0m\u001b[0;34m(\u001b[0m\u001b[0mself\u001b[0m\u001b[0;34m,\u001b[0m \u001b[0mname\u001b[0m\u001b[0;34m)\u001b[0m\u001b[0;34m:\u001b[0m\u001b[0;34m\u001b[0m\u001b[0;34m\u001b[0m\u001b[0m\n",
      "\u001b[0;32m~/opt/anaconda3/lib/python3.8/site-packages/pkg_resources/__init__.py\u001b[0m in \u001b[0;36m_get\u001b[0;34m(self, path)\u001b[0m\n\u001b[1;32m   1609\u001b[0m \u001b[0;34m\u001b[0m\u001b[0m\n\u001b[1;32m   1610\u001b[0m \u001b[0;32mclass\u001b[0m \u001b[0mDefaultProvider\u001b[0m\u001b[0;34m(\u001b[0m\u001b[0mEggProvider\u001b[0m\u001b[0;34m)\u001b[0m\u001b[0;34m:\u001b[0m\u001b[0;34m\u001b[0m\u001b[0;34m\u001b[0m\u001b[0m\n\u001b[0;32m-> 1611\u001b[0;31m     \u001b[0;34m\"\"\"Provides access to package resources in the filesystem\"\"\"\u001b[0m\u001b[0;34m\u001b[0m\u001b[0;34m\u001b[0m\u001b[0m\n\u001b[0m\u001b[1;32m   1612\u001b[0m \u001b[0;34m\u001b[0m\u001b[0m\n\u001b[1;32m   1613\u001b[0m     \u001b[0;32mdef\u001b[0m \u001b[0m_has\u001b[0m\u001b[0;34m(\u001b[0m\u001b[0mself\u001b[0m\u001b[0;34m,\u001b[0m \u001b[0mpath\u001b[0m\u001b[0;34m)\u001b[0m\u001b[0;34m:\u001b[0m\u001b[0;34m\u001b[0m\u001b[0;34m\u001b[0m\u001b[0m\n",
      "\u001b[0;31mFileNotFoundError\u001b[0m: [Errno 2] No such file or directory: '/Users/carlytravis/opt/anaconda3/lib/python3.8/site-packages/tqdm-4.59.0.dist-info/METADATA'"
     ]
    }
   ],
   "source": [
    "import warnings\n",
    "import copy\n",
    "from pymatgen.core.structure import Molecule\n",
    "from pymatgen.analysis.graphs import MoleculeGraph\n",
    "from monty.dev import requires\n",
    "from pymatgen.io.babel import BabelMolAdaptor\n",
    "from openbabel import openbabel\n",
    "from openbabel import openbabel as ob\n",
    "from openbabel import pybel as pb\n",
    "import pybel as pb\n",
    "a = BabelMolAdaptor(mol)\n",
    "# Create a pybel.Molecule, which simplifies a lot of access\n",
    "pm = pb.Molecule(a.openbabel_mol)\n",
    "# Print canonical SMILES representation (unique and comparable).\n",
    "print(\"Canonical SMILES = {}\".format(pm.write(\"can\")))\n",
    "monomersmi = \"Canonical SMILES = {}\".format(pm.write(\"can\"))"
   ]
  },
  {
   "cell_type": "code",
   "execution_count": null,
   "metadata": {},
   "outputs": [],
   "source": [
    "# Generating monomer (SMILES obtained above)\n",
    "# And displaying the svg.\n",
    "ec = pb.readstring(\"smi\", monomersmi)\n",
    "ec.make3D()\n",
    "from IPython.core.display import SVG, display_svg\n",
    "svg = SVG(ec.write(\"svg\"))\n",
    "display_svg(svg)"
   ]
  },
  {
   "cell_type": "code",
   "execution_count": null,
   "metadata": {},
   "outputs": [],
   "source": [
    "from pymatgen.analysis.chemenv.coordination_environments.coordination_geometry_finder import LocalGeometryFinder\n",
    "import logging\n",
    "from pymatgen.ext.matproj import MPRester\n",
    "from pymatgen.analysis.chemenv.coordination_environments.chemenv_strategies import SimplestChemenvStrategy, MultiWeightsChemenvStrategy\n",
    "from pymatgen.analysis.chemenv.coordination_environments.structure_environments import LightStructureEnvironments"
   ]
  },
  {
   "cell_type": "code",
   "execution_count": null,
   "metadata": {},
   "outputs": [],
   "source": [
    "import sys\n",
    "print(sys.path)"
   ]
  },
  {
   "cell_type": "code",
   "execution_count": null,
   "metadata": {},
   "outputs": [],
   "source": [
    "! which jupyter"
   ]
  },
  {
   "cell_type": "code",
   "execution_count": null,
   "metadata": {},
   "outputs": [],
   "source": [
    "! jupyter kernelspec list"
   ]
  },
  {
   "cell_type": "code",
   "execution_count": null,
   "metadata": {},
   "outputs": [],
   "source": []
  }
 ],
 "metadata": {
  "kernelspec": {
   "display_name": "my_pymatgen",
   "language": "python",
   "name": "my_pymatgen"
  },
  "language_info": {
   "codemirror_mode": {
    "name": "ipython",
    "version": 3
   },
   "file_extension": ".py",
   "mimetype": "text/x-python",
   "name": "python",
   "nbconvert_exporter": "python",
   "pygments_lexer": "ipython3",
   "version": "3.9.6"
  }
 },
 "nbformat": 4,
 "nbformat_minor": 4
}
