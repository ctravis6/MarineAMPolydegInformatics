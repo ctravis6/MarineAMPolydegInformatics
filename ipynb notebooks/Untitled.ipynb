{
 "cells": [
  {
   "cell_type": "code",
   "execution_count": 1,
   "id": "2cd8f376",
   "metadata": {},
   "outputs": [],
   "source": [
    "import numpy as np\n",
    "import pandas as pd\n",
    "import logging\n",
    "import ipywidgets as widgets\n",
    "import matplotlib.pyplot as plt"
   ]
  },
  {
   "cell_type": "code",
   "execution_count": 2,
   "id": "c3c2be79",
   "metadata": {},
   "outputs": [],
   "source": [
    "import tables"
   ]
  },
  {
   "cell_type": "code",
   "execution_count": 3,
   "id": "93210b10",
   "metadata": {},
   "outputs": [],
   "source": [
    "import sompy\n",
    "from sompy.sompy import SOMFactory"
   ]
  },
  {
   "cell_type": "code",
   "execution_count": 6,
   "id": "33e7c2b9",
   "metadata": {},
   "outputs": [
    {
     "ename": "ImportError",
     "evalue": "cannot import name 'sort_material' from 'tfprop_sompy.jupyter_integration.cluster_inspector' (/Users/carlytravis/opt/anaconda3/envs/my_pymatgen/lib/python3.9/site-packages/tfprop_sompy/jupyter_integration/cluster_inspector.py)",
     "output_type": "error",
     "traceback": [
      "\u001b[0;31m---------------------------------------------------------------------------\u001b[0m",
      "\u001b[0;31mImportError\u001b[0m                               Traceback (most recent call last)",
      "\u001b[0;32m/var/folders/ch/g3s490l17b78nnf3_r0mjqrw0000gn/T/ipykernel_6007/1042495149.py\u001b[0m in \u001b[0;36m<module>\u001b[0;34m\u001b[0m\n\u001b[0;32m----> 1\u001b[0;31m \u001b[0;32mfrom\u001b[0m \u001b[0mtfprop_sompy\u001b[0m\u001b[0;34m.\u001b[0m\u001b[0mjupyter_integration\u001b[0m\u001b[0;34m.\u001b[0m\u001b[0mcluster_inspector\u001b[0m \u001b[0;32mimport\u001b[0m \u001b[0msort_material\u001b[0m\u001b[0;34m\u001b[0m\u001b[0;34m\u001b[0m\u001b[0m\n\u001b[0m",
      "\u001b[0;31mImportError\u001b[0m: cannot import name 'sort_material' from 'tfprop_sompy.jupyter_integration.cluster_inspector' (/Users/carlytravis/opt/anaconda3/envs/my_pymatgen/lib/python3.9/site-packages/tfprop_sompy/jupyter_integration/cluster_inspector.py)"
     ]
    }
   ],
   "source": [
    "from tfprop_sompy.jupyter_integration.cluster_inspector import sort_material"
   ]
  },
  {
   "cell_type": "code",
   "execution_count": 5,
   "id": "b4e27677",
   "metadata": {},
   "outputs": [
    {
     "ename": "ImportError",
     "evalue": "cannot import name 'sh' from 'tfprop_sompy.tfprop_vis' (/Users/carlytravis/opt/anaconda3/envs/my_pymatgen/lib/python3.9/site-packages/tfprop_sompy/tfprop_vis.py)",
     "output_type": "error",
     "traceback": [
      "\u001b[0;31m---------------------------------------------------------------------------\u001b[0m",
      "\u001b[0;31mImportError\u001b[0m                               Traceback (most recent call last)",
      "\u001b[0;32m/var/folders/ch/g3s490l17b78nnf3_r0mjqrw0000gn/T/ipykernel_6007/2204329338.py\u001b[0m in \u001b[0;36m<module>\u001b[0;34m\u001b[0m\n\u001b[0;32m----> 1\u001b[0;31m \u001b[0;32mfrom\u001b[0m \u001b[0mtfprop_sompy\u001b[0m\u001b[0;34m.\u001b[0m\u001b[0mtfprop_vis\u001b[0m \u001b[0;32mimport\u001b[0m \u001b[0mrender_posmap_to_axes\u001b[0m\u001b[0;34m,\u001b[0m \u001b[0mkmeans_clust\u001b[0m\u001b[0;34m,\u001b[0m \u001b[0msh\u001b[0m\u001b[0;34m\u001b[0m\u001b[0;34m\u001b[0m\u001b[0m\n\u001b[0m",
      "\u001b[0;31mImportError\u001b[0m: cannot import name 'sh' from 'tfprop_sompy.tfprop_vis' (/Users/carlytravis/opt/anaconda3/envs/my_pymatgen/lib/python3.9/site-packages/tfprop_sompy/tfprop_vis.py)"
     ]
    }
   ],
   "source": [
    "from tfprop_sompy.tfprop_vis import render_posmap_to_axes, kmeans_clust, sh"
   ]
  },
  {
   "cell_type": "code",
   "execution_count": null,
   "id": "fa90a2b1",
   "metadata": {},
   "outputs": [],
   "source": [
    "# This makes all the loggers stay quiet unless it's important\n",
    "logging.getLogger().setLevel(logging.WARNING)"
   ]
  },
  {
   "cell_type": "code",
   "execution_count": null,
   "id": "3e4b6a0d",
   "metadata": {},
   "outputs": [],
   "source": [
    "## CONSTANTS\n",
    "# CODEBOOK_FILE = 'som_codemat_4props_trial1_19-05-20.h5'\n",
    "# CODEBOOK_FILE = 'som_codemat_22props_tinybaby_19-05-20.h5'\n",
    "# CODEBOOK_FILE = 'som_codemat_22props_tinybaby_19-05-20.h5'\n",
    "# CODEBOOK_FILE = 'som_codemat_22props_tinybaby_19-05-20.h5'\n",
    "# CODEBOOK_FILE = 'som_codemat_22props_tinybaby2_19-05-20.h5'\n",
    "# CODEBOOK_FILE = 'som_codemat_22props_tinybaby_19-05-20.h5'\n",
    "# CODEBOOK_FILE = 'som_codemat_6props_19-11-19.h5'\n",
    "\n",
    "#CODEBOOK_FILE = 'som_codemat_7props_20-01-16.h5'\n",
    "CODEBOOK_FILE = 'som_codemat_3props_20-02-04.h5'\n",
    "\n",
    "# CODEBOOK_FILE = 'som_codemat_23props_19-03-01.h5'\n",
    "KM_CLUSTERS = 5"
   ]
  },
  {
   "cell_type": "code",
   "execution_count": null,
   "id": "4c14c942",
   "metadata": {},
   "outputs": [],
   "source": [
    "stored_cb_matrix = pd.read_hdf(CODEBOOK_FILE, 'sm_codebook_matrix')\n",
    "stored_mapsize = pd.read_hdf(CODEBOOK_FILE, 'sm_codebook_mapsize').values\n",
    "mats_df = pd.read_hdf(CODEBOOK_FILE, 'sm_data')\n",
    "\n",
    "# FIXME:\n",
    "# We do a hack using the \"pytables\" library in order to extract the information\n",
    "# For some reason pandas doesn't like to read object series out of h5 files\n",
    "stored_columns = None\n",
    "stored_matfamilies = None\n",
    "with tables.open_file(CODEBOOK_FILE, \"r\") as store:\n",
    "    # We normally get byte strings from this\n",
    "    # The mapping operation turns them all into unicode strings ready for presentation\n",
    "    stored_columns = list(map(lambda x: x.decode('utf-8'), store.root.sm_codebook_columns.property_names.read()))\n",
    "    stored_matfamilies = list(map(lambda x: x, store.root.sm_codebook_matfamilies.material_families.read()))\n",
    "mats_df[\"Row\"] = stored_matfamilies\n",
    "sm = SOMFactory.build(mats_df[stored_columns].values, \n",
    "                mapsize=(*stored_mapsize,),\n",
    "                normalization=\"var\", \n",
    "                initialization=\"pca\", \n",
    "                component_names=stored_columns)\n",
    "sm.codebook.matrix = stored_cb_matrix.values"
   ]
  },
  {
   "cell_type": "code",
   "execution_count": null,
   "id": "b4011768",
   "metadata": {},
   "outputs": [],
   "source": [
    "def create_posmap(mysom: sompy.sompy.SOM, num_clusters: int=KM_CLUSTERS):\n",
    "    cl_labels = kmeans_clust(mysom, n_clusters=num_clusters)\n",
    "\n",
    "    # plot positioning map with clustered groups\n",
    "    show_posmap(mysom, mats_name_df, mats_name_df,\n",
    "                num_clusters, cl_labels,\n",
    "                show_data=False, labels=False)"
   ]
  },
  {
   "cell_type": "code",
   "execution_count": null,
   "id": "98fd9801",
   "metadata": {},
   "outputs": [],
   "source": [
    "cl_labels = kmeans_clust(sm, KM_CLUSTERS)"
   ]
  },
  {
   "cell_type": "code",
   "execution_count": null,
   "id": "bc148979",
   "metadata": {},
   "outputs": [],
   "source": [
    "heatmap_size = (20, 20)\n",
    "heatmap_col_sz = 4\n",
    "gauss_alpha = None\n",
    "\n",
    "cmap = plt.get_cmap('RdYlBu_r')  # set color map\n",
    "viewTFP = ViewTFP(*heatmap_size, '', stdev_colorscale_coeff=1., text_size=14)"
   ]
  },
  {
   "cell_type": "code",
   "execution_count": null,
   "id": "37530c47",
   "metadata": {},
   "outputs": [],
   "source": [
    "my_out = widgets.Output()\n",
    "\n",
    "# No scaling\n",
    "viewTFP.knee_value = 0.0\n",
    "with my_out:\n",
    "    print(\"Linear scaling\")\n",
    "    viewTFP.show(sm, cl_labels, col_sz=heatmap_col_sz,\n",
    "                         which_dim='all', desnormalize=True, col_norm='mean',\n",
    "                         cmap=cmap, isOutHtmap=False)\n",
    "my_out"
   ]
  },
  {
   "cell_type": "code",
   "execution_count": null,
   "id": "8df67801",
   "metadata": {},
   "outputs": [],
   "source": [
    "my_out = widgets.Output()\n",
    "cmap = plt.get_cmap('RdYlBu_r')  # set color map\n",
    "\n",
    "# No scaling\n",
    "viewTFP.knee_value = 0.0\n",
    "with my_out:\n",
    "    print(\"Log scaling\")\n",
    "    viewTFP.show(sm, cl_labels, col_sz=heatmap_col_sz,\n",
    "                         which_dim='all', desnormalize=True, col_norm='mean',\n",
    "                         cmap=cmap, normalizer=\"log\")\n",
    "my_out"
   ]
  },
  {
   "cell_type": "code",
   "execution_count": null,
   "id": "f112a256",
   "metadata": {},
   "outputs": [],
   "source": [
    "## %matplotlib inline\n",
    "my_dataframe = mats_df\n",
    "clusters_list = sort_materials_by_cluster(sm, my_dataframe, cl_labels)\n",
    "\n",
    "# This makes it so it will display the full lists\n",
    "pd.set_option('display.max_rows', 2000)\n",
    "pd.set_option('display.max_columns', 50)\n",
    "pd.set_option('display.width', 1000)\n",
    "\n",
    "# This should be the last statement of the cell, to make it display\n",
    "# That, or assign the return value to a variable, and have that variable be the final expression in a cell\n",
    "cluster_tabs(sm, my_dataframe, clusters_list, cl_labels)"
   ]
  },
  {
   "cell_type": "code",
   "execution_count": null,
   "id": "24666eae",
   "metadata": {},
   "outputs": [],
   "source": [
    "from tfprop_sompy.jupyter_integration.cluster_inspector import make_cluster_graph\n",
    "from tfprop_sompy.tfprop_vis import dataframe_to_coords, render_points_to_axes\n",
    "\n",
    "fig, ax = make_cluster_graph(sm, cl_labels)\n",
    "clusteringmap_category(ax, sm, KM_CLUSTERS, my_dataframe, \"Top_Film_(Coded)\", my_dataframe[\"Row\"], 'plot.png')"
   ]
  },
  {
   "cell_type": "code",
   "execution_count": null,
   "id": "d9c60fda",
   "metadata": {},
   "outputs": [],
   "source": [
    "from tfprop_sompy.tfprop_vis import UMatrixTFP\n",
    "\n",
    "umat_size = (50, 50)\n",
    "\n",
    "umat = UMatrixTFP(*umat_size, 'U-matrix')\n",
    "\n",
    "umat.show(sm, my_dataframe, my_dataframe, cmap=cmap)\n",
    "None"
   ]
  },
  {
   "cell_type": "code",
   "execution_count": null,
   "id": "e453e7db",
   "metadata": {},
   "outputs": [],
   "source": [
    "sm.calculate_quantization_error()"
   ]
  },
  {
   "cell_type": "code",
   "execution_count": null,
   "id": "0f6df201",
   "metadata": {},
   "outputs": [],
   "source": [
    "sm.calculate_topographic_error()"
   ]
  },
  {
   "cell_type": "code",
   "execution_count": null,
   "id": "ca8c2d61",
   "metadata": {},
   "outputs": [],
   "source": [
    "# Run cells below this one manually\n",
    "assert False"
   ]
  },
  {
   "cell_type": "code",
   "execution_count": null,
   "id": "878da034",
   "metadata": {},
   "outputs": [],
   "source": [
    "plt.hist(my_dataframe[\"Fracture_toughness\"])"
   ]
  },
  {
   "cell_type": "code",
   "execution_count": null,
   "id": "3f8a78e8",
   "metadata": {},
   "outputs": [],
   "source": [
    "from tfprop_sompy.jupyter_integration.cluster_inspector import make_cluster_graph\n",
    "from tfprop_sompy.tfprop_vis import dataframe_to_coords, render_points_to_axes"
   ]
  },
  {
   "cell_type": "code",
   "execution_count": null,
   "id": "3f700ff9",
   "metadata": {},
   "outputs": [],
   "source": [
    "fig, ax = make_cluster_graph(sm, cl_labels)"
   ]
  },
  {
   "cell_type": "code",
   "execution_count": null,
   "id": "c6f995d2",
   "metadata": {},
   "outputs": [],
   "source": [
    "# Replace mats_list_copper with an appropriate list of materials you want to look at\n",
    "render_points_to_axes(ax, dataframe_to_coords(sm, my_dataframe.loc[my_dataframe.filter(rege"
   ]
  },
  {
   "cell_type": "code",
   "execution_count": null,
   "id": "8688daa3",
   "metadata": {},
   "outputs": [],
   "source": [
    "fig"
   ]
  },
  {
   "cell_type": "code",
   "execution_count": null,
   "id": "cb42b31c",
   "metadata": {},
   "outputs": [],
   "source": [
    "fig, ax = make_cluster_graph(sm, cl_labels)"
   ]
  },
  {
   "cell_type": "code",
   "execution_count": null,
   "id": "77f1d118",
   "metadata": {},
   "outputs": [],
   "source": [
    "# Replace mats_list_copper with an appropriate list of materials you want to look at\n",
    "\n",
    "render_points_to_axes(ax, dataframe_to_coords(sm, my_dataframe))#.loc[my_dataframe.filter(regex=\"[Cc]arbon [Ss]teel\", axis=\"index\").index]))\n",
    "\n",
    "#render_posmap_to_axes(ax, sm, my_dataframe, my_dataframe, KM_CLUSTERS, cl_labels, show_data=True, labels=True)\n"
   ]
  },
  {
   "cell_type": "code",
   "execution_count": null,
   "id": "e7cc8e71",
   "metadata": {},
   "outputs": [],
   "source": [
    "fig"
   ]
  },
  {
   "cell_type": "code",
   "execution_count": null,
   "id": "c95c18b7",
   "metadata": {},
   "outputs": [],
   "source": [
    "crds = dataframe_to_coords"
   ]
  },
  {
   "cell_type": "code",
   "execution_count": null,
   "id": "a60514b6",
   "metadata": {},
   "outputs": [],
   "source": [
    "type(my_dataframe)"
   ]
  },
  {
   "cell_type": "code",
   "execution_count": null,
   "id": "40b31226",
   "metadata": {},
   "outputs": [],
   "source": [
    "my_dataframe.filter(clusters_list[3], axis='index')"
   ]
  },
  {
   "cell_type": "code",
   "execution_count": null,
   "id": "b22849cf",
   "metadata": {},
   "outputs": [],
   "source": [
    "from importlib import reload\n",
    "from tfprop_sompy.jupyter_integration import cluster_inspector\n",
    "reload(cluster_inspector)\n",
    "from tfprop_sompy.jupyter_integration.cluster_inspector import sort_materials_by_cluster, cluster_tabs\n",
    "None\n",
    "from tfprop_sompy import tfprop_vis\n",
    "reload(tfprop_vis)\n",
    "None"
   ]
  },
  {
   "cell_type": "code",
   "execution_count": null,
   "id": "94a5b750",
   "metadata": {},
   "outputs": [],
   "source": [
    "sm.project_data(my_dataframe[stored_columns].values)\n",
    "np.all(sm.project_data(sm.data_raw) == sm.project_data(my_dataframe[stored_columns].values))"
   ]
  },
  {
   "cell_type": "code",
   "execution_count": null,
   "id": "7db1461e",
   "metadata": {},
   "outputs": [],
   "source": [
    "my_dataframe[stored_columns].values.shape\n",
    "my_dataframe.filter(regex=\"[Cc]admium\", axis=\"index\")"
   ]
  },
  {
   "cell_type": "code",
   "execution_count": null,
   "id": "0b4ae6fa",
   "metadata": {},
   "outputs": [],
   "source": [
    "my_dataframe.loc[my_dataframe.groupby(\"Material_family\").groups['Metal (ferrous)']]\n",
    "pd.Index([])\n",
    "grouped_index = pd.Index([])\n",
    "grouped_df = my_dataframe.groupby(\"Material_family\")\n",
    "for (matgroup, indices) in grouped_df.groups.items():\n",
    "    if matgroup.startswith(\"Metal\"):\n",
    "        # \n",
    "        grouped_index = pd.Index([*grouped_index, *grouped_df.groups[matgroup]])\n",
    "\n",
    "my_dataframe.loc[grouped_index]"
   ]
  },
  {
   "cell_type": "code",
   "execution_count": null,
   "id": "b3334a6c",
   "metadata": {},
   "outputs": [],
   "source": [
    "sm.bmu_ind_to_xy(sm.project_data(my_dataframe.filter(regex=\"cadmium\", axis=\"index\")[stored_columns].values))\n",
    "mats_list = list(my_dataframe.filter(regex=\"[Cc]opper\", axis=\"index\").index)\n",
    "from tfprop_sompy.utils.data import calculate_SOM_radius, calculate_euclidean_radius\n",
    "mats_list_copper = list(my_dataframe.filter(regex=\"([Cc]opper|Cu[^s])\", axis=\"index\").index)\n",
    "mats_list_steel = list(my_dataframe.filter(regex=\"[Ss]teel\", axis=\"index\").index)\n",
    "mats_list_cadmium = list(my_dataframe.filter(regex=\"[Cc]admium\", axis=\"index\").index)\n",
    "mats_list_cadmium\n",
    "mats_list_unlike = mats_list_copper + mats_list_steel"
   ]
  },
  {
   "cell_type": "code",
   "execution_count": null,
   "id": "d52466f6",
   "metadata": {},
   "outputs": [],
   "source": [
    "from importlib import reload\n",
    "from tfprop_sompy.utils import data\n",
    "reload(data)\n",
    "from tfprop_sompy.utils.data import calculate_SOM_radius, calculate_euclidean_radius\n",
    "None"
   ]
  },
  {
   "cell_type": "code",
   "execution_count": null,
   "id": "5b13f556",
   "metadata": {},
   "outputs": [],
   "source": [
    "%timeit calculate_SOM_radius(my_dataframe, mats_list_copper, sm)"
   ]
  },
  {
   "cell_type": "code",
   "execution_count": null,
   "id": "ccf050d4",
   "metadata": {},
   "outputs": [],
   "source": [
    "%timeit calculate_euclidean_radius(my_dataframe, mats_list_copper, stored_columns)"
   ]
  },
  {
   "cell_type": "code",
   "execution_count": null,
   "id": "299a7617",
   "metadata": {},
   "outputs": [],
   "source": [
    "import itertools\n",
    "def powerset(iterable):\n",
    "    \"powerset([1,2,3]) --> () (1,) (2,) (3,) (1,2) (1,3) (2,3) (1,2,3)\"\n",
    "    s = list(iterable)\n",
    "    return itertools.chain.from_iterable(itertools.combinations(s, r) for r in range(len(s)+1))\n",
    "for thing in powerset(stored_columns):\n",
    "    print(thing)"
   ]
  },
  {
   "cell_type": "code",
   "execution_count": null,
   "id": "baedca8a",
   "metadata": {},
   "outputs": [],
   "source": [
    "calculate_SOM_radius(my_dataframe, mats_list_steel, sm)"
   ]
  }
 ],
 "metadata": {
  "kernelspec": {
   "display_name": "my_pymatgen",
   "language": "python",
   "name": "my_pymatgen"
  },
  "language_info": {
   "codemirror_mode": {
    "name": "ipython",
    "version": 3
   },
   "file_extension": ".py",
   "mimetype": "text/x-python",
   "name": "python",
   "nbconvert_exporter": "python",
   "pygments_lexer": "ipython3",
   "version": "3.9.6"
  }
 },
 "nbformat": 4,
 "nbformat_minor": 5
}
